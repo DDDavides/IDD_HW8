{
 "cells": [
  {
   "cell_type": "code",
   "execution_count": 2,
   "metadata": {},
   "outputs": [],
   "source": [
    "import os\n",
    "import pandas as pd\n",
    "\n",
    "ari = dict()\n",
    "comp = dict()\n",
    "for file in os.listdir(\".\"):\n",
    "    if file.split(\".\")[-1] != \"csv\":\n",
    "        continue\n",
    "    if file.split(\"-\")[1] == \"ariregister.rik.ee.csv\":\n",
    "        ari[file.split(\"-\")[0]] = pd.read_csv(file)\n",
    "    if file.split(\"-\")[1] == \"companiesmarketcap.com.csv\":\n",
    "        comp[file.split(\"-\")[0]] = pd.read_csv(file)"
   ]
  },
  {
   "cell_type": "code",
   "execution_count": 3,
   "metadata": {},
   "outputs": [
    {
     "name": "stdout",
     "output_type": "stream",
     "text": [
      "Index(['ID azienda', 'Area of Activity', 'EMTAK Code', 'NACE Code', 'Source'], dtype='object')\n",
      "Index(['URL', 'ID', 'Name', 'Code', 'Legal form', 'Status',\n",
      "       'Registration Date', 'Capital', 'Address', 'Deletion Date'],\n",
      "      dtype='object')\n",
      "dict_keys(['categorie', 'aziende'])\n"
     ]
    }
   ],
   "source": [
    "print(comp.keys())"
   ]
  },
  {
   "cell_type": "code",
   "execution_count": 27,
   "metadata": {},
   "outputs": [],
   "source": [
    "merged = ari[\"aziende\"].merge(ari[\"activity\"], left_on='ID', right_on='ID azienda').merge(ari[\"rappresentanti\"], left_on='ID', right_on='ID azienda').merge(ari[\"partners\"], left_on='ID', right_on='ID azienda')\n",
    "merged = merged.drop(columns=[\"ID azienda_x\", \"ID azienda_y\", \"ID azienda\"])\n",
    "\n",
    "companies = comp[\"aziende\"].merge(comp[\"categorie\"], left_on='ID', right_on='Company ID') \n",
    "companies = companies.drop(columns=[\"Company ID\", \"Unnamed: 0\"])"
   ]
  },
  {
   "cell_type": "code",
   "execution_count": 28,
   "metadata": {},
   "outputs": [
    {
     "name": "stdout",
     "output_type": "stream",
     "text": [
      "Index(['URL', 'ID', 'Name', 'Company code', 'Marketcap', 'Share price',\n",
      "       'Earnings', 'Revenue', 'Shares', 'Employees', 'Category', 'Hash'],\n",
      "      dtype='object')\n"
     ]
    }
   ],
   "source": [
    "print(companies.keys())"
   ]
  },
  {
   "cell_type": "code",
   "execution_count": 29,
   "metadata": {},
   "outputs": [],
   "source": [
    "merged.to_csv(\"./ariregister.rik.ee.csv\")\n",
    "companies.to_csv(\"./companiesmarketcap.com.csv\")"
   ]
  }
 ],
 "metadata": {
  "kernelspec": {
   "display_name": "IDD",
   "language": "python",
   "name": "python3"
  },
  "language_info": {
   "codemirror_mode": {
    "name": "ipython",
    "version": 3
   },
   "file_extension": ".py",
   "mimetype": "text/x-python",
   "name": "python",
   "nbconvert_exporter": "python",
   "pygments_lexer": "ipython3",
   "version": "3.10.9"
  },
  "orig_nbformat": 4,
  "vscode": {
   "interpreter": {
    "hash": "7ce6619c7d95fa66adab3aa560eb20f28a01e1f23fb927f9fbc92f5fa3f739e8"
   }
  }
 },
 "nbformat": 4,
 "nbformat_minor": 2
}
