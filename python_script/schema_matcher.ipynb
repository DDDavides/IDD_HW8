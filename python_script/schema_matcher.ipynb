{
 "cells": [
  {
   "cell_type": "code",
   "execution_count": 11,
   "metadata": {},
   "outputs": [],
   "source": [
    "from valentine import valentine_match, valentine_metrics\n",
    "from valentine.algorithms import Coma\n",
    "from valentine.algorithms import Cupid\n",
    "import os\n",
    "import multiprocessing as mp\n",
    "from multiprocessing import Pool\n",
    "import time\n",
    "import pandas as pd\n",
    "from compute_match import *"
   ]
  },
  {
   "cell_type": "code",
   "execution_count": 2,
   "metadata": {},
   "outputs": [],
   "source": [
    "path = \"../json_datasets\"\n",
    "\n",
    "data_frames = {}\n",
    "for file in os.listdir(path):\n",
    "    filepath = f\"{path}/{file}\"\n",
    "    data_frames[file] = (pd.read_json(filepath))"
   ]
  },
  {
   "cell_type": "code",
   "execution_count": 3,
   "metadata": {},
   "outputs": [],
   "source": [
    "keys = list(data_frames.keys())\n",
    "tuples = []\n",
    "dfs_len = len(keys)\n",
    "for i in range(dfs_len):\n",
    "    for j in range(i + 1, dfs_len):\n",
    "        dfl = data_frames[keys[i]]\n",
    "        dfr = data_frames[keys[j]]\n",
    "        tuples.append((keys[i], keys[j], dfl, dfr))"
   ]
  },
  {
   "cell_type": "code",
   "execution_count": 4,
   "metadata": {},
   "outputs": [
    {
     "name": "stdout",
     "output_type": "stream",
     "text": [
      "Program finished!\n"
     ]
    }
   ],
   "source": [
    "start_time = time.perf_counter()\n",
    "with Pool() as pool:\n",
    "    result = pool.map(calculate_match_coma_schema, tuples)\n",
    "print(\"Program finished!\")\n",
    "finish_time = time.perf_counter()"
   ]
  },
  {
   "cell_type": "code",
   "execution_count": 8,
   "metadata": {},
   "outputs": [
    {
     "name": "stdout",
     "output_type": "stream",
     "text": [
      "[('Silvestri-value.today.json', 'Gren-disfold.com.json', {}), ('Silvestri-value.today.json', 'Wissel-ariregister.rik.ee.json', {}), ('Silvestri-value.today.json', 'MalPatSaj-disfold.com.json', {}), ('Silvestri-value.today.json', 'DDD-ft.com.json', {}), ('Gren-disfold.com.json', 'Wissel-ariregister.rik.ee.json', {}), ('Gren-disfold.com.json', 'MalPatSaj-disfold.com.json', {(('table_1', 'industry'), ('table_2', 'Industry')): 0.9352676, (('table_1', 'country'), ('table_2', 'Country')): 0.9333069, (('table_1', 'sector'), ('table_2', 'Sector')): 0.931101, (('table_1', 'stock'), ('table_2', 'Stock')): 0.9279007, (('table_1', 'name'), ('table_2', 'Name')): 0.9257439, (('table_1', 'market_capitalization_USD'), ('table_2', 'MarketCap')): 0.4048583}), ('Gren-disfold.com.json', 'DDD-ft.com.json', {}), ('Wissel-ariregister.rik.ee.json', 'MalPatSaj-disfold.com.json', {}), ('Wissel-ariregister.rik.ee.json', 'DDD-ft.com.json', {}), ('MalPatSaj-disfold.com.json', 'DDD-ft.com.json', {})]\n",
      "                 table_1                     table_2  \\\n",
      "0  Gren-disfold.com.json  MalPatSaj-disfold.com.json   \n",
      "1  Gren-disfold.com.json  MalPatSaj-disfold.com.json   \n",
      "2  Gren-disfold.com.json  MalPatSaj-disfold.com.json   \n",
      "3  Gren-disfold.com.json  MalPatSaj-disfold.com.json   \n",
      "4  Gren-disfold.com.json  MalPatSaj-disfold.com.json   \n",
      "5  Gren-disfold.com.json  MalPatSaj-disfold.com.json   \n",
      "\n",
      "              column_table_1 column_table_2  match_value  \n",
      "0                   industry       Industry     0.935268  \n",
      "1                    country        Country     0.933307  \n",
      "2                     sector         Sector     0.931101  \n",
      "3                      stock          Stock     0.927901  \n",
      "4                       name           Name     0.925744  \n",
      "5  market_capitalization_USD      MarketCap     0.404858  \n"
     ]
    }
   ],
   "source": [
    "columns = [\"table_1\", \"table_2\", \"column_table_1\", \"column_table_2\", \"match_value\"]\n",
    "matches = pd.DataFrame(columns=columns)\n",
    "print(result)\n",
    "for res in result:\n",
    "    for key in res[2].keys():\n",
    "        d = dict()\n",
    "        d[\"table_1\"] = res[0]\n",
    "        d[\"table_2\"] = res[1]\n",
    "        d[\"column_table_1\"] = key[0][1]\n",
    "        d[\"column_table_2\"] = key[1][1]\n",
    "        d[\"match_value\"] = res[2][key]\n",
    "        matches = pd.concat([matches, pd.DataFrame(d, index=[0])], ignore_index=True)\n",
    "print(matches)"
   ]
  },
  {
   "cell_type": "code",
   "execution_count": 6,
   "metadata": {},
   "outputs": [
    {
     "name": "stdout",
     "output_type": "stream",
     "text": [
      "{'Gren-disfold.com.json': 6}\n"
     ]
    }
   ],
   "source": [
    "table_to_matches = dict()\n",
    "for table in matches['table_1']:\n",
    "    if table_to_matches.get(table) == None:\n",
    "        table_to_matches[table] = 0\n",
    "    table_to_matches[table] += 1\n",
    "print(table_to_matches)"
   ]
  },
  {
   "cell_type": "code",
   "execution_count": 12,
   "metadata": {},
   "outputs": [
    {
     "ename": "AttributeError",
     "evalue": "'list' object has no attribute 'values'",
     "output_type": "error",
     "traceback": [
      "\u001b[0;31m---------------------------------------------------------------------------\u001b[0m",
      "\u001b[0;31mAttributeError\u001b[0m                            Traceback (most recent call last)",
      "Cell \u001b[0;32mIn[12], line 2\u001b[0m\n\u001b[1;32m      1\u001b[0m ground_truth \u001b[39m=\u001b[39m [(\u001b[39m'\u001b[39m\u001b[39mname\u001b[39m\u001b[39m'\u001b[39m, \u001b[39m'\u001b[39m\u001b[39mName\u001b[39m\u001b[39m'\u001b[39m), (\u001b[39m'\u001b[39m\u001b[39mName\u001b[39m\u001b[39m'\u001b[39m, \u001b[39m'\u001b[39m\u001b[39mName\u001b[39m\u001b[39m'\u001b[39m)]\n\u001b[0;32m----> 2\u001b[0m metrics \u001b[39m=\u001b[39m valentine_metrics\u001b[39m.\u001b[39;49mall_metrics(result, ground_truth)\n\u001b[1;32m      4\u001b[0m \u001b[39mprint\u001b[39m(metrics)\n",
      "File \u001b[0;32m/opt/homebrew/Caskroom/miniconda/base/envs/IDD/lib/python3.10/site-packages/valentine/metrics/__init__.py:19\u001b[0m, in \u001b[0;36mall_metrics\u001b[0;34m(matches, golden_standard)\u001b[0m\n\u001b[1;32m     17\u001b[0m \u001b[39mfor\u001b[39;00m metric \u001b[39min\u001b[39;00m metric_fns:\n\u001b[1;32m     18\u001b[0m     \u001b[39mif\u001b[39;00m metric\u001b[39m.\u001b[39m\u001b[39m__name__\u001b[39m \u001b[39m!=\u001b[39m \u001b[39m\"\u001b[39m\u001b[39mprecision_at_n_percent\u001b[39m\u001b[39m\"\u001b[39m:\n\u001b[0;32m---> 19\u001b[0m         final_metrics[metric\u001b[39m.\u001b[39m\u001b[39m__name__\u001b[39m] \u001b[39m=\u001b[39m metric(matches, golden_standard)\n\u001b[1;32m     20\u001b[0m     \u001b[39melse\u001b[39;00m:\n\u001b[1;32m     21\u001b[0m         \u001b[39mfor\u001b[39;00m n \u001b[39min\u001b[39;00m metrics[\u001b[39m'\u001b[39m\u001b[39margs\u001b[39m\u001b[39m'\u001b[39m][\u001b[39m'\u001b[39m\u001b[39mn\u001b[39m\u001b[39m'\u001b[39m]:\n",
      "File \u001b[0;32m/opt/homebrew/Caskroom/miniconda/base/envs/IDD/lib/python3.10/site-packages/valentine/metrics/metrics.py:169\u001b[0m, in \u001b[0;36mprecision\u001b[0;34m(matches, golden_standard, one_to_one)\u001b[0m\n\u001b[1;32m    150\u001b[0m \u001b[39m\"\"\"\u001b[39;00m\n\u001b[1;32m    151\u001b[0m \u001b[39mFunction that calculates the precision of the matches against the golden standard. If one_to_one is set to true, it\u001b[39;00m\n\u001b[1;32m    152\u001b[0m \u001b[39malso performs an 1-1 match filer. Meaning that each column will match only with another one.\u001b[39;00m\n\u001b[0;32m   (...)\u001b[0m\n\u001b[1;32m    166\u001b[0m \u001b[39m    The precision\u001b[39;00m\n\u001b[1;32m    167\u001b[0m \u001b[39m\"\"\"\u001b[39;00m\n\u001b[1;32m    168\u001b[0m \u001b[39mif\u001b[39;00m one_to_one:\n\u001b[0;32m--> 169\u001b[0m     matches \u001b[39m=\u001b[39m one_to_one_matches(matches)\n\u001b[1;32m    170\u001b[0m tp, fn \u001b[39m=\u001b[39m get_tp_fn(matches, golden_standard)\n\u001b[1;32m    171\u001b[0m fp \u001b[39m=\u001b[39m get_fp(matches, golden_standard)\n",
      "File \u001b[0;32m/opt/homebrew/Caskroom/miniconda/base/envs/IDD/lib/python3.10/site-packages/valentine/metrics/metrics.py:20\u001b[0m, in \u001b[0;36mone_to_one_matches\u001b[0;34m(matches)\u001b[0m\n\u001b[1;32m      5\u001b[0m \u001b[39mdef\u001b[39;00m \u001b[39mone_to_one_matches\u001b[39m(matches: \u001b[39mdict\u001b[39m):\n\u001b[1;32m      6\u001b[0m     \u001b[39m\"\"\"\u001b[39;00m\n\u001b[1;32m      7\u001b[0m \u001b[39m    A filter that takes a dict of column matches and returns a dict of 1 to 1 matches. The filter works in the following\u001b[39;00m\n\u001b[1;32m      8\u001b[0m \u001b[39m    way: At first it gets the median similarity of the set of the values and removes all matches\u001b[39;00m\n\u001b[0;32m   (...)\u001b[0m\n\u001b[1;32m     18\u001b[0m \u001b[39m        The ranked list of matches after the 1 to 1 filter\u001b[39;00m\n\u001b[1;32m     19\u001b[0m \u001b[39m    \"\"\"\u001b[39;00m\n\u001b[0;32m---> 20\u001b[0m     set_match_values \u001b[39m=\u001b[39m \u001b[39mset\u001b[39m(matches\u001b[39m.\u001b[39;49mvalues())\n\u001b[1;32m     22\u001b[0m     \u001b[39mif\u001b[39;00m \u001b[39mlen\u001b[39m(set_match_values) \u001b[39m<\u001b[39m \u001b[39m2\u001b[39m:\n\u001b[1;32m     23\u001b[0m         \u001b[39mreturn\u001b[39;00m matches\n",
      "\u001b[0;31mAttributeError\u001b[0m: 'list' object has no attribute 'values'"
     ]
    }
   ],
   "source": [
    "ground_truth = [('name', 'Name'), ('Name', 'Name')]\n",
    "metrics = valentine_metrics.all_metrics(result, ground_truth)\n",
    "\n",
    "print(metrics)"
   ]
  },
  {
   "cell_type": "code",
   "execution_count": 7,
   "metadata": {},
   "outputs": [],
   "source": [
    "pd.DataFrame(matches).to_csv(\"./instance_matches.csv\")"
   ]
  }
 ],
 "metadata": {
  "kernelspec": {
   "display_name": "IDD",
   "language": "python",
   "name": "python3"
  },
  "language_info": {
   "codemirror_mode": {
    "name": "ipython",
    "version": 3
   },
   "file_extension": ".py",
   "mimetype": "text/x-python",
   "name": "python",
   "nbconvert_exporter": "python",
   "pygments_lexer": "ipython3",
   "version": "3.10.9"
  },
  "orig_nbformat": 4,
  "vscode": {
   "interpreter": {
    "hash": "7ce6619c7d95fa66adab3aa560eb20f28a01e1f23fb927f9fbc92f5fa3f739e8"
   }
  }
 },
 "nbformat": 4,
 "nbformat_minor": 2
}
