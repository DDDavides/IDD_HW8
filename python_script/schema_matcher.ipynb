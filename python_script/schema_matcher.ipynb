{
 "cells": [
  {
   "cell_type": "code",
   "execution_count": 1,
   "metadata": {},
   "outputs": [],
   "source": [
    "from valentine import valentine_match\n",
    "from valentine.algorithms import Coma\n",
    "from valentine.algorithms import Cupid\n",
    "import os\n",
    "import multiprocessing as mp\n",
    "from multiprocessing import Pool\n",
    "import time\n",
    "import pandas as pd\n",
    "from compute_match import *"
   ]
  },
  {
   "cell_type": "code",
   "execution_count": 2,
   "metadata": {},
   "outputs": [],
   "source": [
    "path = \"../json_datasets\"\n",
    "\n",
    "data_frames = {}\n",
    "for file in os.listdir(path):\n",
    "    filepath = f\"{path}/{file}\"\n",
    "    data_frames[file] = (pd.read_json(filepath))"
   ]
  },
  {
   "cell_type": "code",
   "execution_count": 3,
   "metadata": {},
   "outputs": [],
   "source": [
    "keys = list(data_frames.keys())\n",
    "tuples = []\n",
    "dfs_len = len(keys)\n",
    "for i in range(dfs_len):\n",
    "    for j in range(i + 1, dfs_len):\n",
    "        dfl = data_frames[keys[i]]\n",
    "        dfr = data_frames[keys[j]]\n",
    "        tuples.append((keys[i], keys[j], dfl, dfr))"
   ]
  },
  {
   "cell_type": "code",
   "execution_count": 4,
   "metadata": {},
   "outputs": [
    {
     "name": "stdout",
     "output_type": "stream",
     "text": [
      "Program finished!\n"
     ]
    }
   ],
   "source": [
    "start_time = time.perf_counter()\n",
    "with Pool() as pool:\n",
    "    result = pool.map(calculate_match, tuples)\n",
    "print(\"Program finished!\")\n",
    "finish_time = time.perf_counter()"
   ]
  },
  {
   "cell_type": "code",
   "execution_count": 5,
   "metadata": {},
   "outputs": [
    {
     "name": "stdout",
     "output_type": "stream",
     "text": [
      "                          table_1                     table_2  \\\n",
      "0      Silvestri-value.today.json       Gren-disfold.com.json   \n",
      "1      Silvestri-value.today.json       Gren-disfold.com.json   \n",
      "2      Silvestri-value.today.json       Gren-disfold.com.json   \n",
      "3      Silvestri-value.today.json       Gren-disfold.com.json   \n",
      "4      Silvestri-value.today.json       Gren-disfold.com.json   \n",
      "...                           ...                         ...   \n",
      "5489  FR-company_social_urls.json  GioPonSpiz-marketCap2.json   \n",
      "5490  FR-company_social_urls.json       FR-campaignindia.json   \n",
      "5491  FR-company_social_urls.json       FR-campaignindia.json   \n",
      "5492   GioPonSpiz-marketCap2.json       FR-campaignindia.json   \n",
      "5493   GioPonSpiz-marketCap2.json       FR-campaignindia.json   \n",
      "\n",
      "             column_table_1             column_table_2  match_value  \n",
      "0                   country                    country     0.837446  \n",
      "1                    sector                     sector     0.834688  \n",
      "2                      name                       name     0.827992  \n",
      "3     market_value_jan_2020  market_capitalization_USD     0.362472  \n",
      "4     market_value_jan_2021  market_capitalization_USD     0.362472  \n",
      "...                     ...                        ...          ...  \n",
      "5489              Pinterest                      price     0.177069  \n",
      "5490                Company                   CATEGORY     0.234402  \n",
      "5491               Facebook                       RANK     0.201013  \n",
      "5492                   name                 BRAND NAME     0.427408  \n",
      "5493                country                   CATEGORY     0.315601  \n",
      "\n",
      "[5494 rows x 5 columns]\n"
     ]
    }
   ],
   "source": [
    "columns = [\"table_1\", \"table_2\", \"column_table_1\", \"column_table_2\", \"match_value\"]\n",
    "matches = pd.DataFrame(columns=columns)\n",
    "\n",
    "for res in result:\n",
    "    for key in res[2].keys():\n",
    "        d = dict()\n",
    "        d[\"table_1\"] = res[0]\n",
    "        d[\"table_2\"] = res[1]\n",
    "        d[\"column_table_1\"] = key[0][1]\n",
    "        d[\"column_table_2\"] = key[1][1]\n",
    "        d[\"match_value\"] = res[2][key]\n",
    "        matches = pd.concat([matches, pd.DataFrame(d, index=[0])], ignore_index=True)\n",
    "print(matches)"
   ]
  },
  {
   "cell_type": "code",
   "execution_count": 6,
   "metadata": {},
   "outputs": [
    {
     "name": "stdout",
     "output_type": "stream",
     "text": [
      "{'Silvestri-value.today.json': 251, 'Gren-disfold.com.json': 202, 'Wissel-ariregister.rik.ee.json': 231, 'MalPatSaj-disfold.com.json': 186, 'DDD-ft.com.json': 232, 'DeBiGa-globaldata.json': 204, 'IGMM-disfold.json': 276, 'Gren-value.today.json': 211, 'Silvestri-disfold.com.json': 149, 'Gren-ft.com.json': 189, 'MarScoToc-disfold.com.json': 147, 'MarScoToc-wikipedia.org.json': 125, 'Slytherin-disfold.com.json': 149, 'FR-forbes.json': 128, 'MarScoToc-ambitionbox.com.json': 134, 'DeBiGa-govuk_bigsize.json': 97, 'Wissel-info-clipper.com.json': 137, 'GioPonSpiz-disfold.json': 127, 'Silvestri-ft.com.json': 150, 'Slytherin-value.today.json': 137, 'IGMM-companiesmarketcap.json': 136, 'IGMM-value.today.json': 132, 'Slytherin-forbes.com.json': 137, 'DDD-cbinsight.com.json': 117, 'FR-valuetoday.json': 113, 'Avengers-valueToday.json': 126, 'Slytherin-ft.com.json': 108, 'GioPonSpiz-valueToday2.json': 77, 'Wissel-gov.uk.json': 84, 'Avengers-disfold.json': 102, 'GioPonSpiz-wiki.json': 76, 'FR-followers.json': 61, 'DDD-companiesmarketcap.com.json': 82, 'FR-sole24ore.json': 31, 'MalPatSaj-wikipedia.org.json': 68, 'Gren-companiesmarketcap.com.json': 50, 'IGMM-cbinsights.json': 57, 'DeBiGa-disfold.json': 75, 'MalPatSaj-forbes.com.json': 49, 'Silvestri-forbes.com.json': 38, 'DeBiGa-wiki.json': 55, 'Avengers-companiesMarketCap.json': 52, 'Avengers-hitHorizons.json': 39, 'FR-disfold.json': 30, 'MarScoToc-companiesmarketcap.com.json': 30, 'DDD-teamblind.com.json': 22, 'Wissel-companiesmarketcap.com.json': 35, 'FR-ft.json': 21, 'FR-famcap_germany.json': 15, 'MalPatSaj-companiesmarketcap.com.json': 8, 'FR-company_social_urls.json': 4, 'GioPonSpiz-marketCap2.json': 2}\n"
     ]
    }
   ],
   "source": [
    "table_to_matches = dict()\n",
    "for table in matches['table_1']:\n",
    "    if table_to_matches.get(table) == None:\n",
    "        table_to_matches[table] = 0\n",
    "    table_to_matches[table] += 1\n",
    "print(table_to_matches)"
   ]
  },
  {
   "cell_type": "code",
   "execution_count": 7,
   "metadata": {},
   "outputs": [],
   "source": [
    "pd.DataFrame(matches).to_csv(\"./matches.csv\")"
   ]
  }
 ],
 "metadata": {
  "kernelspec": {
   "display_name": "IDD",
   "language": "python",
   "name": "python3"
  },
  "language_info": {
   "codemirror_mode": {
    "name": "ipython",
    "version": 3
   },
   "file_extension": ".py",
   "mimetype": "text/x-python",
   "name": "python",
   "nbconvert_exporter": "python",
   "pygments_lexer": "ipython3",
   "version": "3.10.9"
  },
  "orig_nbformat": 4,
  "vscode": {
   "interpreter": {
    "hash": "7ce6619c7d95fa66adab3aa560eb20f28a01e1f23fb927f9fbc92f5fa3f739e8"
   }
  }
 },
 "nbformat": 4,
 "nbformat_minor": 2
}
