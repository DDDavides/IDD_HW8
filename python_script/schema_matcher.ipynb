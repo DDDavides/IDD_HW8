{
 "cells": [
  {
   "cell_type": "code",
   "execution_count": null,
   "metadata": {},
   "outputs": [],
   "source": [
    "from valentine import valentine_match\n",
    "from valentine.algorithms import Coma\n",
    "from valentine.algorithms import Cupid\n",
    "import os\n",
    "import multiprocessing as mp\n",
    "from multiprocessing import Pool\n",
    "import time\n",
    "import pandas as pd\n",
    "from compute_match import *"
   ]
  },
  {
   "cell_type": "code",
   "execution_count": null,
   "metadata": {},
   "outputs": [],
   "source": [
    "path = \"../json_datasets\"\n",
    "\n",
    "data_frames = {}\n",
    "for file in os.listdir(path):\n",
    "    filepath = f\"{path}/{file}\"\n",
    "    data_frames[file] = (pd.read_json(filepath))"
   ]
  },
  {
   "cell_type": "code",
   "execution_count": null,
   "metadata": {},
   "outputs": [],
   "source": [
    "keys = list(data_frames.keys())\n",
    "tuples = []\n",
    "# dfs_len = len(keys)\n",
    "dfs_len = 5\n",
    "for i in range(dfs_len):\n",
    "    for j in range(i + 1, dfs_len):\n",
    "        dfl = data_frames[keys[i]]\n",
    "        dfr = data_frames[keys[j]]\n",
    "        tuples.append((keys[i], keys[j], dfl, dfr))"
   ]
  },
  {
   "cell_type": "code",
   "execution_count": null,
   "metadata": {},
   "outputs": [],
   "source": [
    "start_time = time.perf_counter()\n",
    "with Pool() as pool:\n",
    "    result = pool.map(calculate_match, tuples)\n",
    "print(\"Program finished!\")\n",
    "finish_time = time.perf_counter()"
   ]
  },
  {
   "cell_type": "code",
   "execution_count": null,
   "metadata": {},
   "outputs": [],
   "source": [
    "columns = [\"table_1\", \"table_2\", \"column_table_1\", \"column_table_2\", \"match_value\"]\n",
    "matches = pd.DataFrame(columns=columns)\n",
    "\n",
    "for res in result:\n",
    "    for key in res[2].keys():\n",
    "        d = dict()\n",
    "        d[\"table_1\"] = res[0]\n",
    "        d[\"table_2\"] = res[1]\n",
    "        d[\"column_table_1\"] = key[0][1]\n",
    "        d[\"column_table_2\"] = key[1][1]\n",
    "        d[\"match_value\"] = res[2][key]\n",
    "        matches = pd.concat([matches, pd.DataFrame(d, index=[0])], ignore_index=True)\n",
    "print(matches)"
   ]
  },
  {
   "cell_type": "code",
   "execution_count": null,
   "metadata": {},
   "outputs": [],
   "source": [
    "table_to_matches = dict()\n",
    "for table in matches['table_1']:\n",
    "    if table_to_matches.get(table) == None:\n",
    "        table_to_matches[table] = 0\n",
    "    table_to_matches[table] += 1\n",
    "print(table_to_matches)"
   ]
  },
  {
   "cell_type": "code",
   "execution_count": null,
   "metadata": {},
   "outputs": [],
   "source": [
    "pd.DataFrame(matches).to_csv(\"./instance_matches.csv\")"
   ]
  }
 ],
 "metadata": {
  "kernelspec": {
   "display_name": "IDD",
   "language": "python",
   "name": "python3"
  },
  "language_info": {
   "codemirror_mode": {
    "name": "ipython",
    "version": 3
   },
   "file_extension": ".py",
   "mimetype": "text/x-python",
   "name": "python",
   "nbconvert_exporter": "python",
   "pygments_lexer": "ipython3",
   "version": "3.10.9"
  },
  "orig_nbformat": 4,
  "vscode": {
   "interpreter": {
    "hash": "7ce6619c7d95fa66adab3aa560eb20f28a01e1f23fb927f9fbc92f5fa3f739e8"
   }
  }
 },
 "nbformat": 4,
 "nbformat_minor": 2
}
