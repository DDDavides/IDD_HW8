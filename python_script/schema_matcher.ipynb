{
 "cells": [
  {
   "cell_type": "code",
   "execution_count": 1,
   "metadata": {},
   "outputs": [],
   "source": [
    "from valentine import valentine_match\n",
    "from valentine.algorithms import Coma\n",
    "from valentine.algorithms import Cupid\n",
    "import os\n",
    "import multiprocessing as mp\n",
    "from multiprocessing import Pool\n",
    "import time\n",
    "import pandas as pd\n",
    "from compute_match import *"
   ]
  },
  {
   "cell_type": "code",
   "execution_count": 2,
   "metadata": {},
   "outputs": [],
   "source": [
    "\n",
    "path = \"../json_datasets\"\n",
    "\n",
    "data_frames = {}\n",
    "for file in os.listdir(path):\n",
    "    filepath = f\"{path}/{file}\"\n",
    "    data_frames[file] = (pd.read_json(filepath))\n"
   ]
  },
  {
   "cell_type": "code",
   "execution_count": 3,
   "metadata": {},
   "outputs": [],
   "source": [
    "keys = list(data_frames.keys())\n",
    "tuples = []\n",
    "dfs_len = len(keys)\n",
    "for i in range(dfs_len):\n",
    "    for j in range(i + 1, dfs_len):\n",
    "        dfl = data_frames[keys[i]]\n",
    "        dfr = data_frames[keys[j]]\n",
    "        tuples.append((keys[i], keys[j], dfl, dfr))"
   ]
  },
  {
   "cell_type": "code",
   "execution_count": 4,
   "metadata": {},
   "outputs": [
    {
     "name": "stdout",
     "output_type": "stream",
     "text": [
      "Program finished!\n"
     ]
    }
   ],
   "source": [
    "start_time = time.perf_counter()\n",
    "with Pool() as pool:\n",
    "    result = pool.map(calculate_match, tuples)\n",
    "print(\"Program finished!\")\n",
    "finish_time = time.perf_counter()\n"
   ]
  },
  {
   "cell_type": "code",
   "execution_count": 19,
   "metadata": {},
   "outputs": [
    {
     "name": "stdout",
     "output_type": "stream",
     "text": [
      "                           table_1                         table_2  \\\n",
      "0            Gren-disfold.com.json  Wissel-ariregister.rik.ee.json   \n",
      "1            Gren-disfold.com.json  Wissel-ariregister.rik.ee.json   \n",
      "2            Gren-disfold.com.json  Wissel-ariregister.rik.ee.json   \n",
      "3            Gren-disfold.com.json  Wissel-ariregister.rik.ee.json   \n",
      "4            Gren-disfold.com.json  Wissel-ariregister.rik.ee.json   \n",
      "5            Gren-disfold.com.json      MalPatSaj-disfold.com.json   \n",
      "6            Gren-disfold.com.json      MalPatSaj-disfold.com.json   \n",
      "7            Gren-disfold.com.json      MalPatSaj-disfold.com.json   \n",
      "8            Gren-disfold.com.json      MalPatSaj-disfold.com.json   \n",
      "9            Gren-disfold.com.json      MalPatSaj-disfold.com.json   \n",
      "10           Gren-disfold.com.json      MalPatSaj-disfold.com.json   \n",
      "11           Gren-disfold.com.json                 DDD-ft.com.json   \n",
      "12           Gren-disfold.com.json                 DDD-ft.com.json   \n",
      "13           Gren-disfold.com.json                 DDD-ft.com.json   \n",
      "14           Gren-disfold.com.json          DeBiGa-globaldata.json   \n",
      "15           Gren-disfold.com.json          DeBiGa-globaldata.json   \n",
      "16           Gren-disfold.com.json          DeBiGa-globaldata.json   \n",
      "17           Gren-disfold.com.json          DeBiGa-globaldata.json   \n",
      "18  Wissel-ariregister.rik.ee.json      MalPatSaj-disfold.com.json   \n",
      "19  Wissel-ariregister.rik.ee.json      MalPatSaj-disfold.com.json   \n",
      "20  Wissel-ariregister.rik.ee.json      MalPatSaj-disfold.com.json   \n",
      "21  Wissel-ariregister.rik.ee.json      MalPatSaj-disfold.com.json   \n",
      "22  Wissel-ariregister.rik.ee.json      MalPatSaj-disfold.com.json   \n",
      "23  Wissel-ariregister.rik.ee.json                 DDD-ft.com.json   \n",
      "24  Wissel-ariregister.rik.ee.json                 DDD-ft.com.json   \n",
      "25  Wissel-ariregister.rik.ee.json          DeBiGa-globaldata.json   \n",
      "26  Wissel-ariregister.rik.ee.json          DeBiGa-globaldata.json   \n",
      "27  Wissel-ariregister.rik.ee.json          DeBiGa-globaldata.json   \n",
      "28  Wissel-ariregister.rik.ee.json          DeBiGa-globaldata.json   \n",
      "29  Wissel-ariregister.rik.ee.json          DeBiGa-globaldata.json   \n",
      "30  Wissel-ariregister.rik.ee.json          DeBiGa-globaldata.json   \n",
      "31  Wissel-ariregister.rik.ee.json          DeBiGa-globaldata.json   \n",
      "32      MalPatSaj-disfold.com.json                 DDD-ft.com.json   \n",
      "33      MalPatSaj-disfold.com.json                 DDD-ft.com.json   \n",
      "34      MalPatSaj-disfold.com.json                 DDD-ft.com.json   \n",
      "35      MalPatSaj-disfold.com.json          DeBiGa-globaldata.json   \n",
      "36      MalPatSaj-disfold.com.json          DeBiGa-globaldata.json   \n",
      "37      MalPatSaj-disfold.com.json          DeBiGa-globaldata.json   \n",
      "38      MalPatSaj-disfold.com.json          DeBiGa-globaldata.json   \n",
      "39                 DDD-ft.com.json          DeBiGa-globaldata.json   \n",
      "40                 DDD-ft.com.json          DeBiGa-globaldata.json   \n",
      "41                 DDD-ft.com.json          DeBiGa-globaldata.json   \n",
      "42                 DDD-ft.com.json          DeBiGa-globaldata.json   \n",
      "43                 DDD-ft.com.json          DeBiGa-globaldata.json   \n",
      "44                 DDD-ft.com.json          DeBiGa-globaldata.json   \n",
      "45                 DDD-ft.com.json          DeBiGa-globaldata.json   \n",
      "\n",
      "               column_table_1       column_table_2  match_value  \n",
      "0                        name                 Name     0.766484  \n",
      "1                     country               Code_y     0.367739  \n",
      "2                       stock               Status     0.325816  \n",
      "3   market_capitalization_USD              Capital     0.314714  \n",
      "4                    industry                   ID     0.246979  \n",
      "5                    industry             Industry     0.919085  \n",
      "6                     country              Country     0.916634  \n",
      "7                      sector               Sector     0.913876  \n",
      "8                       stock                Stock     0.910751  \n",
      "9                        name                 Name     0.907180  \n",
      "10  market_capitalization_USD            MarketCap     0.506073  \n",
      "11                    country              country     0.814752  \n",
      "12                     sector               sector     0.811995  \n",
      "13                       name                 name     0.805298  \n",
      "14                   industry             industry     0.812712  \n",
      "15                       name                 name     0.800807  \n",
      "16  market_capitalization_USD           market_cap     0.497152  \n",
      "17                      stock              address     0.260628  \n",
      "18                       Name                 Name     0.763081  \n",
      "19                     Code_y              Country     0.364335  \n",
      "20                     Status                Stock     0.322413  \n",
      "21                         ID             Industry     0.243575  \n",
      "22                    Capital            MarketCap     0.213875  \n",
      "23                       Name                 name     0.751894  \n",
      "24                     Code_y              country     0.353148  \n",
      "25                    Address              address     0.777075  \n",
      "26                       Name                 name     0.767621  \n",
      "27                       Role              revenue     0.317429  \n",
      "28              Deletion Date            telephone     0.281816  \n",
      "29                 Start Date              website     0.274539  \n",
      "30                         ID             industry     0.248116  \n",
      "31                    Capital           market_cap     0.213407  \n",
      "32                    Country              country     0.811163  \n",
      "33                     Sector               sector     0.808406  \n",
      "34                       Name                 name     0.801710  \n",
      "35                   Industry             industry     0.818091  \n",
      "36                       Name                 name     0.806186  \n",
      "37                  MarketCap           market_cap     0.680549  \n",
      "38                      Stock              address     0.266008  \n",
      "39                       name                 name     0.793235  \n",
      "40   number_of_employees_2020  number_of_employees     0.691538  \n",
      "41   number_of_employees_2017  number_of_employees     0.691538  \n",
      "42          revenue_2020_euro              revenue     0.494533  \n",
      "43          revenue_2017_euro              revenue     0.494533  \n",
      "44                    country             industry     0.383272  \n",
      "45                     sector              address     0.246539  \n"
     ]
    }
   ],
   "source": [
    "columns = [\"table_1\", \"table_2\", \"column_table_1\", \"column_table_2\", \"match_value\"]\n",
    "matches = pd.DataFrame(columns=columns)\n",
    "\n",
    "for res in result:\n",
    "    for key in res[2].keys():\n",
    "        d = dict()\n",
    "        d[\"table_1\"] = res[0]\n",
    "        d[\"table_2\"] = res[1]\n",
    "        d[\"column_table_1\"] = key[0][1]\n",
    "        d[\"column_table_2\"] = key[1][1]\n",
    "        d[\"match_value\"] = res[2][key]\n",
    "        matches = pd.concat([matches, pd.DataFrame(d, index=[0])], ignore_index=True)\n",
    "print(matches)"
   ]
  },
  {
   "cell_type": "code",
   "execution_count": 23,
   "metadata": {},
   "outputs": [],
   "source": [
    "matches.sort_values(\"match_value\")\n",
    "pd.DataFrame(matches).to_csv(\"./matches.csv\")"
   ]
  }
 ],
 "metadata": {
  "kernelspec": {
   "display_name": "IDD",
   "language": "python",
   "name": "python3"
  },
  "language_info": {
   "codemirror_mode": {
    "name": "ipython",
    "version": 3
   },
   "file_extension": ".py",
   "mimetype": "text/x-python",
   "name": "python",
   "nbconvert_exporter": "python",
   "pygments_lexer": "ipython3",
   "version": "3.10.9"
  },
  "orig_nbformat": 4,
  "vscode": {
   "interpreter": {
    "hash": "7ce6619c7d95fa66adab3aa560eb20f28a01e1f23fb927f9fbc92f5fa3f739e8"
   }
  }
 },
 "nbformat": 4,
 "nbformat_minor": 2
}
