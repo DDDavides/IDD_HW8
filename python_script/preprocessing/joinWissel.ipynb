{
 "cells": [
  {
   "cell_type": "code",
   "execution_count": 10,
   "metadata": {},
   "outputs": [],
   "source": [
    "import os\n",
    "import pandas as pd\n",
    "from cleanDataframe import *"
   ]
  },
  {
   "cell_type": "code",
   "execution_count": 11,
   "metadata": {},
   "outputs": [],
   "source": [
    "wissel_dir_path = \"../../datasets/Wissel\"\n",
    "\n",
    "# per testing\n",
    "# wissel_dir_path = \"../../toJoinWissel\""
   ]
  },
  {
   "cell_type": "code",
   "execution_count": 12,
   "metadata": {},
   "outputs": [],
   "source": [
    "ari = dict()\n",
    "comp = dict()\n",
    "for file in os.listdir(wissel_dir_path):\n",
    "    if file.split(\".\")[-1] != \"csv\":\n",
    "        continue\n",
    "    try:\n",
    "        dbName = file.split(\"-\")[1]\n",
    "    except:\n",
    "        continue\n",
    "    if dbName == \"ariregister.rik.ee.csv\":\n",
    "        ari[file.split(\"-\")[0]] = pd.read_csv(wissel_dir_path + \"/\" + file)\n",
    "    if dbName == \"companiesmarketcap.com.csv\":\n",
    "        comp[file.split(\"-\")[0]] = pd.read_csv(wissel_dir_path + \"/\" + file)"
   ]
  },
  {
   "attachments": {},
   "cell_type": "markdown",
   "metadata": {},
   "source": [
    "# ariregister merge"
   ]
  },
  {
   "cell_type": "code",
   "execution_count": 13,
   "metadata": {},
   "outputs": [],
   "source": [
    "rappresentanti_suffix = \"_rappresentanti\"\n",
    "partner_suffix = \"_partner\"\n",
    "activity_suffix = \"_activity\"\n",
    "\n",
    "# merge con rappresentanti\n",
    "aziendeNrappresentanti = ari[\"aziende\"].merge(ari[\"rappresentanti\"], left_on='ID', right_on='ID azienda', suffixes=(\"\",rappresentanti_suffix))\n",
    "# merge con partners\n",
    "aziendeNrappresentantiNpartners = aziendeNrappresentanti.merge(ari[\"partners\"], left_on='ID', right_on='ID azienda', suffixes=(\"\",partner_suffix))\n",
    "# merge con activity\n",
    "ariregister_merged = aziendeNrappresentantiNpartners.merge(ari[\"activity\"], left_on='ID', right_on='ID azienda', suffixes=(\"\",activity_suffix) )"
   ]
  },
  {
   "cell_type": "code",
   "execution_count": 14,
   "metadata": {},
   "outputs": [],
   "source": [
    "# drop delle colonne duplicate\n",
    "columnsToDrop = [\"ID azienda\", \"ID azienda_partner\", \"ID azienda_activity\"]\n",
    "ariregister_merged_final = ariregister_merged.drop(columns=columnsToDrop)"
   ]
  },
  {
   "cell_type": "code",
   "execution_count": 15,
   "metadata": {},
   "outputs": [
    {
     "name": "stdout",
     "output_type": "stream",
     "text": [
      "Index(['URL', 'ID', 'Name', 'Code', 'Legal form', 'Status',\n",
      "       'Registration Date', 'Capital', 'Address', 'Deletion Date',\n",
      "       'Name_rappresentanti', 'Code_rappresentanti', 'Role', 'Start Date',\n",
      "       'Name_partner', 'Code_partner', 'Participation', 'Contribution',\n",
      "       'Area of Activity', 'EMTAK Code', 'NACE Code', 'Source'],\n",
      "      dtype='object')\n"
     ]
    }
   ],
   "source": [
    "print(ariregister_merged_final.keys())"
   ]
  },
  {
   "attachments": {},
   "cell_type": "markdown",
   "metadata": {},
   "source": [
    "# companiesmarketcap merge"
   ]
  },
  {
   "cell_type": "code",
   "execution_count": 16,
   "metadata": {},
   "outputs": [],
   "source": [
    "companiesmarketcap_merged = comp[\"aziende\"].merge(comp[\"categorie\"], left_on='ID', right_on='Company ID') \n",
    "companiesmarketcap_merged_final = companiesmarketcap_merged.drop(columns=[\"Company ID\", \"Unnamed: 0\"])"
   ]
  },
  {
   "cell_type": "code",
   "execution_count": 17,
   "metadata": {},
   "outputs": [
    {
     "name": "stdout",
     "output_type": "stream",
     "text": [
      "Index(['URL', 'ID', 'Name', 'Company code', 'Marketcap', 'Share price',\n",
      "       'Earnings', 'Revenue', 'Shares', 'Employees', 'Category', 'Hash'],\n",
      "      dtype='object')\n"
     ]
    }
   ],
   "source": [
    "print(companiesmarketcap_merged_final.keys())"
   ]
  },
  {
   "cell_type": "code",
   "execution_count": 18,
   "metadata": {},
   "outputs": [],
   "source": [
    "ariregister_filename_csv = \"ariregister.rik.ee.csv\"\n",
    "companiesmarketcap_filename_csv = \"companiesmarketcap.com.csv\"\n",
    "\n",
    "ariregister_merged_final.to_csv(wissel_dir_path + \"/\" + ariregister_filename_csv)\n",
    "companiesmarketcap_merged_final.to_csv(wissel_dir_path + \"/\" + companiesmarketcap_filename_csv)"
   ]
  }
 ],
 "metadata": {
  "kernelspec": {
   "display_name": "hw8",
   "language": "python",
   "name": "python3"
  },
  "language_info": {
   "codemirror_mode": {
    "name": "ipython",
    "version": 3
   },
   "file_extension": ".py",
   "mimetype": "text/x-python",
   "name": "python",
   "nbconvert_exporter": "python",
   "pygments_lexer": "ipython3",
   "version": "3.10.9"
  },
  "orig_nbformat": 4,
  "vscode": {
   "interpreter": {
    "hash": "20fe05bf6d812f8581d0c3885f26a8156e46b0ff73914791c267a01ece645732"
   }
  }
 },
 "nbformat": 4,
 "nbformat_minor": 2
}
