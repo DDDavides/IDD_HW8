{
 "cells": [
  {
   "cell_type": "code",
   "execution_count": 14,
   "metadata": {},
   "outputs": [],
   "source": [
    "from valentine import valentine_match, valentine_metrics\n",
    "from valentine.algorithms import Coma\n",
    "from valentine.algorithms import Cupid\n",
    "import os\n",
    "import multiprocessing as mp\n",
    "from multiprocessing import Pool\n",
    "import time\n",
    "import pandas as pd\n",
    "from compute_match import *"
   ]
  },
  {
   "attachments": {},
   "cell_type": "markdown",
   "metadata": {},
   "source": [
    "# Preparazione data frames"
   ]
  },
  {
   "cell_type": "code",
   "execution_count": 15,
   "metadata": {},
   "outputs": [],
   "source": [
    "path = \"../test_datasets\"\n",
    "\n",
    "# prende i data frames dal path di sopra\n",
    "data_frames = {}\n",
    "for file in os.listdir(path):\n",
    "    filepath = f\"{path}/{file}\"\n",
    "    data_frames[file] = (pd.read_json(filepath))"
   ]
  },
  {
   "cell_type": "code",
   "execution_count": 16,
   "metadata": {},
   "outputs": [],
   "source": [
    "# creo tutte le coppie di data frames (evitando ripetizioni)\n",
    "keys = list(data_frames.keys())\n",
    "tuples = []\n",
    "dfs_len = len(keys)\n",
    "for i in range(dfs_len):\n",
    "    for j in range(i + 1, dfs_len):\n",
    "        dfl = data_frames[keys[i]]\n",
    "        dfr = data_frames[keys[j]]\n",
    "        tuples.append((keys[i], keys[j], dfl, dfr))"
   ]
  },
  {
   "attachments": {},
   "cell_type": "markdown",
   "metadata": {},
   "source": [
    "# Valentine *-based evaluation"
   ]
  },
  {
   "attachments": {},
   "cell_type": "markdown",
   "metadata": {},
   "source": [
    "## Schema based"
   ]
  },
  {
   "cell_type": "code",
   "execution_count": 17,
   "metadata": {},
   "outputs": [
    {
     "name": "stdout",
     "output_type": "stream",
     "text": [
      "Program finished!\n"
     ]
    }
   ],
   "source": [
    "# Calcola schema matching (multi processor)\n",
    "with Pool() as pool:\n",
    "    result = pool.map(calculate_match_coma_schema, tuples)\n",
    "print(\"Program finished!\")"
   ]
  },
  {
   "cell_type": "code",
   "execution_count": 18,
   "metadata": {},
   "outputs": [
    {
     "name": "stdout",
     "output_type": "stream",
     "text": [
      "[{'precision': 0.6666666666666666, 'recall': 1.0, 'f1_score': 0.8, 'precision_at_10_percent': 1.0, 'precision_at_30_percent': 1.0, 'precision_at_50_percent': 1.0, 'precision_at_70_percent': 0.6666666666666666, 'precision_at_90_percent': 0.6666666666666666, 'recall_at_sizeof_ground_truth': 1.0}]\n"
     ]
    }
   ],
   "source": [
    "# valentaine matching evaluation\n",
    "ground_truth = [('name', 'name'), ('country', 'country')]\n",
    "metrics = []\n",
    "for res in result:\n",
    "    metrics.append(valentine_metrics.all_metrics(res[2], ground_truth))\n",
    "print(metrics)\n"
   ]
  },
  {
   "cell_type": "code",
   "execution_count": 19,
   "metadata": {},
   "outputs": [
    {
     "name": "stdout",
     "output_type": "stream",
     "text": [
      "[('DDD-cbinsight.com.json', 'DDD-companiesmarketcap.com.json', {(('table_1', 'country'), ('table_2', 'country')): 0.7887501, (('table_1', 'name'), ('table_2', 'name')): 0.7792963, (('table_1', 'stage'), ('table_2', 'share_price')): 0.28008994})]\n"
     ]
    }
   ],
   "source": [
    "print(result)"
   ]
  },
  {
   "attachments": {},
   "cell_type": "markdown",
   "metadata": {},
   "source": [
    "## Instance based"
   ]
  },
  {
   "cell_type": "code",
   "execution_count": 20,
   "metadata": {},
   "outputs": [
    {
     "name": "stdout",
     "output_type": "stream",
     "text": [
      "Program finished!\n"
     ]
    }
   ],
   "source": [
    "# Calcola schema matching (multi processor)\n",
    "with Pool() as pool:\n",
    "    result_inst = pool.map(calculate_match_coma_instance, tuples)\n",
    "print(\"Program finished!\")"
   ]
  },
  {
   "cell_type": "code",
   "execution_count": 21,
   "metadata": {},
   "outputs": [
    {
     "name": "stdout",
     "output_type": "stream",
     "text": [
      "[{'precision': 0, 'recall': 0.0, 'f1_score': 0, 'precision_at_10_percent': 0, 'precision_at_30_percent': 0, 'precision_at_50_percent': 0, 'precision_at_70_percent': 0, 'precision_at_90_percent': 0, 'recall_at_sizeof_ground_truth': 0.0}]\n"
     ]
    }
   ],
   "source": [
    "# valentaine matching evaluation\n",
    "ground_truth = [('name', 'name'), ('country', 'country')]\n",
    "metrics = []\n",
    "for res in result_inst:\n",
    "    metrics.append(valentine_metrics.all_metrics(res[2], ground_truth))\n",
    "print(metrics)\n"
   ]
  },
  {
   "cell_type": "code",
   "execution_count": 22,
   "metadata": {},
   "outputs": [
    {
     "name": "stdout",
     "output_type": "stream",
     "text": [
      "[('DDD-cbinsight.com.json', 'DDD-companiesmarketcap.com.json', {})]\n"
     ]
    }
   ],
   "source": [
    "print(result_inst)"
   ]
  },
  {
   "attachments": {},
   "cell_type": "markdown",
   "metadata": {},
   "source": [
    "# Cupid"
   ]
  },
  {
   "cell_type": "code",
   "execution_count": 23,
   "metadata": {},
   "outputs": [
    {
     "name": "stdout",
     "output_type": "stream",
     "text": [
      "Program finished!\n"
     ]
    }
   ],
   "source": [
    "# Calcola schema matching (multi processor)\n",
    "with Pool() as pool:\n",
    "    result_cupid = pool.map(calculate_match_cupid, tuples)\n",
    "print(\"Program finished!\")"
   ]
  },
  {
   "cell_type": "code",
   "execution_count": 24,
   "metadata": {},
   "outputs": [
    {
     "name": "stdout",
     "output_type": "stream",
     "text": [
      "[{'precision': 1.0, 'recall': 1.0, 'f1_score': 1.0, 'precision_at_10_percent': 1.0, 'precision_at_30_percent': 0.6666666666666666, 'precision_at_50_percent': 0.5, 'precision_at_70_percent': 0.3333333333333333, 'precision_at_90_percent': 0.25, 'recall_at_sizeof_ground_truth': 1.0}]\n"
     ]
    }
   ],
   "source": [
    "# valentaine matching evaluation\n",
    "ground_truth = [('name', 'name'), ('country', 'country')]\n",
    "metrics = []\n",
    "for res in result_cupid:\n",
    "    metrics.append(valentine_metrics.all_metrics(res[2], ground_truth))\n",
    "print(metrics)\n"
   ]
  },
  {
   "cell_type": "code",
   "execution_count": 25,
   "metadata": {},
   "outputs": [
    {
     "name": "stdout",
     "output_type": "stream",
     "text": [
      "[('DDD-cbinsight.com.json', 'DDD-companiesmarketcap.com.json', {(('table_1', 'name'), ('table_2', 'name')): 1.0, (('table_1', 'country'), ('table_2', 'country')): 1.0, (('table_1', 'city'), ('table_2', 'country')): 0.9000000000000001, (('table_1', 'stage'), ('table_2', 'country')): 0.8857142857142857, (('table_1', 'valuation'), ('table_2', 'share_price')): 0.8441830065359479, (('table_1', 'totalRaised'), ('table_2', 'name')): 0.8162962962962963, (('table_1', 'stage'), ('table_2', 'name')): 0.7333333333333334, (('table_1', 'industry'), ('table_2', 'country')): 0.7})]\n"
     ]
    }
   ],
   "source": [
    "print(result_cupid)"
   ]
  },
  {
   "attachments": {},
   "cell_type": "markdown",
   "metadata": {},
   "source": [
    "# Distribution-based"
   ]
  },
  {
   "cell_type": "code",
   "execution_count": 26,
   "metadata": {},
   "outputs": [
    {
     "name": "stdout",
     "output_type": "stream",
     "text": [
      "Program finished!\n"
     ]
    }
   ],
   "source": [
    "# Calcola schema matching (multi processor)\n",
    "with Pool() as pool:\n",
    "    result_dist = pool.map(calculate_match_distribution, tuples)\n",
    "print(\"Program finished!\")"
   ]
  },
  {
   "cell_type": "code",
   "execution_count": 27,
   "metadata": {},
   "outputs": [
    {
     "name": "stdout",
     "output_type": "stream",
     "text": [
      "[{'precision': 1.0, 'recall': 0.5, 'f1_score': 0.6666666666666666, 'precision_at_10_percent': 1.0, 'precision_at_30_percent': 1.0, 'precision_at_50_percent': 1.0, 'precision_at_70_percent': 1.0, 'precision_at_90_percent': 1.0, 'recall_at_sizeof_ground_truth': 0.5}]\n"
     ]
    }
   ],
   "source": [
    "# valentaine matching evaluation\n",
    "ground_truth = [('name', 'name'), ('country', 'country')]\n",
    "metrics = []\n",
    "for res in result_dist:\n",
    "    metrics.append(valentine_metrics.all_metrics(res[2], ground_truth))\n",
    "print(metrics)\n"
   ]
  },
  {
   "cell_type": "code",
   "execution_count": 28,
   "metadata": {},
   "outputs": [
    {
     "name": "stdout",
     "output_type": "stream",
     "text": [
      "[('DDD-cbinsight.com.json', 'DDD-companiesmarketcap.com.json', {(('table_1', 'name'), ('table_2', 'name')): 0.9771106293743441})]\n"
     ]
    }
   ],
   "source": [
    "print(result_dist)"
   ]
  },
  {
   "attachments": {},
   "cell_type": "markdown",
   "metadata": {},
   "source": [
    "# Jaccard"
   ]
  },
  {
   "cell_type": "code",
   "execution_count": 29,
   "metadata": {},
   "outputs": [
    {
     "name": "stdout",
     "output_type": "stream",
     "text": [
      "Program finished!\n"
     ]
    }
   ],
   "source": [
    "# Calcola schema matching (multi processor)\n",
    "with Pool() as pool:\n",
    "    result_jacc = pool.map(calculate_match_jaccard, tuples)\n",
    "print(\"Program finished!\")"
   ]
  },
  {
   "cell_type": "code",
   "execution_count": 30,
   "metadata": {},
   "outputs": [
    {
     "name": "stdout",
     "output_type": "stream",
     "text": [
      "[{'precision': 0.2857142857142857, 'recall': 1.0, 'f1_score': 0.4444444444444445, 'precision_at_10_percent': 0.3333333333333333, 'precision_at_30_percent': 0.2222222222222222, 'precision_at_50_percent': 0.14285714285714285, 'precision_at_70_percent': 0.10526315789473684, 'precision_at_90_percent': 0.08, 'recall_at_sizeof_ground_truth': 0.5}]\n"
     ]
    }
   ],
   "source": [
    "# valentaine matching evaluation\n",
    "ground_truth = [('name', 'name'), ('country', 'country')]\n",
    "metrics = []\n",
    "for res in result_jacc:\n",
    "    metrics.append(valentine_metrics.all_metrics(res[2], ground_truth))\n",
    "print(metrics)\n"
   ]
  },
  {
   "cell_type": "code",
   "execution_count": 31,
   "metadata": {},
   "outputs": [
    {
     "name": "stdout",
     "output_type": "stream",
     "text": [
      "[('DDD-cbinsight.com.json', 'DDD-companiesmarketcap.com.json', {(('table_1', 'country'), ('table_2', 'country')): 0.41935483870967744, (('table_1', 'totalRaised'), ('table_2', 'marketcap')): 0.19134253450439148, (('table_1', 'totalRaised'), ('table_2', 'share_price')): 0.16418889374726717, (('table_1', 'valuation'), ('table_2', 'marketcap')): 0.07579022988505747, (('table_1', 'valuation'), ('table_2', 'share_price')): 0.04700162074554295, (('table_1', 'founded'), ('table_2', 'country')): 0.013333333333333334, (('table_1', 'name'), ('table_2', 'name')): 0.013149957775364941, (('table_1', 'stage'), ('table_2', 'country')): 0.006993006993006993, (('table_1', 'founded'), ('table_2', 'share_price')): 0.005351326198231736, (('table_1', 'founded'), ('table_2', 'rank')): 0.0050062578222778474, (('table_1', 'city'), ('table_2', 'country')): 0.003134796238244514, (('table_1', 'city'), ('table_2', 'name')): 0.0022727272727272726, (('table_1', 'founded'), ('table_2', 'change1y')): 0.0013265112753458404, (('table_1', 'investors'), ('table_2', 'name')): 0.0011941724385001193, (('table_1', 'totalRaised'), ('table_2', 'country')): 0.0009267840593141798, (('table_1', 'industry'), ('table_2', 'categories')): 0.0009057971014492754, (('table_1', 'founded'), ('table_2', 'categories')): 0.0008920606601248885, (('table_1', 'stage'), ('table_2', 'categories')): 0.0008410428931875525, (('table_1', 'investors'), ('table_2', 'country')): 0.0008291873963515755, (('table_1', 'totalRaised'), ('table_2', 'categories')): 0.00047058823529411766, (('table_1', 'investors'), ('table_2', 'categories')): 0.0004440497335701599, (('table_1', 'industry'), ('table_2', 'name')): 0.00041476565740356696, (('table_1', 'totalRaised'), ('table_2', 'change1y')): 0.0003181673560292714, (('table_1', 'country'), ('table_2', 'name')): 0.00027536830510808204, (('table_1', 'stage'), ('table_2', 'change1y')): 0.00018688095683049897, (('table_1', 'investors'), ('table_2', 'change1y')): 0.00015590894917368256, (('table_1', 'name'), ('table_2', 'rank')): 0.00011946004061641381})]\n"
     ]
    }
   ],
   "source": [
    "print(result_jacc)"
   ]
  },
  {
   "attachments": {},
   "cell_type": "markdown",
   "metadata": {},
   "source": [
    "# Similarity flooding"
   ]
  },
  {
   "cell_type": "code",
   "execution_count": 32,
   "metadata": {},
   "outputs": [
    {
     "name": "stdout",
     "output_type": "stream",
     "text": [
      "Program finished!\n"
     ]
    }
   ],
   "source": [
    "# Calcola schema matching (multi processor)\n",
    "with Pool() as pool:\n",
    "    result_sim = pool.map(calculate_match_sim, tuples)\n",
    "print(\"Program finished!\")"
   ]
  },
  {
   "cell_type": "code",
   "execution_count": 33,
   "metadata": {},
   "outputs": [
    {
     "name": "stdout",
     "output_type": "stream",
     "text": [
      "[{'precision': 0.5, 'recall': 1.0, 'f1_score': 0.6666666666666666, 'precision_at_10_percent': 0.25, 'precision_at_30_percent': 0.08333333333333333, 'precision_at_50_percent': 0.05, 'precision_at_70_percent': 0.03571428571428571, 'precision_at_90_percent': 0.027777777777777776, 'recall_at_sizeof_ground_truth': 1.0}]\n"
     ]
    }
   ],
   "source": [
    "# valentaine matching evaluation\n",
    "ground_truth = [('name', 'name'), ('country', 'country')]\n",
    "metrics = []\n",
    "for res in result_sim:\n",
    "    metrics.append(valentine_metrics.all_metrics(res[2], ground_truth))\n",
    "print(metrics)\n"
   ]
  },
  {
   "cell_type": "code",
   "execution_count": 34,
   "metadata": {},
   "outputs": [
    {
     "name": "stdout",
     "output_type": "stream",
     "text": [
      "[('DDD-cbinsight.com.json', 'DDD-companiesmarketcap.com.json', {(('table_1', 'name'), ('table_2', 'name')): 0.2338157481891429, (('table_1', 'country'), ('table_2', 'country')): 0.2338157481891429, (('table_1', 'dateJoined'), ('table_2', 'categories')): 0.1758631739154523, (('table_1', 'city'), ('table_2', 'country')): 0.17142422411225539, (('table_1', 'industry'), ('table_2', 'country')): 0.16976045013687172, (('table_1', 'stage'), ('table_2', 'change1d')): 0.15990578889806076, (('table_1', 'stage'), ('table_2', 'change1y')): 0.15990578889806076, (('table_1', 'stage'), ('table_2', 'name')): 0.15755944098405816, (('table_1', 'dateJoined'), ('table_2', 'change1d')): 0.15451140789802856, (('table_1', 'investors'), ('table_2', 'categories')): 0.15434864910173882, (('table_1', 'founded'), ('table_2', 'country')): 0.1523326562635976, (('table_1', 'country'), ('table_2', 'change1y')): 0.15145893640765137, (('table_1', 'stage'), ('table_2', 'categories')): 0.15145893640765137, (('table_1', 'totalRaised'), ('table_2', 'categories')): 0.1488444344463342, (('table_1', 'founded'), ('table_2', 'change1d')): 0.1484109033216218, (('table_1', 'investors'), ('table_2', 'country')): 0.14802740258342256, (('table_1', 'stage'), ('table_2', 'share_price')): 0.14802740258342256, (('table_1', 'dateJoined'), ('table_2', 'share_price')): 0.14579640136030458, (('table_1', 'country'), ('table_2', 'categories')): 0.14499957862086774, (('table_1', 'founded'), ('table_2', 'name')): 0.14341958139547079, (('table_1', 'name'), ('table_2', 'change1d')): 0.14230817954304123, (('table_1', 'name'), ('table_2', 'change1y')): 0.14230817954304123, (('table_1', 'city'), ('table_2', 'change1y')): 0.14230817954304123, (('table_1', 'valuation'), ('table_2', 'categories')): 0.13990008563130168, (('table_1', 'totalRaised'), ('table_2', 'change1d')): 0.13990008563130168, (('table_1', 'dateJoined'), ('table_2', 'change1y')): 0.13926014645701162, (('table_1', 'name'), ('table_2', 'marketcap')): 0.1387886576720373, (('table_1', 'investors'), ('table_2', 'name')): 0.1387886576720373, (('table_1', 'dateJoined'), ('table_2', 'rank')): 0.1361802913875603, (('table_1', 'name'), ('table_2', 'categories')): 0.13577192463974821, (('table_1', 'city'), ('table_2', 'categories')): 0.13577192463974821, (('table_1', 'stage'), ('table_2', 'marketcap')): 0.13577192463974821, (('table_1', 'valuation'), ('table_2', 'rank')): 0.13432929048050166, (('table_1', 'totalRaised'), ('table_2', 'share_price')): 0.13398930966612288, (('table_1', 'name'), ('table_2', 'share_price')): 0.13315742267843106, (('table_1', 'country'), ('table_2', 'change1d')): 0.13315742267843106, (('table_1', 'totalRaised'), ('table_2', 'name')): 0.13315742267843106, (('table_1', 'dateJoined'), ('table_2', 'name')): 0.13272389155371866, (('table_1', 'valuation'), ('table_2', 'country')): 0.13086973346227848, (('table_1', 'industry'), ('table_2', 'change1d')): 0.13086973346227848, (('table_1', 'industry'), ('table_2', 'change1y')): 0.13086973346227848, (('table_1', 'founded'), ('table_2', 'change1y')): 0.13010938959240145, (('table_1', 'valuation'), ('table_2', 'change1d')): 0.12885118415390864, (('table_1', 'valuation'), ('table_2', 'change1y')): 0.12885118415390864, (('table_1', 'investors'), ('table_2', 'change1d')): 0.12885118415390864, (('table_1', 'investors'), ('table_2', 'change1y')): 0.12885118415390864, (('table_1', 'valuation'), ('table_2', 'marketcap')): 0.12705691810202427, (('table_1', 'industry'), ('table_2', 'categories')): 0.12705691810202427, (('table_1', 'investors'), ('table_2', 'marketcap')): 0.12705691810202427, (('table_1', 'totalRaised'), ('table_2', 'country')): 0.12705691810202427, (('table_1', 'name'), ('table_2', 'rank')): 0.12641036627074284, (('table_1', 'dateJoined'), ('table_2', 'country')): 0.12580315106787904, (('table_1', 'founded'), ('table_2', 'categories')): 0.12580315106787904, (('table_1', 'industry'), ('table_2', 'share_price')): 0.12545152216086458, (('table_1', 'totalRaised'), ('table_2', 'change1y')): 0.12545152216086458, (('table_1', 'valuation'), ('table_2', 'share_price')): 0.12400666581382086, (('table_1', 'investors'), ('table_2', 'share_price')): 0.12400666581382086, (('table_1', 'totalRaised'), ('table_2', 'marketcap')): 0.12400666581382086, (('table_1', 'stage'), ('table_2', 'rank')): 0.1225975509104886, (('table_1', 'dateJoined'), ('table_2', 'marketcap')): 0.12240348907483499, (('table_1', 'founded'), ('table_2', 'rank')): 0.1219193715985574, (('table_1', 'name'), ('table_2', 'country')): 0.12151100485074537, (('table_1', 'country'), ('table_2', 'name')): 0.12151100485074537, (('table_1', 'city'), ('table_2', 'change1d')): 0.11943128738151577, (('table_1', 'industry'), ('table_2', 'name')): 0.11943128738151577, (('table_1', 'stage'), ('table_2', 'country')): 0.11943128738151577, (('table_1', 'valuation'), ('table_2', 'name')): 0.11767152644601384, (('table_1', 'city'), ('table_2', 'marketcap')): 0.11767152644601384, (('table_1', 'country'), ('table_2', 'rank')): 0.1170516376592097, (('table_1', 'industry'), ('table_2', 'rank')): 0.11497192018998012, (('table_1', 'city'), ('table_2', 'share_price')): 0.1148559089492107, (('table_1', 'country'), ('table_2', 'marketcap')): 0.11371206434113444, (('table_1', 'investors'), ('table_2', 'rank')): 0.11321215925447815, (('table_1', 'industry'), ('table_2', 'marketcap')): 0.1127027896869495, (('table_1', 'country'), ('table_2', 'share_price')): 0.11180565666100732, (('table_1', 'founded'), ('table_2', 'marketcap')): 0.11066403125510485, (('table_1', 'totalRaised'), ('table_2', 'rank')): 0.11039654175767505, (('table_1', 'founded'), ('table_2', 'share_price')): 0.10875762357497774, (('table_1', 'city'), ('table_2', 'name')): 0.09655439521999037, (('table_1', 'city'), ('table_2', 'rank')): 0.0920950280284547})]\n"
     ]
    }
   ],
   "source": [
    "print(result_sim)"
   ]
  }
 ],
 "metadata": {
  "kernelspec": {
   "display_name": "Python 3",
   "language": "python",
   "name": "python3"
  },
  "language_info": {
   "codemirror_mode": {
    "name": "ipython",
    "version": 3
   },
   "file_extension": ".py",
   "mimetype": "text/x-python",
   "name": "python",
   "nbconvert_exporter": "python",
   "pygments_lexer": "ipython3",
   "version": "3.9.6"
  },
  "orig_nbformat": 4,
  "vscode": {
   "interpreter": {
    "hash": "31f2aee4e71d21fbe5cf8b01ff0e069b9275f58929596ceb00d14d90e3e16cd6"
   }
  }
 },
 "nbformat": 4,
 "nbformat_minor": 2
}
