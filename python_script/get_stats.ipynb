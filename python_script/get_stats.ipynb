{
 "cells": [
  {
   "cell_type": "code",
   "execution_count": 1,
   "metadata": {},
   "outputs": [],
   "source": [
    "import pandas as pd\n",
    "import os"
   ]
  },
  {
   "cell_type": "code",
   "execution_count": 5,
   "metadata": {},
   "outputs": [],
   "source": [
    "path = '../json_datasets'"
   ]
  },
  {
   "cell_type": "code",
   "execution_count": 23,
   "metadata": {},
   "outputs": [
    {
     "name": "stdout",
     "output_type": "stream",
     "text": [
      "Tot cols: 327\n",
      "Tot rows: 149193\n",
      "Columns2datasets {6: 1, 22: 1, 10: 1, 9: 1, 14: 1, 4: 1, 8: 1, 7: 1, 12: 1, 18: 1, 11: 1, 5: 1, 13: 1}\n",
      "Rows2datasets {1000: 10, 1185: 2, 5336: 1, 10682: 2, 16097: 1, 7000: 1, 4656: 1, 10000: 2, 7093: 1, 2000: 1, 5000: 1, 10680: 1, 1321: 1, 2664: 1, 7217: 1, 7163: 1, 1202: 1, 1002: 1, 5897: 1, 667: 1, 946: 1, 1818: 1, 500: 1, 7200: 1}\n",
      "columnName2datasets {'name': 26, 'market_capitalization_USD': 2, 'stock': 4, 'country': 18, 'sector': 7, 'industry': 13, 'URL': 3, 'ID': 3, 'Name_x': 1, 'Code_x': 1, 'Legal form': 1, 'Status': 1, 'Registration Date': 2, 'Capital': 1, 'Address': 1, 'Deletion Date': 1, 'Area of Activity': 1, 'EMTAK Code': 1, 'NACE Code': 1, 'Source': 1, 'Name_y': 1, 'Code_y': 1, 'Role': 1, 'Start Date': 1, 'Name': 6, 'Code': 1, 'Participation': 1, 'Contribution': 1, 'absolute_growth_rate_pct': 1, 'compound_annual_growth_rate_cagr_pct': 1, 'revenue_2020_euro': 1, 'revenue_2017_euro': 1, 'number_of_employees_2020': 1, 'number_of_employees_2017': 1, 'founding_year': 2, 'headquarters': 5, 'number_of_employees': 3, 'address': 2, 'website': 3, 'market_cap': 5, 'telephone': 1, 'revenue': 6, 'code': 2, 'rank': 5, 'ceo': 8, 'employees': 6, 'founded': 9, 'marketcap': 3, 'net income': 1, 'link': 5, 'annual_revenue_USD': 1, 'annual_net_income_USD': 1, 'market_capitalization_2022': 1, 'employees_number': 1, 'CEO': 2, 'headquarters_country': 3, 'wikipedia_page_url': 1, 'twitter_page_url': 1, 'facebook_page_url': 1, 'market_value_apr_2022': 1, 'revenue_2020_EU': 1, 'revenue_2017_EU': 1, 'employees_number_2020': 1, 'employees_number_2017': 1, 'company_number': 1, 'registered_office_address': 1, 'company_status': 1, 'company_type': 1, 'company_creation_date': 1, 'nature_of_business': 1, 'INDEX': 1, 'Trade Name': 1, 'Address Name': 1, 'Postalcode': 1, 'City': 1, 'State': 1, 'Country': 2, 'Location type': 1, 'marketCap': 2, 'sharePrice': 1, 'change(1day)': 1, 'change(1year)': 1, 'categories': 4, 'market value (Jan-07-2022)': 1, 'world rank (Jan-07-2022)': 1, 'market value (Jan 1st 2020)': 1, 'world rank (Jan-2020)': 1, 'headquarters country': 1, 'number of employees': 1, 'company business': 1, 'annual revenue in USD': 1, 'annual net income in USD': 1, 'company website': 1, 'valuation': 2, 'dateJoined': 1, 'city': 2, 'investors': 1, 'stage': 1, 'totalRaised': 1, 'id': 4, 'world_rank': 2, 'annual_revenue_in_usd': 1, 'annual_net_income_in_usd': 1, 'annual_results_for_year_ending': 1, 'total_assets_in_usd': 1, 'total_liabilities_in_usd': 1, 'total_equity_in_usd': 1, 'headquarters_region_city': 1, 'headquarters_sub_region': 1, 'headquarters_continent': 2, 'company_business': 1, 'founders': 2, 'company_website': 1, 'marketValue': 1, 'Company ID': 1, 'Company Status': 1, 'Company Type': 1, 'Incorporation Date': 1, 'Dissolution Date': 1, 'Office Address': 1, 'official_name': 1, 'gbp': 1, 'Industry': 1, 'Sector': 3, 'Headquarters': 2, 'Founded': 2, 'share_price': 2, 'change1d': 1, 'change1y': 1, 'price': 2, 'company': 1, 'datejoined': 1, 'selectinvestors': 1, 'type': 2, 'key_people': 1, 'services': 1, 'operating_income': 1, 'total_assets': 1, 'change_1_day': 1, 'change_1_year': 1, 'nation': 1, 'hhid': 1, 'sic_code': 1, 'est_of_ownership': 1, 'locations': 1, 'size': 1, 'Company code': 1, 'Marketcap': 1, 'Share price': 1, 'Earnings': 1, 'Revenue': 1, 'Shares': 1, 'Employees': 2, 'Category': 1, 'Hash': 1, 'in 2021 ranking': 1, 'in 2020 ranking': 1, 'Absolute Growth Rate %': 1, 'Compound Annual Growth Rate (CAGR) %': 1, 'Revenue 2020 (€)': 1, 'Revenue 2017 (€)': 1, 'Number of employees 2020': 1, 'Number of employees 2017': 1, 'Founding Year': 1, 'Company': 1, 'Revenues 2018 $m': 1, 'Family ownership': 1, 'Public/Private': 1, 'Generation': 1, 'Family executive': 1, 'Woman in leadership': 1, 'State (abbreviation)': 1, 'Website': 1, 'codice': 1, 'pricecap': 1, 'BRAND NAME': 1, 'CATEGORY': 1, 'MAIN MARKET': 1, '2010 RANK': 1}\n"
     ]
    }
   ],
   "source": [
    "# dictionary which counts how many times the same column name is used in all datasets\n",
    "columnName2datasets = {}\n",
    "# dictionary which counts how many times x (i.e. a number) columns are in all datasets\n",
    "numColumns2datasets = {}\n",
    "# dictionary which counts how many times x (i.e. a number) rows are in all datasets\n",
    "numRows2datasets = {}\n",
    "# tot rows in all datasets\n",
    "tot_num_row = 0\n",
    "# tot cols in all datasets\n",
    "tot_num_col = 0\n",
    "\n",
    "for file in os.listdir(path):\n",
    "    filepath = f\"{path}/{file}\"\n",
    "    dataset = pd.read_json(filepath)\n",
    "    # get columns name\n",
    "    columnsName = dataset.axes[1]\n",
    "    # get number of rows of current dataset\n",
    "    num_row_dataset = len(dataset.axes[0])\n",
    "    # get number of columns of current dataset\n",
    "    num_column_dataset = len(columnsName)\n",
    "    # update total number of rows of all datasets\n",
    "    tot_num_row += num_row_dataset\n",
    "    # update total number of columns of all datasets\n",
    "    tot_num_col += num_column_dataset\n",
    "\n",
    "    # update dictionaries\n",
    "    if num_row_dataset not in numRows2datasets:\n",
    "        numRows2datasets[num_row_dataset] = 1\n",
    "    else:\n",
    "        numRows2datasets[num_row_dataset] += 1\n",
    "\n",
    "    if num_column_dataset not in numRows2datasets:\n",
    "        numColumns2datasets[num_column_dataset] = 1\n",
    "    else:\n",
    "        numColumns2datasets[num_column_dataset] += 1\n",
    "    \n",
    "    for colName in columnsName:\n",
    "        if colName in columnName2datasets:\n",
    "            columnName2datasets[colName] += 1\n",
    "        else:\n",
    "            columnName2datasets[colName] = 1\n",
    "\n",
    "print(\"Tot cols:\", tot_num_col)\n",
    "print(\"Tot rows:\", tot_num_row)\n",
    "print(\"Columns2datasets\", numColumns2datasets)\n",
    "print(\"Rows2datasets\", numRows2datasets)\n",
    "print(\"columnName2datasets\", columnName2datasets)"
   ]
  }
 ],
 "metadata": {
  "kernelspec": {
   "display_name": "hw8",
   "language": "python",
   "name": "python3"
  },
  "language_info": {
   "codemirror_mode": {
    "name": "ipython",
    "version": 3
   },
   "file_extension": ".py",
   "mimetype": "text/x-python",
   "name": "python",
   "nbconvert_exporter": "python",
   "pygments_lexer": "ipython3",
   "version": "3.10.9"
  },
  "orig_nbformat": 4,
  "vscode": {
   "interpreter": {
    "hash": "20fe05bf6d812f8581d0c3885f26a8156e46b0ff73914791c267a01ece645732"
   }
  }
 },
 "nbformat": 4,
 "nbformat_minor": 2
}
