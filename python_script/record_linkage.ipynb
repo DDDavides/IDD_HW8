{
 "cells": [
  {
   "cell_type": "code",
   "execution_count": 163,
   "metadata": {},
   "outputs": [],
   "source": [
    "import recordlinkage as rl\n",
    "import pandas as pd\n",
    "import os\n",
    "import random as ran\n",
    "from IPython.display import clear_output\n"
   ]
  },
  {
   "cell_type": "code",
   "execution_count": 116,
   "metadata": {},
   "outputs": [],
   "source": [
    "schema_path = \"./csv/schema_final.csv\""
   ]
  },
  {
   "cell_type": "code",
   "execution_count": 117,
   "metadata": {},
   "outputs": [],
   "source": [
    "schema = pd.read_csv(schema_path, index_col=0)\n",
    "schema = schema.reset_index(drop=True)"
   ]
  },
  {
   "attachments": {},
   "cell_type": "markdown",
   "metadata": {},
   "source": [
    "# Preprocessamento"
   ]
  },
  {
   "cell_type": "code",
   "execution_count": 118,
   "metadata": {},
   "outputs": [],
   "source": [
    "from recordlinkage.preprocessing import *"
   ]
  },
  {
   "attachments": {},
   "cell_type": "markdown",
   "metadata": {},
   "source": [
    "## Cleaning dei dati ..."
   ]
  },
  {
   "cell_type": "code",
   "execution_count": 119,
   "metadata": {},
   "outputs": [],
   "source": [
    "schema_cleaned = schema"
   ]
  },
  {
   "cell_type": "code",
   "execution_count": 120,
   "metadata": {},
   "outputs": [
    {
     "name": "stdout",
     "output_type": "stream",
     "text": [
      "                                            name        country market cap  \\\n",
      "0                             berkshire hathaway  united states        NaN   \n",
      "1                                           icbc          china        NaN   \n",
      "2       saudi arabian oil company (saudi aramco)   saudi arabia        NaN   \n",
      "3                                 jpmorgan chase  united states        NaN   \n",
      "4                        china construction bank          china        NaN   \n",
      "...                                          ...            ...        ...   \n",
      "188552                                   gazprom         russia        NaN   \n",
      "188553                                   rosseti         russia        NaN   \n",
      "188554                                 nornickel         russia        NaN   \n",
      "188555                                 severstal         russia        NaN   \n",
      "188556                                      ozon            usa        NaN   \n",
      "\n",
      "       founded year employees                        industry sector  \\\n",
      "0              1939    372000          diversified financials    NaN   \n",
      "1              1984    434089                         banking    NaN   \n",
      "2              1933     68493              oil gas operations    NaN   \n",
      "3              2000    270000  banking and financial services    NaN   \n",
      "4              2014    349671                         banking    NaN   \n",
      "...             ...       ...                             ...    ...   \n",
      "188552          NaN       NaN                             NaN    NaN   \n",
      "188553          NaN       NaN                             NaN    NaN   \n",
      "188554          NaN       NaN                             NaN    NaN   \n",
      "188555          NaN       NaN                             NaN    NaN   \n",
      "188556          NaN       NaN                             NaN    NaN   \n",
      "\n",
      "                            ceo  revenue Stock share price city address  \\\n",
      "0         warren edward buffett  $276.1b   NaN         NaN  NaN     NaN   \n",
      "1                        shu gu  $208.1b   NaN         NaN  NaN     NaN   \n",
      "2       amin bin hasan alnasser  $400.4b   NaN         NaN  NaN     NaN   \n",
      "3                   jamie dimon  $124.5b   NaN         NaN  NaN     NaN   \n",
      "4                     wang zuji  $202.1b   NaN         NaN  NaN     NaN   \n",
      "...                         ...      ...   ...         ...  ...     ...   \n",
      "188552                      NaN      NaN   NaN           2  NaN     NaN   \n",
      "188553                      NaN      NaN   NaN         NaN  NaN     NaN   \n",
      "188554                      NaN      NaN   NaN         211  NaN     NaN   \n",
      "188555                      NaN      NaN   NaN          12  NaN     NaN   \n",
      "188556                      NaN      NaN   NaN         NaN  NaN     NaN   \n",
      "\n",
      "       website  \n",
      "0          NaN  \n",
      "1          NaN  \n",
      "2          NaN  \n",
      "3          NaN  \n",
      "4          NaN  \n",
      "...        ...  \n",
      "188552     NaN  \n",
      "188553     NaN  \n",
      "188554     NaN  \n",
      "188555     NaN  \n",
      "188556     NaN  \n",
      "\n",
      "[188557 rows x 14 columns]\n"
     ]
    }
   ],
   "source": [
    "for i in range(len(schema.index)):\n",
    "    row = schema.iloc[i]\n",
    "    row_series = row.squeeze()\n",
    "    nome = pd.Series(row[\"name\"])\n",
    "    try:\n",
    "        nome_cleaned = clean(nome, lowercase=True, replace_by_none='', replace_by_whitespace='', strip_accents='unicode', remove_brackets=False, encoding='utf-8', decode_error='strict')\n",
    "    except:\n",
    "        print(nome)\n",
    "    row_series_cleaned = clean(row_series, lowercase=True, replace_by_none=r'[^ \\\\.\\\\-\\\\_A-Za-z0-9$€£¥₩₽₹฿₪¤¢₺₱]+', replace_by_whitespace=r'[\\\\-\\\\_]', strip_accents=None, remove_brackets=False, encoding='utf-8', decode_error='strict')\n",
    "    schema_cleaned.iloc[i] = row_series_cleaned\n",
    "    schema_cleaned.iloc[i][\"name\"] = nome_cleaned[0]\n",
    "print(schema_cleaned)"
   ]
  },
  {
   "attachments": {},
   "cell_type": "markdown",
   "metadata": {},
   "source": [
    "# Occorrenze token per riga"
   ]
  },
  {
   "cell_type": "code",
   "execution_count": 121,
   "metadata": {},
   "outputs": [],
   "source": [
    "# value_occurence(schema)"
   ]
  },
  {
   "attachments": {},
   "cell_type": "markdown",
   "metadata": {},
   "source": [
    "# Blocking"
   ]
  },
  {
   "cell_type": "code",
   "execution_count": 135,
   "metadata": {},
   "outputs": [
    {
     "name": "stdout",
     "output_type": "stream",
     "text": [
      "MultiIndex([(  2966,      0),\n",
      "            ( 12966,      0),\n",
      "            ( 12966,   2966),\n",
      "            ( 30538,      0),\n",
      "            ( 30538,   2966),\n",
      "            ( 30538,  12966),\n",
      "            ( 34398,      0),\n",
      "            ( 34398,   2966),\n",
      "            ( 34398,  12966),\n",
      "            ( 34398,  30538),\n",
      "            ...\n",
      "            (176795, 176576),\n",
      "            (176851, 176580),\n",
      "            (176729, 176591),\n",
      "            (176697, 176602),\n",
      "            (176751, 176606),\n",
      "            (177007, 176616),\n",
      "            (176863, 176642),\n",
      "            (176934, 176671),\n",
      "            (176984, 176796),\n",
      "            (177004, 176877)],\n",
      "           length=549188)\n"
     ]
    }
   ],
   "source": [
    "indexer = rl.Index()\n",
    "indexer.block(left_on='name', right_on='name')\n",
    "candidate_links = indexer.index(schema_cleaned)\n",
    "print((candidate_links))"
   ]
  },
  {
   "attachments": {},
   "cell_type": "markdown",
   "metadata": {},
   "source": [
    "# Labeling"
   ]
  },
  {
   "cell_type": "code",
   "execution_count": 184,
   "metadata": {},
   "outputs": [],
   "source": [
    "n_match = 2\n",
    "link_idxs = set()\n",
    "labeled_links = set()\n",
    "clear = lambda: os.system('clear')\n",
    "choices = ran.choices(candidate_links, k=n_match)\n",
    "for choice in choices:\n",
    "    print(\"I due record appartengono alla stessa entità?\")\n",
    "    print(\"y -> sì;  n -> no;  q -> esci\")\n",
    "    print((schema_cleaned.iloc[[choice[0], choice[1]]]))\n",
    "    valido = False\n",
    "    stop = False\n",
    "    while(not valido):\n",
    "        inp = input()\n",
    "        if(inp == 'q'):\n",
    "            stop = True\n",
    "            break\n",
    "        if(inp == 'y'):\n",
    "            valido = True\n",
    "            link_idxs.add(choice)\n",
    "            labeled_links.add(choice + (1,))\n",
    "        elif(inp == 'n'):\n",
    "            valido = True\n",
    "            labeled_links.add(choice + (1.))\n",
    "    if(stop):\n",
    "        break\n",
    "    clear_output()\n",
    "\n",
    "golden_path = \"./csv/golden_links.csv\"\n",
    "golden_df = pd.read_csv(golden_path, index_col=False)\n",
    "new_golden_df = pd.DataFrame(link_idxs, columns=['id_1', 'id_2'])\n",
    "pd.concat([golden_df, new_golden_df]).to_csv(golden_path)\n",
    "\n",
    "labeled_path = \"./csv/labeled_links.csv\"\n",
    "labeled_df = pd.read_csv(labeled_path, index_col=False)\n",
    "new_labeled_df = pd.DataFrame(labeled_links, columns=['id_1', 'id_2', 'match'])\n",
    "labeled_df = pd.concat([labeled_links, new_labeled_df])\n",
    "new_labeled_df.to_csv(labeled_path)"
   ]
  },
  {
   "cell_type": "code",
   "execution_count": 123,
   "metadata": {},
   "outputs": [
    {
     "name": "stdout",
     "output_type": "stream",
     "text": [
      "1.544670027008048e-05\n"
     ]
    }
   ],
   "source": [
    "print(len(candidate_links)/len(schema_cleaned)**2)"
   ]
  },
  {
   "attachments": {},
   "cell_type": "markdown",
   "metadata": {},
   "source": [
    "# Pre-Labeling"
   ]
  },
  {
   "cell_type": "code",
   "execution_count": 124,
   "metadata": {},
   "outputs": [
    {
     "data": {
      "text/plain": [
       "['name',\n",
       " 'country',\n",
       " 'market cap',\n",
       " 'founded year',\n",
       " 'employees',\n",
       " 'industry',\n",
       " 'sector',\n",
       " 'ceo',\n",
       " 'revenue',\n",
       " 'Stock',\n",
       " 'share price',\n",
       " 'city',\n",
       " 'address',\n",
       " 'website']"
      ]
     },
     "execution_count": 124,
     "metadata": {},
     "output_type": "execute_result"
    }
   ],
   "source": [
    "['name', 'country', 'market cap', 'founded year', 'employees', 'industry', 'sector',\n",
    "     'ceo', 'revenue', 'Stock', 'share price', 'city', 'address', 'website']"
   ]
  },
  {
   "cell_type": "code",
   "execution_count": 125,
   "metadata": {},
   "outputs": [],
   "source": [
    "compare_cl = rl.Compare()\n",
    "compare_cl.string(\"name\", \"name\", threshold=0.85, label=\"name\")\n",
    "compare_cl.string(\"country\", \"country\", label=\"country\")\n",
    "compare_cl.string(\"founded year\", \"founded year\", label=\"founded year\")\n",
    "compare_cl.string(\"industry\", \"industry\", label=\"industry\")\n",
    "compare_cl.string(\"sector\", \"sector\", label=\"sector\")\n",
    "compare_cl.string(\"address\", \"address\", label=\"address\")\n",
    "compare_cl.string(\"city\", \"city\", label=\"city\")\n",
    "compare_cl.string(\"ceo\", \"ceo\", label=\"ceo\")\n",
    "features = compare_cl.compute(candidate_links, schema, schema)"
   ]
  },
  {
   "cell_type": "code",
   "execution_count": 126,
   "metadata": {},
   "outputs": [
    {
     "data": {
      "text/html": [
       "<div>\n",
       "<style scoped>\n",
       "    .dataframe tbody tr th:only-of-type {\n",
       "        vertical-align: middle;\n",
       "    }\n",
       "\n",
       "    .dataframe tbody tr th {\n",
       "        vertical-align: top;\n",
       "    }\n",
       "\n",
       "    .dataframe thead th {\n",
       "        text-align: right;\n",
       "    }\n",
       "</style>\n",
       "<table border=\"1\" class=\"dataframe\">\n",
       "  <thead>\n",
       "    <tr style=\"text-align: right;\">\n",
       "      <th></th>\n",
       "      <th></th>\n",
       "      <th>name</th>\n",
       "      <th>country</th>\n",
       "      <th>founded year</th>\n",
       "      <th>industry</th>\n",
       "      <th>sector</th>\n",
       "      <th>address</th>\n",
       "      <th>city</th>\n",
       "      <th>ceo</th>\n",
       "    </tr>\n",
       "  </thead>\n",
       "  <tbody>\n",
       "    <tr>\n",
       "      <th>2966</th>\n",
       "      <th>0</th>\n",
       "      <td>1.0</td>\n",
       "      <td>0.230769</td>\n",
       "      <td>0.750000</td>\n",
       "      <td>0.000000</td>\n",
       "      <td>0.0</td>\n",
       "      <td>0.0</td>\n",
       "      <td>0.0</td>\n",
       "      <td>0.666667</td>\n",
       "    </tr>\n",
       "    <tr>\n",
       "      <th rowspan=\"2\" valign=\"top\">12966</th>\n",
       "      <th>0</th>\n",
       "      <td>1.0</td>\n",
       "      <td>0.000000</td>\n",
       "      <td>0.250000</td>\n",
       "      <td>0.000000</td>\n",
       "      <td>0.0</td>\n",
       "      <td>0.0</td>\n",
       "      <td>0.0</td>\n",
       "      <td>0.480000</td>\n",
       "    </tr>\n",
       "    <tr>\n",
       "      <th>2966</th>\n",
       "      <td>1.0</td>\n",
       "      <td>0.000000</td>\n",
       "      <td>0.333333</td>\n",
       "      <td>0.000000</td>\n",
       "      <td>0.0</td>\n",
       "      <td>0.0</td>\n",
       "      <td>0.0</td>\n",
       "      <td>0.560000</td>\n",
       "    </tr>\n",
       "    <tr>\n",
       "      <th rowspan=\"2\" valign=\"top\">30538</th>\n",
       "      <th>0</th>\n",
       "      <td>1.0</td>\n",
       "      <td>1.000000</td>\n",
       "      <td>0.750000</td>\n",
       "      <td>0.173913</td>\n",
       "      <td>0.0</td>\n",
       "      <td>0.0</td>\n",
       "      <td>0.0</td>\n",
       "      <td>0.571429</td>\n",
       "    </tr>\n",
       "    <tr>\n",
       "      <th>2966</th>\n",
       "      <td>1.0</td>\n",
       "      <td>0.230769</td>\n",
       "      <td>1.000000</td>\n",
       "      <td>0.000000</td>\n",
       "      <td>0.0</td>\n",
       "      <td>0.0</td>\n",
       "      <td>0.0</td>\n",
       "      <td>0.666667</td>\n",
       "    </tr>\n",
       "    <tr>\n",
       "      <th>...</th>\n",
       "      <th>...</th>\n",
       "      <td>...</td>\n",
       "      <td>...</td>\n",
       "      <td>...</td>\n",
       "      <td>...</td>\n",
       "      <td>...</td>\n",
       "      <td>...</td>\n",
       "      <td>...</td>\n",
       "      <td>...</td>\n",
       "    </tr>\n",
       "    <tr>\n",
       "      <th>177007</th>\n",
       "      <th>176616</th>\n",
       "      <td>1.0</td>\n",
       "      <td>1.000000</td>\n",
       "      <td>1.000000</td>\n",
       "      <td>1.000000</td>\n",
       "      <td>0.0</td>\n",
       "      <td>0.0</td>\n",
       "      <td>0.0</td>\n",
       "      <td>0.000000</td>\n",
       "    </tr>\n",
       "    <tr>\n",
       "      <th>176863</th>\n",
       "      <th>176642</th>\n",
       "      <td>1.0</td>\n",
       "      <td>1.000000</td>\n",
       "      <td>0.500000</td>\n",
       "      <td>1.000000</td>\n",
       "      <td>0.0</td>\n",
       "      <td>0.0</td>\n",
       "      <td>0.0</td>\n",
       "      <td>0.000000</td>\n",
       "    </tr>\n",
       "    <tr>\n",
       "      <th>176934</th>\n",
       "      <th>176671</th>\n",
       "      <td>1.0</td>\n",
       "      <td>1.000000</td>\n",
       "      <td>1.000000</td>\n",
       "      <td>1.000000</td>\n",
       "      <td>0.0</td>\n",
       "      <td>0.0</td>\n",
       "      <td>0.0</td>\n",
       "      <td>0.000000</td>\n",
       "    </tr>\n",
       "    <tr>\n",
       "      <th>176984</th>\n",
       "      <th>176796</th>\n",
       "      <td>1.0</td>\n",
       "      <td>1.000000</td>\n",
       "      <td>1.000000</td>\n",
       "      <td>1.000000</td>\n",
       "      <td>0.0</td>\n",
       "      <td>0.0</td>\n",
       "      <td>0.0</td>\n",
       "      <td>0.000000</td>\n",
       "    </tr>\n",
       "    <tr>\n",
       "      <th>177004</th>\n",
       "      <th>176877</th>\n",
       "      <td>1.0</td>\n",
       "      <td>1.000000</td>\n",
       "      <td>1.000000</td>\n",
       "      <td>1.000000</td>\n",
       "      <td>0.0</td>\n",
       "      <td>0.0</td>\n",
       "      <td>0.0</td>\n",
       "      <td>0.000000</td>\n",
       "    </tr>\n",
       "  </tbody>\n",
       "</table>\n",
       "<p>549188 rows × 8 columns</p>\n",
       "</div>"
      ],
      "text/plain": [
       "               name   country  founded year  industry  sector  address  city  \\\n",
       "2966   0        1.0  0.230769      0.750000  0.000000     0.0      0.0   0.0   \n",
       "12966  0        1.0  0.000000      0.250000  0.000000     0.0      0.0   0.0   \n",
       "       2966     1.0  0.000000      0.333333  0.000000     0.0      0.0   0.0   \n",
       "30538  0        1.0  1.000000      0.750000  0.173913     0.0      0.0   0.0   \n",
       "       2966     1.0  0.230769      1.000000  0.000000     0.0      0.0   0.0   \n",
       "...             ...       ...           ...       ...     ...      ...   ...   \n",
       "177007 176616   1.0  1.000000      1.000000  1.000000     0.0      0.0   0.0   \n",
       "176863 176642   1.0  1.000000      0.500000  1.000000     0.0      0.0   0.0   \n",
       "176934 176671   1.0  1.000000      1.000000  1.000000     0.0      0.0   0.0   \n",
       "176984 176796   1.0  1.000000      1.000000  1.000000     0.0      0.0   0.0   \n",
       "177004 176877   1.0  1.000000      1.000000  1.000000     0.0      0.0   0.0   \n",
       "\n",
       "                    ceo  \n",
       "2966   0       0.666667  \n",
       "12966  0       0.480000  \n",
       "       2966    0.560000  \n",
       "30538  0       0.571429  \n",
       "       2966    0.666667  \n",
       "...                 ...  \n",
       "177007 176616  0.000000  \n",
       "176863 176642  0.000000  \n",
       "176934 176671  0.000000  \n",
       "176984 176796  0.000000  \n",
       "177004 176877  0.000000  \n",
       "\n",
       "[549188 rows x 8 columns]"
      ]
     },
     "execution_count": 126,
     "metadata": {},
     "output_type": "execute_result"
    }
   ],
   "source": [
    "features"
   ]
  },
  {
   "cell_type": "code",
   "execution_count": 127,
   "metadata": {},
   "outputs": [
    {
     "data": {
      "text/html": [
       "<div>\n",
       "<style scoped>\n",
       "    .dataframe tbody tr th:only-of-type {\n",
       "        vertical-align: middle;\n",
       "    }\n",
       "\n",
       "    .dataframe tbody tr th {\n",
       "        vertical-align: top;\n",
       "    }\n",
       "\n",
       "    .dataframe thead th {\n",
       "        text-align: right;\n",
       "    }\n",
       "</style>\n",
       "<table border=\"1\" class=\"dataframe\">\n",
       "  <thead>\n",
       "    <tr style=\"text-align: right;\">\n",
       "      <th></th>\n",
       "      <th>name</th>\n",
       "      <th>country</th>\n",
       "      <th>founded year</th>\n",
       "      <th>industry</th>\n",
       "      <th>sector</th>\n",
       "      <th>address</th>\n",
       "      <th>city</th>\n",
       "      <th>ceo</th>\n",
       "    </tr>\n",
       "  </thead>\n",
       "  <tbody>\n",
       "    <tr>\n",
       "      <th>count</th>\n",
       "      <td>549188.0</td>\n",
       "      <td>549188.000000</td>\n",
       "      <td>549188.000000</td>\n",
       "      <td>549188.000000</td>\n",
       "      <td>549188.000000</td>\n",
       "      <td>549188.000000</td>\n",
       "      <td>549188.000000</td>\n",
       "      <td>549188.000000</td>\n",
       "    </tr>\n",
       "    <tr>\n",
       "      <th>mean</th>\n",
       "      <td>1.0</td>\n",
       "      <td>0.428896</td>\n",
       "      <td>0.043542</td>\n",
       "      <td>0.032894</td>\n",
       "      <td>0.042351</td>\n",
       "      <td>0.011631</td>\n",
       "      <td>0.004851</td>\n",
       "      <td>0.049363</td>\n",
       "    </tr>\n",
       "    <tr>\n",
       "      <th>std</th>\n",
       "      <td>0.0</td>\n",
       "      <td>0.487790</td>\n",
       "      <td>0.195757</td>\n",
       "      <td>0.173933</td>\n",
       "      <td>0.200951</td>\n",
       "      <td>0.088958</td>\n",
       "      <td>0.069450</td>\n",
       "      <td>0.203521</td>\n",
       "    </tr>\n",
       "    <tr>\n",
       "      <th>min</th>\n",
       "      <td>1.0</td>\n",
       "      <td>0.000000</td>\n",
       "      <td>0.000000</td>\n",
       "      <td>0.000000</td>\n",
       "      <td>0.000000</td>\n",
       "      <td>0.000000</td>\n",
       "      <td>0.000000</td>\n",
       "      <td>0.000000</td>\n",
       "    </tr>\n",
       "    <tr>\n",
       "      <th>25%</th>\n",
       "      <td>1.0</td>\n",
       "      <td>0.000000</td>\n",
       "      <td>0.000000</td>\n",
       "      <td>0.000000</td>\n",
       "      <td>0.000000</td>\n",
       "      <td>0.000000</td>\n",
       "      <td>0.000000</td>\n",
       "      <td>0.000000</td>\n",
       "    </tr>\n",
       "    <tr>\n",
       "      <th>50%</th>\n",
       "      <td>1.0</td>\n",
       "      <td>0.000000</td>\n",
       "      <td>0.000000</td>\n",
       "      <td>0.000000</td>\n",
       "      <td>0.000000</td>\n",
       "      <td>0.000000</td>\n",
       "      <td>0.000000</td>\n",
       "      <td>0.000000</td>\n",
       "    </tr>\n",
       "    <tr>\n",
       "      <th>75%</th>\n",
       "      <td>1.0</td>\n",
       "      <td>1.000000</td>\n",
       "      <td>0.000000</td>\n",
       "      <td>0.000000</td>\n",
       "      <td>0.000000</td>\n",
       "      <td>0.000000</td>\n",
       "      <td>0.000000</td>\n",
       "      <td>0.000000</td>\n",
       "    </tr>\n",
       "    <tr>\n",
       "      <th>max</th>\n",
       "      <td>1.0</td>\n",
       "      <td>1.000000</td>\n",
       "      <td>1.000000</td>\n",
       "      <td>1.000000</td>\n",
       "      <td>1.000000</td>\n",
       "      <td>1.000000</td>\n",
       "      <td>1.000000</td>\n",
       "      <td>1.000000</td>\n",
       "    </tr>\n",
       "  </tbody>\n",
       "</table>\n",
       "</div>"
      ],
      "text/plain": [
       "           name        country   founded year       industry         sector  \\\n",
       "count  549188.0  549188.000000  549188.000000  549188.000000  549188.000000   \n",
       "mean        1.0       0.428896       0.043542       0.032894       0.042351   \n",
       "std         0.0       0.487790       0.195757       0.173933       0.200951   \n",
       "min         1.0       0.000000       0.000000       0.000000       0.000000   \n",
       "25%         1.0       0.000000       0.000000       0.000000       0.000000   \n",
       "50%         1.0       0.000000       0.000000       0.000000       0.000000   \n",
       "75%         1.0       1.000000       0.000000       0.000000       0.000000   \n",
       "max         1.0       1.000000       1.000000       1.000000       1.000000   \n",
       "\n",
       "             address           city            ceo  \n",
       "count  549188.000000  549188.000000  549188.000000  \n",
       "mean        0.011631       0.004851       0.049363  \n",
       "std         0.088958       0.069450       0.203521  \n",
       "min         0.000000       0.000000       0.000000  \n",
       "25%         0.000000       0.000000       0.000000  \n",
       "50%         0.000000       0.000000       0.000000  \n",
       "75%         0.000000       0.000000       0.000000  \n",
       "max         1.000000       1.000000       1.000000  "
      ]
     },
     "execution_count": 127,
     "metadata": {},
     "output_type": "execute_result"
    }
   ],
   "source": [
    "features.describe()"
   ]
  },
  {
   "cell_type": "code",
   "execution_count": 128,
   "metadata": {},
   "outputs": [
    {
     "data": {
      "text/plain": [
       "6.000000       315\n",
       "5.972222         1\n",
       "5.966102         1\n",
       "5.961538         1\n",
       "5.956522         1\n",
       "             ...  \n",
       "1.023810         1\n",
       "1.021898         2\n",
       "1.019231         3\n",
       "1.017857         1\n",
       "1.000000    247199\n",
       "Length: 3342, dtype: int64"
      ]
     },
     "execution_count": 128,
     "metadata": {},
     "output_type": "execute_result"
    }
   ],
   "source": [
    "features.sum(axis=1).value_counts().sort_index(ascending=False)"
   ]
  },
  {
   "cell_type": "code",
   "execution_count": 129,
   "metadata": {},
   "outputs": [],
   "source": [
    "record_linked = features[features.sum(axis=1) > 3]"
   ]
  },
  {
   "cell_type": "code",
   "execution_count": 130,
   "metadata": {},
   "outputs": [
    {
     "name": "stdout",
     "output_type": "stream",
     "text": [
      "               name  country  founded year  industry  sector  address  city  \\\n",
      "30538  0        1.0      1.0      0.750000  0.173913     0.0      0.0   0.0   \n",
      "178886 2966     1.0      1.0      0.666667  0.000000     0.0      0.0   0.0   \n",
      "2995   1        1.0      1.0      1.000000  0.000000     0.0      0.0   0.0   \n",
      "2965   2        1.0      1.0      1.000000  0.000000     0.0      0.0   0.0   \n",
      "178881 2        1.0      1.0      0.666667  0.000000     0.0      0.0   0.0   \n",
      "...             ...      ...           ...       ...     ...      ...   ...   \n",
      "177007 176616   1.0      1.0      1.000000  1.000000     0.0      0.0   0.0   \n",
      "176863 176642   1.0      1.0      0.500000  1.000000     0.0      0.0   0.0   \n",
      "176934 176671   1.0      1.0      1.000000  1.000000     0.0      0.0   0.0   \n",
      "176984 176796   1.0      1.0      1.000000  1.000000     0.0      0.0   0.0   \n",
      "177004 176877   1.0      1.0      1.000000  1.000000     0.0      0.0   0.0   \n",
      "\n",
      "                    ceo  \n",
      "30538  0       0.571429  \n",
      "178886 2966    1.000000  \n",
      "2995   1       0.181818  \n",
      "2965   2       0.321429  \n",
      "178881 2       0.652174  \n",
      "...                 ...  \n",
      "177007 176616  0.000000  \n",
      "176863 176642  0.000000  \n",
      "176934 176671  0.000000  \n",
      "176984 176796  0.000000  \n",
      "177004 176877  0.000000  \n",
      "\n",
      "[23060 rows x 8 columns]\n"
     ]
    }
   ],
   "source": [
    "print(record_linked)"
   ]
  },
  {
   "attachments": {},
   "cell_type": "markdown",
   "metadata": {},
   "source": [
    "# Classification"
   ]
  },
  {
   "cell_type": "code",
   "execution_count": 134,
   "metadata": {},
   "outputs": [
    {
     "name": "stdout",
     "output_type": "stream",
     "text": [
      "23060\n",
      "21561\n"
     ]
    },
    {
     "name": "stderr",
     "output_type": "stream",
     "text": [
      "/opt/homebrew/Caskroom/miniconda/base/envs/IDD/lib/python3.10/site-packages/recordlinkage/algorithms/nb_sklearn.py:592: RuntimeWarning: divide by zero encountered in log\n",
      "  feature_log_prob_ = np.log(feature_prob_)\n"
     ]
    }
   ],
   "source": [
    "ECM = rl.ECMClassifier(binarize=0.6)\n",
    "record_linked.index.names = (['id1', 'id2'])\n",
    "print(len(record_linked.index))\n",
    "result = ECM.fit_predict(record_linked)\n",
    "print(len(result))"
   ]
  }
 ],
 "metadata": {
  "kernelspec": {
   "display_name": "IDD",
   "language": "python",
   "name": "python3"
  },
  "language_info": {
   "codemirror_mode": {
    "name": "ipython",
    "version": 3
   },
   "file_extension": ".py",
   "mimetype": "text/x-python",
   "name": "python",
   "nbconvert_exporter": "python",
   "pygments_lexer": "ipython3",
   "version": "3.10.9"
  },
  "orig_nbformat": 4,
  "vscode": {
   "interpreter": {
    "hash": "7ce6619c7d95fa66adab3aa560eb20f28a01e1f23fb927f9fbc92f5fa3f739e8"
   }
  }
 },
 "nbformat": 4,
 "nbformat_minor": 2
}
