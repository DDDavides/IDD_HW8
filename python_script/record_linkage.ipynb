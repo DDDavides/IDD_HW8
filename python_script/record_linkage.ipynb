{
 "cells": [
  {
   "cell_type": "code",
   "execution_count": null,
   "metadata": {},
   "outputs": [],
   "source": [
    "import recordlinkage as rl\n",
    "import pandas as pd\n",
    "import os\n",
    "import random as ran\n",
    "from IPython.display import clear_output\n"
   ]
  },
  {
   "cell_type": "code",
   "execution_count": null,
   "metadata": {},
   "outputs": [],
   "source": [
    "schema_path = \"./schema_matching/csv/schema_final.csv\""
   ]
  },
  {
   "cell_type": "code",
   "execution_count": null,
   "metadata": {},
   "outputs": [],
   "source": [
    "schema = pd.read_csv(schema_path, index_col=0)\n",
    "schema = schema.reset_index(drop=True) # Per evitare che gli indici siano letti come decimanli (i.e. 1.0 invece di 1)"
   ]
  },
  {
   "attachments": {},
   "cell_type": "markdown",
   "metadata": {},
   "source": [
    "# Preprocessamento"
   ]
  },
  {
   "cell_type": "code",
   "execution_count": null,
   "metadata": {},
   "outputs": [],
   "source": [
    "from recordlinkage.preprocessing import *"
   ]
  },
  {
   "attachments": {},
   "cell_type": "markdown",
   "metadata": {},
   "source": [
    "## Cleaning dei dati ..."
   ]
  },
  {
   "cell_type": "code",
   "execution_count": null,
   "metadata": {},
   "outputs": [],
   "source": [
    "schema_cleaned = schema # creo una copia per non modificare lo schema iniziale"
   ]
  },
  {
   "cell_type": "code",
   "execution_count": null,
   "metadata": {},
   "outputs": [],
   "source": [
    "# Cleaning dei dati iterando per riga\n",
    "for i in range(len(schema.index)):\n",
    "    row = schema.iloc[i]\n",
    "    row_series = row.squeeze() # BOO\n",
    "    nome = pd.Series(row[\"name\"])\n",
    "    try:\n",
    "        nome_cleaned = clean(nome, lowercase=True, replace_by_none='', replace_by_whitespace='', strip_accents='unicode', remove_brackets=False, encoding='utf-8', decode_error='strict')\n",
    "    except:\n",
    "        print(nome)\n",
    "    # Si evita il cleaning di caratteri relative alle valute presenti nei datasets\n",
    "    row_series_cleaned = clean(row_series, lowercase=True, replace_by_none=r'[^ \\\\.\\\\-\\\\_A-Za-z0-9$€£¥₩₽₹฿₪¤¢₺₱]+', replace_by_whitespace=r'[\\\\-\\\\_]', strip_accents=None, remove_brackets=False, encoding='utf-8', decode_error='strict')\n",
    "    schema_cleaned.iloc[i] = row_series_cleaned\n",
    "    schema_cleaned.iloc[i][\"name\"] = nome_cleaned[0]\n",
    "print(schema_cleaned)"
   ]
  },
  {
   "attachments": {},
   "cell_type": "markdown",
   "metadata": {},
   "source": [
    "# Occorrenze token per riga"
   ]
  },
  {
   "cell_type": "code",
   "execution_count": null,
   "metadata": {},
   "outputs": [],
   "source": [
    "# value_occurence(schema)"
   ]
  },
  {
   "attachments": {},
   "cell_type": "markdown",
   "metadata": {},
   "source": [
    "# Blocking"
   ]
  },
  {
   "cell_type": "code",
   "execution_count": null,
   "metadata": {},
   "outputs": [],
   "source": [
    "indexer = rl.Index()\n",
    "indexer.block(left_on='name', right_on='name')\n",
    "candidate_links = indexer.index(schema_cleaned)\n",
    "print((candidate_links))"
   ]
  },
  {
   "attachments": {},
   "cell_type": "markdown",
   "metadata": {},
   "source": [
    "# Labeling"
   ]
  },
  {
   "cell_type": "code",
   "execution_count": null,
   "metadata": {},
   "outputs": [],
   "source": [
    "keys = ['name', 'country', 'market cap', 'founded year', 'employees', 'industry', 'sector',\n",
    "     'ceo', 'revenue', 'stock', 'share price', 'city', 'address', 'website']\n",
    "\n",
    "clear = lambda: os.system('clear')"
   ]
  },
  {
   "cell_type": "code",
   "execution_count": null,
   "metadata": {},
   "outputs": [],
   "source": [
    "n_match = 500\n",
    "choices = ran.choices(candidate_links, k=n_match)\n",
    "\n",
    "lKeys = {key : f\"l_{key}\" for key in keys}\n",
    "rKeys = {key : f\"r_{key}\" for key in keys}\n",
    "\n",
    "idxKeys = [\"id_1\", \"id_2\"]\n",
    "\n",
    "choices_column = [*idxKeys, *lKeys.values(), *rKeys.values()] # id_1, id_2, l_attr, r_attr\n",
    "choices_df = pd.DataFrame(columns=choices_column) # \n",
    "for choice in choices:\n",
    "    lRow = schema_cleaned.iloc[[choice[0]]]\n",
    "    rRow = schema_cleaned.iloc[[choice[1]]]\n",
    "\n",
    "    lRow = lRow.rename(columns=lKeys).reset_index(drop=True)\n",
    "    rRow = rRow.rename(columns=rKeys).reset_index(drop=True)\n",
    "\n",
    "    idxs = pd.DataFrame({idxKeys[0]: [choice[0]], idxKeys[1]: [choice[1]]})\n",
    "    row = pd.concat([idxs, lRow, rRow], axis=1)\n",
    "    choices_df = pd.concat([choices_df, row], axis=0)\n",
    "\n",
    "# choices_df.reset_index(inplace=True)\n",
    "choices_df.set_index(idxKeys)"
   ]
  },
  {
   "cell_type": "code",
   "execution_count": null,
   "metadata": {},
   "outputs": [],
   "source": [
    "choices_path = \"./schema_matching/csv/choices.csv\"\n",
    "choices_df.to_csv(choices_path, index=None)\n"
   ]
  },
  {
   "cell_type": "code",
   "execution_count": null,
   "metadata": {},
   "outputs": [],
   "source": [
    "choices_df = pd.read_csv(choices_path, index_col=[0, 1])\n",
    "choices_df"
   ]
  },
  {
   "cell_type": "code",
   "execution_count": null,
   "metadata": {},
   "outputs": [],
   "source": [
    "golden_path = \"./schema_matching/csv/golden_links.csv\"\n",
    "try: \n",
    "    golden = pd.read_csv(golden_path, index_col=None)\n",
    "except:\n",
    "    golden = pd.DataFrame(columns=[*choices_column, \"label\"])\n",
    "    golden.set_index(idxKeys)"
   ]
  },
  {
   "cell_type": "code",
   "execution_count": null,
   "metadata": {},
   "outputs": [],
   "source": [
    "golden"
   ]
  },
  {
   "cell_type": "code",
   "execution_count": null,
   "metadata": {},
   "outputs": [],
   "source": [
    "for idxs, choice in choices_df.iterrows():\n",
    "    print(\"I due record appartengono alla stessa entità?\")\n",
    "    print(\"y -> sì;  n -> no;  q -> esci\")\n",
    "    choice = choice.to_frame().T.reset_index(drop=True)\n",
    "\n",
    "    # pretty-print per jupyter-notebook\n",
    "    display(choice[lKeys.values()])\n",
    "    display(choice[rKeys.values()])\n",
    "\n",
    "    stop = False\n",
    "    while(True):\n",
    "        inp = input()\n",
    "        \n",
    "        if(inp == 'q'):\n",
    "            stop = True\n",
    "            break\n",
    "        \n",
    "        if inp not in [\"y\", \"n\"]:\n",
    "            continue\n",
    "\n",
    "        # Da concatentare al db golden\n",
    "        idx = pd.DataFrame({idxKeys[0]: [idxs[0]], idxKeys[1]: [idxs[1]]}) # dataframe[\"id_1\", \"id_2\"] dove sono salvati gli indici delle ennuple da etichettare\n",
    "        label = pd.DataFrame({\"label\" : [int(inp == \"y\")]}) # dataframe con attributo label e il valore associato\n",
    "\n",
    "        row = pd.concat([idx, choice, label], axis=1) #\n",
    "        golden = pd.concat([golden, row], axis=0)\n",
    "        \n",
    "        # drop delle righe che sono state già etichettate\n",
    "        choices_df.drop(axis=0, labels=idxs, inplace=True)\n",
    "        break\n",
    "    \n",
    "    if(stop):\n",
    "        break\n",
    "    clear_output()\n"
   ]
  },
  {
   "cell_type": "code",
   "execution_count": null,
   "metadata": {},
   "outputs": [],
   "source": [
    "golden"
   ]
  },
  {
   "cell_type": "code",
   "execution_count": null,
   "metadata": {},
   "outputs": [],
   "source": [
    "golden.reset_index(drop=True, inplace=True)\n",
    "golden"
   ]
  },
  {
   "cell_type": "code",
   "execution_count": null,
   "metadata": {},
   "outputs": [],
   "source": [
    "choices_df"
   ]
  },
  {
   "cell_type": "code",
   "execution_count": null,
   "metadata": {},
   "outputs": [],
   "source": [
    "choices_df.to_csv(choices_path)\n",
    "golden.to_csv(golden_path, index=None)"
   ]
  },
  {
   "cell_type": "code",
   "execution_count": null,
   "metadata": {},
   "outputs": [],
   "source": [
    "print(len(candidate_links)/len(schema_cleaned)**2)"
   ]
  },
  {
   "attachments": {},
   "cell_type": "markdown",
   "metadata": {},
   "source": [
    "# Pre-Labeling"
   ]
  },
  {
   "cell_type": "code",
   "execution_count": null,
   "metadata": {},
   "outputs": [],
   "source": [
    "compare_cl = rl.Compare()\n",
    "compare_cl.string(\"name\", \"name\", threshold=0.85, label=\"name\")\n",
    "compare_cl.string(\"country\", \"country\", label=\"country\")\n",
    "compare_cl.string(\"founded year\", \"founded year\", label=\"founded year\")\n",
    "compare_cl.string(\"industry\", \"industry\", label=\"industry\")\n",
    "compare_cl.string(\"sector\", \"sector\", label=\"sector\")\n",
    "compare_cl.string(\"address\", \"address\", label=\"address\")\n",
    "compare_cl.string(\"city\", \"city\", label=\"city\")\n",
    "compare_cl.string(\"ceo\", \"ceo\", label=\"ceo\")\n",
    "features = compare_cl.compute(candidate_links, schema, schema)"
   ]
  },
  {
   "cell_type": "code",
   "execution_count": null,
   "metadata": {},
   "outputs": [],
   "source": [
    "features"
   ]
  },
  {
   "cell_type": "code",
   "execution_count": null,
   "metadata": {},
   "outputs": [],
   "source": [
    "features.describe()"
   ]
  },
  {
   "cell_type": "code",
   "execution_count": null,
   "metadata": {},
   "outputs": [],
   "source": [
    "features.sum(axis=1).value_counts().sort_index(ascending=False)"
   ]
  },
  {
   "cell_type": "code",
   "execution_count": null,
   "metadata": {},
   "outputs": [],
   "source": [
    "record_linked = features[features.sum(axis=1) > 3]"
   ]
  },
  {
   "cell_type": "code",
   "execution_count": null,
   "metadata": {},
   "outputs": [],
   "source": [
    "print(record_linked)"
   ]
  },
  {
   "attachments": {},
   "cell_type": "markdown",
   "metadata": {},
   "source": [
    "# Classification"
   ]
  },
  {
   "cell_type": "code",
   "execution_count": null,
   "metadata": {},
   "outputs": [],
   "source": [
    "ECM = rl.ECMClassifier(binarize=0.6)\n",
    "record_linked.index.names = (['id1', 'id2'])\n",
    "print(len(record_linked.index))\n",
    "result = ECM.fit_predict(record_linked)\n",
    "print(len(result))"
   ]
  }
 ],
 "metadata": {
  "kernelspec": {
   "display_name": "hw8",
   "language": "python",
   "name": "python3"
  },
  "language_info": {
   "codemirror_mode": {
    "name": "ipython",
    "version": 3
   },
   "file_extension": ".py",
   "mimetype": "text/x-python",
   "name": "python",
   "nbconvert_exporter": "python",
   "pygments_lexer": "ipython3",
   "version": "3.10.9"
  },
  "orig_nbformat": 4,
  "vscode": {
   "interpreter": {
    "hash": "20fe05bf6d812f8581d0c3885f26a8156e46b0ff73914791c267a01ece645732"
   }
  }
 },
 "nbformat": 4,
 "nbformat_minor": 2
}
