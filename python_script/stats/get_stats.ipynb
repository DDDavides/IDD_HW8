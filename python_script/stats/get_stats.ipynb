{
 "cells": [
  {
   "cell_type": "code",
   "execution_count": null,
   "metadata": {},
   "outputs": [],
   "source": [
    "import pandas as pd\n",
    "import os\n",
    "from exts_used_count import *\n",
    "import regex as re"
   ]
  },
  {
   "cell_type": "code",
   "execution_count": null,
   "metadata": {},
   "outputs": [],
   "source": [
    "db_path = '../../datasets/'\n",
    "json_path = '../../json_datasets'"
   ]
  },
  {
   "cell_type": "code",
   "execution_count": null,
   "metadata": {},
   "outputs": [],
   "source": [
    "# dictionary which counts how many times the same column name is used in all datasets\n",
    "columnName2datasets = {}\n",
    "# dictionary which counts how many times x (i.e. a number) columns are in all datasets\n",
    "numColumns2datasets = {}\n",
    "# dictionary which counts how many times x (i.e. a number) rows are in all datasets\n",
    "numRows2datasets = {}\n",
    "# tot rows in all datasets\n",
    "tot_num_row = 0\n",
    "# tot cols in all datasets\n",
    "tot_num_col = 0\n",
    "\n",
    "for file in os.listdir(json_path):\n",
    "    filepath = f\"{json_path}/{file}\"\n",
    "    dataset = pd.read_json(filepath)\n",
    "    # get columns name (case insensitive)\n",
    "    columnsName = dataset.axes[1]\n",
    "    # get number of rows of current dataset\n",
    "    num_row_dataset = len(dataset.axes[0])\n",
    "    # get number of columns of current dataset\n",
    "    num_column_dataset = len(columnsName)\n",
    "    # update total number of rows of all datasets\n",
    "    tot_num_row += num_row_dataset\n",
    "    # update total number of columns of all datasets\n",
    "    tot_num_col += num_column_dataset\n",
    "\n",
    "    # update dictionaries\n",
    "    if num_row_dataset not in numRows2datasets:\n",
    "        numRows2datasets[num_row_dataset] = 1\n",
    "    else:\n",
    "        numRows2datasets[num_row_dataset] += 1\n",
    "\n",
    "    if num_column_dataset not in numColumns2datasets:\n",
    "        numColumns2datasets[num_column_dataset] = 1\n",
    "    else:\n",
    "        numColumns2datasets[num_column_dataset] += 1\n",
    "    \n",
    "    for colName in columnsName:\n",
    "        # Le colonne lette messe in lower case\n",
    "        colName = colName.lower()\n",
    "        # colName = re.sub(\"_\",\" \", colName)\n",
    "        if colName in columnName2datasets:\n",
    "            columnName2datasets[colName] += 1\n",
    "        else:\n",
    "            columnName2datasets[colName] = 1\n",
    "\n",
    "print(\"Tot cols:\", tot_num_col)\n",
    "print(\"Tot rows:\", tot_num_row)\n"
   ]
  },
  {
   "attachments": {},
   "cell_type": "markdown",
   "metadata": {},
   "source": [
    "## Ordered by key"
   ]
  },
  {
   "cell_type": "code",
   "execution_count": null,
   "metadata": {},
   "outputs": [],
   "source": [
    "import collections\n",
    "# Ordino le mappe per chiavi\n",
    "numColumns2datasetsByKey = collections.OrderedDict(sorted(numColumns2datasets.items()))\n",
    "numRows2datasetsByKey = collections.OrderedDict(sorted(numRows2datasets.items()))\n",
    "columnName2datasetsByKey = collections.OrderedDict(sorted(columnName2datasets.items()))"
   ]
  },
  {
   "cell_type": "code",
   "execution_count": null,
   "metadata": {},
   "outputs": [],
   "source": [
    "print(\"columnName2datasets\", columnName2datasetsByKey)"
   ]
  },
  {
   "cell_type": "code",
   "execution_count": null,
   "metadata": {},
   "outputs": [],
   "source": [
    "print(\"numColumns2datasets\", numColumns2datasetsByKey)"
   ]
  },
  {
   "cell_type": "code",
   "execution_count": null,
   "metadata": {},
   "outputs": [],
   "source": [
    "print(\"Rows2datasets\", numRows2datasetsByKey)"
   ]
  },
  {
   "attachments": {},
   "cell_type": "markdown",
   "metadata": {},
   "source": [
    "## Ordered by value"
   ]
  },
  {
   "cell_type": "code",
   "execution_count": null,
   "metadata": {},
   "outputs": [],
   "source": [
    "# Ordina le mappe per valore\n",
    "numColumns2datasetsByValue = {numCol: numDb for numCol, numDb in sorted(numColumns2datasets.items(), key=lambda item: item[1], reverse=True)}\n",
    "numRows2datasetsByValue = {numRow: numDb for numRow, numDb in sorted(numRows2datasets.items(), key=lambda item: item[1], reverse=True)}\n",
    "columnName2datasetsByValue = {nameCol: numDb for nameCol, numDb in sorted(columnName2datasets.items(), key=lambda item: item[1], reverse=True)}"
   ]
  },
  {
   "cell_type": "code",
   "execution_count": null,
   "metadata": {},
   "outputs": [],
   "source": [
    "print(\"columnName2datasets\", columnName2datasetsByValue)"
   ]
  },
  {
   "cell_type": "code",
   "execution_count": null,
   "metadata": {},
   "outputs": [],
   "source": [
    "print(\"numColumns2datasets\", numColumns2datasetsByValue)"
   ]
  },
  {
   "cell_type": "code",
   "execution_count": null,
   "metadata": {},
   "outputs": [],
   "source": [
    "print(\"Rows2datasets\", numRows2datasetsByValue)"
   ]
  },
  {
   "cell_type": "code",
   "execution_count": null,
   "metadata": {},
   "outputs": [],
   "source": [
    "print(\"File types used\", exts_count(db_path))"
   ]
  },
  {
   "attachments": {},
   "cell_type": "markdown",
   "metadata": {},
   "source": [
    "# Informazioni catalogate per anni"
   ]
  },
  {
   "cell_type": "code",
   "execution_count": null,
   "metadata": {},
   "outputs": [],
   "source": [
    "import regex as re\n",
    "l = list(columnName2datasetsByValue.keys())\n",
    "r = re.compile('.*[0-9].*')\n",
    "ret = list(filter(r.match,l))\n",
    "for i in ret:\n",
    "    if \"revenue\" in i:\n",
    "        print(i)\n",
    "\n",
    "for i in ret:\n",
    "    if \"employees\" in i:\n",
    "        print(i)"
   ]
  }
 ],
 "metadata": {
  "kernelspec": {
   "display_name": "hw8",
   "language": "python",
   "name": "python3"
  },
  "language_info": {
   "codemirror_mode": {
    "name": "ipython",
    "version": 3
   },
   "file_extension": ".py",
   "mimetype": "text/x-python",
   "name": "python",
   "nbconvert_exporter": "python",
   "pygments_lexer": "ipython3",
   "version": "3.10.9"
  },
  "orig_nbformat": 4,
  "vscode": {
   "interpreter": {
    "hash": "20fe05bf6d812f8581d0c3885f26a8156e46b0ff73914791c267a01ece645732"
   }
  }
 },
 "nbformat": 4,
 "nbformat_minor": 2
}
