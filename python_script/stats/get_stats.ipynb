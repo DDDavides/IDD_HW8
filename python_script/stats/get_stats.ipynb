{
 "cells": [
  {
   "cell_type": "code",
   "execution_count": 1,
   "metadata": {},
   "outputs": [],
   "source": [
    "import pandas as pd\n",
    "import os\n",
    "from exts_used_count import *\n",
    "import regex as re"
   ]
  },
  {
   "cell_type": "code",
   "execution_count": 2,
   "metadata": {},
   "outputs": [],
   "source": [
    "db_path = '../../datasets/'\n",
    "json_path = '../../json_datasets'"
   ]
  },
  {
   "cell_type": "code",
   "execution_count": 3,
   "metadata": {},
   "outputs": [
    {
     "name": "stdout",
     "output_type": "stream",
     "text": [
      "Tot cols: 428\n",
      "Tot rows: 188556\n"
     ]
    }
   ],
   "source": [
    "# dictionary which counts how many times the same column name is used in all datasets\n",
    "columnName2datasets = {}\n",
    "# dictionary which counts how many times x (i.e. a number) columns are in all datasets\n",
    "numColumns2datasets = {}\n",
    "# dictionary which counts how many times x (i.e. a number) rows are in all datasets\n",
    "numRows2datasets = {}\n",
    "# tot rows in all datasets\n",
    "tot_num_row = 0\n",
    "# tot cols in all datasets\n",
    "tot_num_col = 0\n",
    "\n",
    "for file in os.listdir(json_path):\n",
    "    filepath = f\"{json_path}/{file}\"\n",
    "    dataset = pd.read_json(filepath)\n",
    "    # get columns name (case insensitive)\n",
    "    columnsName = dataset.axes[1]\n",
    "    # get number of rows of current dataset\n",
    "    num_row_dataset = len(dataset.axes[0])\n",
    "    # get number of columns of current dataset\n",
    "    num_column_dataset = len(columnsName)\n",
    "    # update total number of rows of all datasets\n",
    "    tot_num_row += num_row_dataset\n",
    "    # update total number of columns of all datasets\n",
    "    tot_num_col += num_column_dataset\n",
    "\n",
    "    # update dictionaries\n",
    "    if num_row_dataset not in numRows2datasets:\n",
    "        numRows2datasets[num_row_dataset] = 1\n",
    "    else:\n",
    "        numRows2datasets[num_row_dataset] += 1\n",
    "\n",
    "    if num_column_dataset not in numColumns2datasets:\n",
    "        numColumns2datasets[num_column_dataset] = 1\n",
    "    else:\n",
    "        numColumns2datasets[num_column_dataset] += 1\n",
    "    \n",
    "    for colName in columnsName:\n",
    "        # Le colonne lette messe in lower case\n",
    "        colName = colName.lower()\n",
    "        # colName = re.sub(\"_\",\" \", colName)\n",
    "        if colName in columnName2datasets:\n",
    "            columnName2datasets[colName] += 1\n",
    "        else:\n",
    "            columnName2datasets[colName] = 1\n",
    "\n",
    "print(\"Tot cols:\", tot_num_col)\n",
    "print(\"Tot rows:\", tot_num_row)\n"
   ]
  },
  {
   "attachments": {},
   "cell_type": "markdown",
   "metadata": {},
   "source": [
    "## Ordered by key"
   ]
  },
  {
   "cell_type": "code",
   "execution_count": 4,
   "metadata": {},
   "outputs": [],
   "source": [
    "import collections\n",
    "# Ordino le mappe per chiavi\n",
    "numColumns2datasetsByKey = collections.OrderedDict(sorted(numColumns2datasets.items()))\n",
    "numRows2datasetsByKey = collections.OrderedDict(sorted(numRows2datasets.items()))\n",
    "columnName2datasetsByKey = collections.OrderedDict(sorted(columnName2datasets.items()))"
   ]
  },
  {
   "cell_type": "code",
   "execution_count": 14,
   "metadata": {},
   "outputs": [
    {
     "name": "stdout",
     "output_type": "stream",
     "text": [
      "columnName2datasets OrderedDict([('2010 rank', 1), ('absolute growth rate %', 1), ('absolute_growth_rate_pct', 1), ('address', 4), ('address name', 1), ('annual net income in usd', 1), ('annual revenue in usd', 1), ('annual_net_income_in_usd', 1), ('annual_net_income_usd', 1), ('annual_results_for_year_ending', 1), ('annual_revenue_in_usd', 1), ('annual_revenue_usd', 1), ('area of activity', 1), ('area served', 1), ('assets', 1), ('capital', 1), ('categories', 4), ('category', 2), ('ceo', 13), ('change(1day)', 1), ('change(1year)', 1), ('change1d', 1), ('change1y', 1), ('change_1_day', 1), ('change_1_year', 1), ('city', 4), ('code', 3), ('code_partner', 1), ('code_rappresentanti', 1), ('codice', 1), ('company business', 1), ('company code', 1), ('company id', 1), ('company status', 1), ('company type', 1), ('company website', 1), ('company_business', 1), ('company_creation_date', 1), ('company_number', 1), ('company_status', 1), ('company_type', 1), ('company_website', 1), ('compound annual growth rate (cagr) %', 1), ('compound_annual_growth_rate_cagr_pct', 1), ('contribution', 1), ('country', 29), ('datejoined', 2), ('deletion date', 1), ('dissolution date', 1), ('earnings', 1), ('employees', 10), ('employees_2017', 1), ('employees_2020', 1), ('employees_2022', 1), ('employees_number', 1), ('employees_number_2017', 1), ('employees_number_2020', 1), ('emtak code', 1), ('est_of_ownership', 1), ('facebook', 2), ('facebook_page_url', 1), ('family executive', 1), ('family ownership', 1), ('foundation year', 1), ('founded', 15), ('founded year', 1), ('founders', 2), ('founding year', 1), ('founding_year', 3), ('gbp', 1), ('generation', 1), ('hash', 1), ('headquarter', 1), ('headquarters', 9), ('headquarters country', 1), ('headquarters_continent', 2), ('headquarters_country', 3), ('headquarters_region_city', 1), ('headquarters_sub_region', 1), ('hhid', 1), ('id', 7), ('in 2020 ranking', 1), ('in 2021 ranking', 1), ('incorporation date', 1), ('index', 1), ('industry', 21), ('instagram', 2), ('investors', 1), ('ipo year', 1), ('key_people', 1), ('legal form', 1), ('link', 5), ('location', 1), ('location type', 1), ('locations', 1), ('main market', 1), ('market value', 2), ('market value (jan 1st 2020)', 1), ('market value (jan-07-2022)', 1), ('market_cap', 5), ('market_capitalization_2022', 1), ('market_capitalization_usd', 2), ('market_value_apr_2022', 2), ('market_value_jan_2020', 1), ('market_value_jan_2021', 1), ('market_value_jan_2022', 1), ('marketcap', 8), ('marketvalue', 1), ('master cap', 1), ('mastercap', 1), ('nace code', 1), ('name', 53), ('name_partner', 1), ('name_rappresentanti', 1), ('nation', 1), ('nature_of_business', 1), ('net income', 1), ('notes', 1), ('number of employees', 2), ('number of employees 2017', 1), ('number of employees 2020', 1), ('number_of_employees', 3), ('number_of_employees_2017', 1), ('number_of_employees_2020', 1), ('office address', 1), ('official_name', 1), ('operating_income', 1), ('ownership', 1), ('participation', 1), ('pinterest', 2), ('postalcode', 1), ('price', 3), ('pricecap', 1), ('profit', 1), ('public/private', 1), ('rank', 9), ('registered_office_address', 1), ('registration date', 2), ('revenue', 8), ('revenue 2017 (â\\x82¬)', 1), ('revenue 2020 (â\\x82¬)', 1), ('revenue_2017', 1), ('revenue_2017_eu', 1), ('revenue_2017_euro', 1), ('revenue_2020', 1), ('revenue_2020_eu', 1), ('revenue_2020_euro', 1), ('revenue_2022', 2), ('revenues 2018 $m', 1), ('role', 1), ('sales', 1), ('sector', 15), ('selectinvestors', 1), ('services', 1), ('share price', 2), ('share_price', 2), ('shareprice', 1), ('shares', 1), ('sic_code', 1), ('size', 1), ('source', 1), ('stage', 1), ('start date', 1), ('state', 1), ('state (abbreviation)', 1), ('status', 1), ('stock', 5), ('symbol', 1), ('telephone', 1), ('top competitor', 1), ('total_assets', 1), ('total_assets_in_usd', 1), ('total_equity_in_usd', 1), ('total_liabilities_in_usd', 1), ('totalraised', 1), ('trade name', 1), ('twitter', 2), ('twitter_page_url', 1), ('type', 2), ('url', 4), ('valuation', 2), ('website', 4), ('wikipedia_page_url', 1), ('woman in leadership', 1), ('world rank (jan-07-2022)', 1), ('world rank (jan-2020)', 1), ('world_rank', 2)])\n"
     ]
    },
    {
     "data": {
      "text/plain": [
       "odict_keys(['2010 rank', 'absolute growth rate %', 'absolute_growth_rate_pct', 'address', 'address name', 'annual net income in usd', 'annual revenue in usd', 'annual_net_income_in_usd', 'annual_net_income_usd', 'annual_results_for_year_ending', 'annual_revenue_in_usd', 'annual_revenue_usd', 'area of activity', 'area served', 'assets', 'capital', 'categories', 'category', 'ceo', 'change(1day)', 'change(1year)', 'change1d', 'change1y', 'change_1_day', 'change_1_year', 'city', 'code', 'code_partner', 'code_rappresentanti', 'codice', 'company business', 'company code', 'company id', 'company status', 'company type', 'company website', 'company_business', 'company_creation_date', 'company_number', 'company_status', 'company_type', 'company_website', 'compound annual growth rate (cagr) %', 'compound_annual_growth_rate_cagr_pct', 'contribution', 'country', 'datejoined', 'deletion date', 'dissolution date', 'earnings', 'employees', 'employees_2017', 'employees_2020', 'employees_2022', 'employees_number', 'employees_number_2017', 'employees_number_2020', 'emtak code', 'est_of_ownership', 'facebook', 'facebook_page_url', 'family executive', 'family ownership', 'foundation year', 'founded', 'founded year', 'founders', 'founding year', 'founding_year', 'gbp', 'generation', 'hash', 'headquarter', 'headquarters', 'headquarters country', 'headquarters_continent', 'headquarters_country', 'headquarters_region_city', 'headquarters_sub_region', 'hhid', 'id', 'in 2020 ranking', 'in 2021 ranking', 'incorporation date', 'index', 'industry', 'instagram', 'investors', 'ipo year', 'key_people', 'legal form', 'link', 'location', 'location type', 'locations', 'main market', 'market value', 'market value (jan 1st 2020)', 'market value (jan-07-2022)', 'market_cap', 'market_capitalization_2022', 'market_capitalization_usd', 'market_value_apr_2022', 'market_value_jan_2020', 'market_value_jan_2021', 'market_value_jan_2022', 'marketcap', 'marketvalue', 'master cap', 'mastercap', 'nace code', 'name', 'name_partner', 'name_rappresentanti', 'nation', 'nature_of_business', 'net income', 'notes', 'number of employees', 'number of employees 2017', 'number of employees 2020', 'number_of_employees', 'number_of_employees_2017', 'number_of_employees_2020', 'office address', 'official_name', 'operating_income', 'ownership', 'participation', 'pinterest', 'postalcode', 'price', 'pricecap', 'profit', 'public/private', 'rank', 'registered_office_address', 'registration date', 'revenue', 'revenue 2017 (â\\x82¬)', 'revenue 2020 (â\\x82¬)', 'revenue_2017', 'revenue_2017_eu', 'revenue_2017_euro', 'revenue_2020', 'revenue_2020_eu', 'revenue_2020_euro', 'revenue_2022', 'revenues 2018 $m', 'role', 'sales', 'sector', 'selectinvestors', 'services', 'share price', 'share_price', 'shareprice', 'shares', 'sic_code', 'size', 'source', 'stage', 'start date', 'state', 'state (abbreviation)', 'status', 'stock', 'symbol', 'telephone', 'top competitor', 'total_assets', 'total_assets_in_usd', 'total_equity_in_usd', 'total_liabilities_in_usd', 'totalraised', 'trade name', 'twitter', 'twitter_page_url', 'type', 'url', 'valuation', 'website', 'wikipedia_page_url', 'woman in leadership', 'world rank (jan-07-2022)', 'world rank (jan-2020)', 'world_rank'])"
      ]
     },
     "execution_count": 14,
     "metadata": {},
     "output_type": "execute_result"
    }
   ],
   "source": [
    "print(\"columnName2datasets\", columnName2datasetsByKey)"
   ]
  },
  {
   "cell_type": "code",
   "execution_count": 6,
   "metadata": {},
   "outputs": [
    {
     "name": "stdout",
     "output_type": "stream",
     "text": [
      "numColumns2datasets OrderedDict([(4, 2), (5, 14), (6, 8), (7, 4), (8, 5), (9, 5), (10, 6), (11, 1), (12, 2), (13, 2), (14, 2), (18, 1), (22, 1)])\n"
     ]
    }
   ],
   "source": [
    "print(\"numColumns2datasets\", numColumns2datasetsByKey)"
   ]
  },
  {
   "cell_type": "code",
   "execution_count": 7,
   "metadata": {},
   "outputs": [
    {
     "name": "stdout",
     "output_type": "stream",
     "text": [
      "Rows2datasets OrderedDict([(450, 1), (500, 1), (619, 1), (667, 1), (848, 1), (849, 1), (899, 1), (946, 1), (960, 1), (1000, 15), (1002, 1), (1185, 2), (1202, 1), (1321, 1), (1438, 1), (1818, 1), (2000, 2), (2664, 1), (3111, 1), (4656, 1), (5000, 1), (5336, 1), (5897, 1), (6290, 1), (7000, 2), (7093, 1), (7163, 1), (7200, 1), (7217, 1), (9899, 1), (10000, 2), (10680, 1), (10682, 2), (16097, 1)])\n"
     ]
    }
   ],
   "source": [
    "print(\"Rows2datasets\", numRows2datasetsByKey)"
   ]
  },
  {
   "attachments": {},
   "cell_type": "markdown",
   "metadata": {},
   "source": [
    "## Ordered by value"
   ]
  },
  {
   "cell_type": "code",
   "execution_count": 8,
   "metadata": {},
   "outputs": [],
   "source": [
    "# Ordina le mappe per valore\n",
    "numColumns2datasetsByValue = {numCol: numDb for numCol, numDb in sorted(numColumns2datasets.items(), key=lambda item: item[1], reverse=True)}\n",
    "numRows2datasetsByValue = {numRow: numDb for numRow, numDb in sorted(numRows2datasets.items(), key=lambda item: item[1], reverse=True)}\n",
    "columnName2datasetsByValue = {nameCol: numDb for nameCol, numDb in sorted(columnName2datasets.items(), key=lambda item: item[1], reverse=True)}"
   ]
  },
  {
   "cell_type": "code",
   "execution_count": 9,
   "metadata": {},
   "outputs": [
    {
     "name": "stdout",
     "output_type": "stream",
     "text": [
      "columnName2datasets {'name': 53, 'country': 29, 'industry': 21, 'sector': 15, 'founded': 15, 'ceo': 13, 'employees': 10, 'headquarters': 9, 'rank': 9, 'marketcap': 8, 'revenue': 8, 'id': 7, 'stock': 5, 'market_cap': 5, 'link': 5, 'url': 4, 'address': 4, 'website': 4, 'city': 4, 'categories': 4, 'code': 3, 'founding_year': 3, 'number_of_employees': 3, 'headquarters_country': 3, 'price': 3, 'revenue_2022': 2, 'market_capitalization_usd': 2, 'registration date': 2, 'market_value_apr_2022': 2, 'number of employees': 2, 'valuation': 2, 'datejoined': 2, 'market value': 2, 'world_rank': 2, 'headquarters_continent': 2, 'founders': 2, 'facebook': 2, 'twitter': 2, 'instagram': 2, 'pinterest': 2, 'share_price': 2, 'type': 2, 'share price': 2, 'category': 2, 'market_value_jan_2020': 1, 'market_value_jan_2021': 1, 'market_value_jan_2022': 1, 'employees_2022': 1, 'legal form': 1, 'status': 1, 'capital': 1, 'deletion date': 1, 'name_rappresentanti': 1, 'code_rappresentanti': 1, 'role': 1, 'start date': 1, 'name_partner': 1, 'code_partner': 1, 'participation': 1, 'contribution': 1, 'area of activity': 1, 'emtak code': 1, 'nace code': 1, 'source': 1, 'absolute_growth_rate_pct': 1, 'compound_annual_growth_rate_cagr_pct': 1, 'revenue_2020_euro': 1, 'revenue_2017_euro': 1, 'number_of_employees_2020': 1, 'number_of_employees_2017': 1, 'telephone': 1, 'net income': 1, 'annual_revenue_usd': 1, 'annual_net_income_usd': 1, 'market_capitalization_2022': 1, 'employees_number': 1, 'wikipedia_page_url': 1, 'twitter_page_url': 1, 'facebook_page_url': 1, 'revenue_2020_eu': 1, 'revenue_2017_eu': 1, 'employees_number_2020': 1, 'employees_number_2017': 1, 'mastercap': 1, 'area served': 1, 'location': 1, 'headquarter': 1, 'ownership': 1, 'foundation year': 1, 'company_number': 1, 'registered_office_address': 1, 'company_status': 1, 'company_type': 1, 'company_creation_date': 1, 'nature_of_business': 1, 'index': 1, 'trade name': 1, 'address name': 1, 'postalcode': 1, 'state': 1, 'location type': 1, 'employees_2017': 1, 'employees_2020': 1, 'revenue_2017': 1, 'revenue_2020': 1, 'shareprice': 1, 'change(1day)': 1, 'change(1year)': 1, 'market value (jan-07-2022)': 1, 'world rank (jan-07-2022)': 1, 'market value (jan 1st 2020)': 1, 'world rank (jan-2020)': 1, 'headquarters country': 1, 'company business': 1, 'annual revenue in usd': 1, 'annual net income in usd': 1, 'company website': 1, 'investors': 1, 'stage': 1, 'totalraised': 1, 'ipo year': 1, 'founded year': 1, 'annual_revenue_in_usd': 1, 'annual_net_income_in_usd': 1, 'annual_results_for_year_ending': 1, 'total_assets_in_usd': 1, 'total_liabilities_in_usd': 1, 'total_equity_in_usd': 1, 'headquarters_region_city': 1, 'headquarters_sub_region': 1, 'company_business': 1, 'company_website': 1, 'marketvalue': 1, 'company id': 1, 'company status': 1, 'company type': 1, 'incorporation date': 1, 'dissolution date': 1, 'office address': 1, 'official_name': 1, 'gbp': 1, 'change1d': 1, 'change1y': 1, 'notes': 1, 'selectinvestors': 1, 'sales': 1, 'profit': 1, 'assets': 1, 'key_people': 1, 'services': 1, 'operating_income': 1, 'total_assets': 1, 'change_1_day': 1, 'change_1_year': 1, 'nation': 1, 'hhid': 1, 'sic_code': 1, 'est_of_ownership': 1, 'top competitor': 1, 'master cap': 1, 'locations': 1, 'size': 1, 'company code': 1, 'earnings': 1, 'shares': 1, 'hash': 1, 'in 2021 ranking': 1, 'in 2020 ranking': 1, 'absolute growth rate %': 1, 'compound annual growth rate (cagr) %': 1, 'revenue 2020 (â\\x82¬)': 1, 'revenue 2017 (â\\x82¬)': 1, 'number of employees 2020': 1, 'number of employees 2017': 1, 'founding year': 1, 'revenues 2018 $m': 1, 'family ownership': 1, 'public/private': 1, 'generation': 1, 'family executive': 1, 'woman in leadership': 1, 'state (abbreviation)': 1, 'symbol': 1, 'codice': 1, 'pricecap': 1, 'main market': 1, '2010 rank': 1}\n"
     ]
    }
   ],
   "source": [
    "print(\"columnName2datasets\", columnName2datasetsByValue)"
   ]
  },
  {
   "cell_type": "code",
   "execution_count": 10,
   "metadata": {},
   "outputs": [
    {
     "name": "stdout",
     "output_type": "stream",
     "text": [
      "numColumns2datasets {5: 14, 6: 8, 10: 6, 9: 5, 8: 5, 7: 4, 14: 2, 12: 2, 4: 2, 13: 2, 22: 1, 18: 1, 11: 1}\n"
     ]
    }
   ],
   "source": [
    "print(\"numColumns2datasets\", numColumns2datasetsByValue)"
   ]
  },
  {
   "cell_type": "code",
   "execution_count": 11,
   "metadata": {},
   "outputs": [
    {
     "name": "stdout",
     "output_type": "stream",
     "text": [
      "Rows2datasets {1000: 15, 1185: 2, 10682: 2, 7000: 2, 10000: 2, 2000: 2, 5336: 1, 960: 1, 619: 1, 16097: 1, 1438: 1, 9899: 1, 4656: 1, 7093: 1, 5000: 1, 10680: 1, 1321: 1, 2664: 1, 849: 1, 7217: 1, 450: 1, 3111: 1, 7163: 1, 1202: 1, 1002: 1, 5897: 1, 667: 1, 899: 1, 6290: 1, 946: 1, 1818: 1, 500: 1, 848: 1, 7200: 1}\n"
     ]
    }
   ],
   "source": [
    "print(\"Rows2datasets\", numRows2datasetsByValue)"
   ]
  },
  {
   "cell_type": "code",
   "execution_count": 12,
   "metadata": {},
   "outputs": [
    {
     "name": "stdout",
     "output_type": "stream",
     "text": [
      "File types used {'.csv': 25, '.jsonl': 4, '.json': 20, '.xlsx': 1, '.xls': 3}\n"
     ]
    }
   ],
   "source": [
    "print(\"File types used\", exts_count(db_path))"
   ]
  },
  {
   "attachments": {},
   "cell_type": "markdown",
   "metadata": {},
   "source": [
    "# Informazioni catalogate per anni"
   ]
  },
  {
   "cell_type": "code",
   "execution_count": 13,
   "metadata": {},
   "outputs": [
    {
     "name": "stdout",
     "output_type": "stream",
     "text": [
      "revenue_2022\n",
      "revenue_2020_euro\n",
      "revenue_2017_euro\n",
      "revenue_2020_eu\n",
      "revenue_2017_eu\n",
      "revenue_2017\n",
      "revenue_2020\n",
      "revenue 2020 (â¬)\n",
      "revenue 2017 (â¬)\n",
      "revenues 2018 $m\n",
      "employees_2022\n",
      "number_of_employees_2020\n",
      "number_of_employees_2017\n",
      "employees_number_2020\n",
      "employees_number_2017\n",
      "employees_2017\n",
      "employees_2020\n",
      "number of employees 2020\n",
      "number of employees 2017\n"
     ]
    }
   ],
   "source": [
    "import regex as re\n",
    "l = list(columnName2datasetsByValue.keys())\n",
    "r = re.compile('.*[0-9].*')\n",
    "ret = list(filter(r.match,l))\n",
    "for i in ret:\n",
    "    if \"revenue\" in i:\n",
    "        print(i)\n",
    "\n",
    "for i in ret:\n",
    "    if \"employees\" in i:\n",
    "        print(i)"
   ]
  }
 ],
 "metadata": {
  "kernelspec": {
   "display_name": "IDD",
   "language": "python",
   "name": "python3"
  },
  "language_info": {
   "codemirror_mode": {
    "name": "ipython",
    "version": 3
   },
   "file_extension": ".py",
   "mimetype": "text/x-python",
   "name": "python",
   "nbconvert_exporter": "python",
   "pygments_lexer": "ipython3",
   "version": "3.10.9"
  },
  "orig_nbformat": 4,
  "vscode": {
   "interpreter": {
    "hash": "7ce6619c7d95fa66adab3aa560eb20f28a01e1f23fb927f9fbc92f5fa3f739e8"
   }
  }
 },
 "nbformat": 4,
 "nbformat_minor": 2
}
