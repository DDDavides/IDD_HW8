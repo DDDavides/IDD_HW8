{
 "cells": [
  {
   "cell_type": "code",
   "execution_count": 1,
   "metadata": {},
   "outputs": [],
   "source": [
    "import pandas as pd\n",
    "import os\n",
    "from exts_used_count import *"
   ]
  },
  {
   "cell_type": "code",
   "execution_count": 2,
   "metadata": {},
   "outputs": [],
   "source": [
    "db_path = '../../datasets/'\n",
    "json_path = '../../json_datasets'"
   ]
  },
  {
   "cell_type": "code",
   "execution_count": 3,
   "metadata": {},
   "outputs": [
    {
     "name": "stdout",
     "output_type": "stream",
     "text": [
      "Tot cols: 432\n",
      "Tot rows: 188555\n"
     ]
    }
   ],
   "source": [
    "# dictionary which counts how many times the same column name is used in all datasets\n",
    "columnName2datasets = {}\n",
    "# dictionary which counts how many times x (i.e. a number) columns are in all datasets\n",
    "numColumns2datasets = {}\n",
    "# dictionary which counts how many times x (i.e. a number) rows are in all datasets\n",
    "numRows2datasets = {}\n",
    "# tot rows in all datasets\n",
    "tot_num_row = 0\n",
    "# tot cols in all datasets\n",
    "tot_num_col = 0\n",
    "\n",
    "for file in os.listdir(json_path):\n",
    "    filepath = f\"{json_path}/{file}\"\n",
    "    dataset = pd.read_json(filepath)\n",
    "    # get columns name\n",
    "    columnsName = dataset.axes[1]\n",
    "    # get number of rows of current dataset\n",
    "    num_row_dataset = len(dataset.axes[0])\n",
    "    # get number of columns of current dataset\n",
    "    num_column_dataset = len(columnsName)\n",
    "    # update total number of rows of all datasets\n",
    "    tot_num_row += num_row_dataset\n",
    "    # update total number of columns of all datasets\n",
    "    tot_num_col += num_column_dataset\n",
    "\n",
    "    # update dictionaries\n",
    "    if num_row_dataset not in numRows2datasets:\n",
    "        numRows2datasets[num_row_dataset] = 1\n",
    "    else:\n",
    "        numRows2datasets[num_row_dataset] += 1\n",
    "\n",
    "    if num_column_dataset not in numRows2datasets:\n",
    "        numColumns2datasets[num_column_dataset] = 1\n",
    "    else:\n",
    "        numColumns2datasets[num_column_dataset] += 1\n",
    "    \n",
    "    for colName in columnsName:\n",
    "        if colName in columnName2datasets:\n",
    "            columnName2datasets[colName] += 1\n",
    "        else:\n",
    "            columnName2datasets[colName] = 1\n",
    "\n",
    "# Ordina le mappe per valore\n",
    "numColumns2datasets = {numCol: numDb for numCol, numDb in sorted(columnName2datasets.items(), key=lambda item: item[1], reverse=True)}\n",
    "numRows2datasets = {numRow: numDb for numRow, numDb in sorted(numRows2datasets.items(), key=lambda item: item[1], reverse=True)}\n",
    "columnName2datasets = {nameCol: numDb for nameCol, numDb in sorted(columnName2datasets.items(), key=lambda item: item[1], reverse=True)}\n",
    "\n",
    "print(\"Tot cols:\", tot_num_col)\n",
    "print(\"Tot rows:\", tot_num_row)\n"
   ]
  },
  {
   "cell_type": "code",
   "execution_count": 4,
   "metadata": {},
   "outputs": [
    {
     "name": "stdout",
     "output_type": "stream",
     "text": [
      "Columns2datasets {'name': 30, 'country': 21, 'Name': 17, 'industry': 13, 'ceo': 9, 'sector': 9, 'founded': 9, 'Country': 8, 'Industry': 7, 'Sector': 6, 'revenue': 6, 'employees': 6, 'Founded': 6, 'headquarters': 5, 'market_cap': 5, 'rank': 5, 'link': 5, 'stock': 4, 'URL': 4, 'Unnamed: 0': 4, 'CEO': 4, 'categories': 4, 'id': 4, 'ID': 3, 'founding_year': 3, 'number_of_employees': 3, 'website': 3, 'marketcap': 3, 'headquarters_country': 3, 'Headquarters': 3, 'Company': 3, 'Employees': 3, 'Rank': 3, 'revenue_2022': 2, 'market_capitalization_USD': 2, 'Registration Date': 2, 'MarketCap': 2, 'address': 2, 'code': 2, 'market_value_apr_2022': 2, 'Revenue': 2, 'marketCap': 2, 'valuation': 2, 'city': 2, 'Market Value': 2, 'world_rank': 2, 'headquarters_continent': 2, 'founders': 2, 'Facebook': 2, 'Twitter': 2, 'Instagram': 2, 'Pinterest': 2, 'share_price': 2, 'price': 2, 'type': 2, 'market_value_jan_2020': 1, 'market_value_jan_2021': 1, 'market_value_jan_2022': 1, 'employees_2022': 1, 'Name_x': 1, 'Code_x': 1, 'Legal form': 1, 'Status': 1, 'Capital': 1, 'Address': 1, 'Deletion Date': 1, 'Area of Activity': 1, 'EMTAK Code': 1, 'NACE Code': 1, 'Source': 1, 'Name_y': 1, 'Code_y': 1, 'Role': 1, 'Start Date': 1, 'Code': 1, 'Participation': 1, 'Contribution': 1, 'Stock': 1, 'absolute_growth_rate_pct': 1, 'compound_annual_growth_rate_cagr_pct': 1, 'revenue_2020_euro': 1, 'revenue_2017_euro': 1, 'number_of_employees_2020': 1, 'number_of_employees_2017': 1, 'telephone': 1, 'net income': 1, 'annual_revenue_USD': 1, 'annual_net_income_USD': 1, 'market_capitalization_2022': 1, 'employees_number': 1, 'wikipedia_page_url': 1, 'twitter_page_url': 1, 'facebook_page_url': 1, 'revenue_2020_EU': 1, 'revenue_2017_EU': 1, 'employees_number_2020': 1, 'employees_number_2017': 1, 'MasterCap': 1, 'headQuarters': 1, 'Area Served': 1, 'Location': 1, 'Headquarter': 1, 'Ownership': 1, 'Foundation Year': 1, 'company_number': 1, 'registered_office_address': 1, 'company_status': 1, 'company_type': 1, 'company_creation_date': 1, 'nature_of_business': 1, 'INDEX': 1, 'Trade Name': 1, 'Address Name': 1, 'Postalcode': 1, 'City': 1, 'State': 1, 'Location type': 1, 'employees_2017': 1, 'employees_2020': 1, 'revenue_2017': 1, 'revenue_2020': 1, 'sharePrice': 1, 'change(1day)': 1, 'change(1year)': 1, 'market value (Jan-07-2022)': 1, 'world rank (Jan-07-2022)': 1, 'market value (Jan 1st 2020)': 1, 'world rank (Jan-2020)': 1, 'headquarters country': 1, 'number of employees': 1, 'company business': 1, 'annual revenue in USD': 1, 'annual net income in USD': 1, 'company website': 1, 'dateJoined': 1, 'investors': 1, 'stage': 1, 'totalRaised': 1, 'IPO Year': 1, 'Number of Employees': 1, 'Founded Year': 1, 'annual_revenue_in_usd': 1, 'annual_net_income_in_usd': 1, 'annual_results_for_year_ending': 1, 'total_assets_in_usd': 1, 'total_liabilities_in_usd': 1, 'total_equity_in_usd': 1, 'headquarters_region_city': 1, 'headquarters_sub_region': 1, 'company_business': 1, 'company_website': 1, 'marketValue': 1, 'Company ID': 1, 'Company Status': 1, 'Company Type': 1, 'Incorporation Date': 1, 'Dissolution Date': 1, 'Office Address': 1, 'official_name': 1, 'gbp': 1, 'change1d': 1, 'change1y': 1, 'Via Maurizio Gonzaga 5': 1, 'Unnamed: 1': 1, 'E-commerce': 1, '7.337': 1, 'Winelivery S.r.l.': 1, 'Notes': 1, 'company': 1, 'datejoined': 1, 'selectinvestors': 1, 'Sales': 1, 'Profit': 1, 'Assets': 1, 'key_people': 1, 'services': 1, 'operating_income': 1, 'total_assets': 1, 'change_1_day': 1, 'change_1_year': 1, 'nation': 1, 'hhid': 1, 'sic_code': 1, 'est_of_ownership': 1, 'Top Competitor': 1, 'Master Cap': 1, 'Share Price': 1, 'locations': 1, 'size': 1, 'Company code': 1, 'Marketcap': 1, 'Share price': 1, 'Earnings': 1, 'Shares': 1, 'Category': 1, 'Hash': 1, 'in 2021 ranking': 1, 'in 2020 ranking': 1, 'Absolute Growth Rate %': 1, 'Compound Annual Growth Rate (CAGR) %': 1, 'Revenue 2020 (€)': 1, 'Revenue 2017 (€)': 1, 'Number of employees 2020': 1, 'Number of employees 2017': 1, 'Founding Year': 1, 'Revenues 2018 $m': 1, 'Family ownership': 1, 'Public/Private': 1, 'Generation': 1, 'Family executive': 1, 'Woman in leadership': 1, 'State (abbreviation)': 1, 'Website': 1, 'Symbol': 1, 'Price': 1, 'codice': 1, 'pricecap': 1, 'RANK': 1, 'BRAND NAME': 1, 'CATEGORY': 1, 'MAIN MARKET': 1, '2010 RANK': 1}\n"
     ]
    }
   ],
   "source": [
    "print(\"Columns2datasets\", numColumns2datasets)\n"
   ]
  },
  {
   "cell_type": "code",
   "execution_count": 5,
   "metadata": {},
   "outputs": [
    {
     "name": "stdout",
     "output_type": "stream",
     "text": [
      "Rows2datasets {1000: 15, 1185: 2, 10682: 2, 7000: 2, 10000: 2, 2000: 2, 5336: 1, 960: 1, 619: 1, 16097: 1, 1438: 1, 9899: 1, 4656: 1, 7093: 1, 5000: 1, 10680: 1, 1321: 1, 2664: 1, 849: 1, 7217: 1, 449: 1, 3111: 1, 7163: 1, 1202: 1, 1002: 1, 5897: 1, 667: 1, 899: 1, 6290: 1, 946: 1, 1818: 1, 500: 1, 848: 1, 7200: 1}\n"
     ]
    }
   ],
   "source": [
    "print(\"Rows2datasets\", numRows2datasets)\n"
   ]
  },
  {
   "cell_type": "code",
   "execution_count": 6,
   "metadata": {},
   "outputs": [
    {
     "name": "stdout",
     "output_type": "stream",
     "text": [
      "File types used {'.csv': 25, '.jsonl': 4, '.json': 20, '.xlsx': 1, '.xls': 3}\n"
     ]
    }
   ],
   "source": [
    "print(\"File types used\", exts_count(db_path))"
   ]
  }
 ],
 "metadata": {
  "kernelspec": {
   "display_name": "hw8",
   "language": "python",
   "name": "python3"
  },
  "language_info": {
   "codemirror_mode": {
    "name": "ipython",
    "version": 3
   },
   "file_extension": ".py",
   "mimetype": "text/x-python",
   "name": "python",
   "nbconvert_exporter": "python",
   "pygments_lexer": "ipython3",
   "version": "3.10.9"
  },
  "orig_nbformat": 4,
  "vscode": {
   "interpreter": {
    "hash": "20fe05bf6d812f8581d0c3885f26a8156e46b0ff73914791c267a01ece645732"
   }
  }
 },
 "nbformat": 4,
 "nbformat_minor": 2
}
