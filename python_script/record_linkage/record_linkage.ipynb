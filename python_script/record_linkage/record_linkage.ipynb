{
 "cells": [
  {
   "cell_type": "code",
   "execution_count": 21,
   "metadata": {},
   "outputs": [],
   "source": [
    "import recordlinkage as rl\n",
    "import pandas as pd\n",
    "import os\n",
    "import random as ran\n",
    "from sklearn.model_selection import GridSearchCV"
   ]
  },
  {
   "cell_type": "code",
   "execution_count": 22,
   "metadata": {},
   "outputs": [],
   "source": [
    "schema_path = \"../schema_matching/csv/schema_final.csv\""
   ]
  },
  {
   "cell_type": "code",
   "execution_count": 23,
   "metadata": {},
   "outputs": [
    {
     "name": "stderr",
     "output_type": "stream",
     "text": [
      "/var/folders/c2/dnpzswqd7ll8qj2knwvlk3v80000gn/T/ipykernel_96835/2791656242.py:1: DtypeWarning: Columns (12) have mixed types. Specify dtype option on import or set low_memory=False.\n",
      "  schema = pd.read_csv(schema_path, index_col=0)\n"
     ]
    }
   ],
   "source": [
    "schema = pd.read_csv(schema_path, index_col=0)\n",
    "schema = schema.reset_index(drop=True) # Per evitare che gli indici siano letti come decimanli (i.e. 1.0 invece di 1)"
   ]
  },
  {
   "attachments": {},
   "cell_type": "markdown",
   "metadata": {},
   "source": [
    "# Preprocessamento"
   ]
  },
  {
   "cell_type": "code",
   "execution_count": 24,
   "metadata": {},
   "outputs": [],
   "source": [
    "from recordlinkage.preprocessing import *"
   ]
  },
  {
   "attachments": {},
   "cell_type": "markdown",
   "metadata": {},
   "source": [
    "## Cleaning dei dati ..."
   ]
  },
  {
   "cell_type": "code",
   "execution_count": 25,
   "metadata": {},
   "outputs": [],
   "source": [
    "schema_cleaned = schema # creo una copia per non modificare lo schema iniziale\n",
    "schema_cleaned_path = \"./csv/schema_cleaned.csv\""
   ]
  },
  {
   "cell_type": "code",
   "execution_count": 26,
   "metadata": {},
   "outputs": [],
   "source": [
    "# Cleaning dei dati iterando per riga\n",
    "for i in range(len(schema.index)):\n",
    "    row = schema.iloc[i]\n",
    "    row_series = row.squeeze() # BOO\n",
    "    nome = pd.Series(row[\"name\"])\n",
    "    try:\n",
    "        nome_cleaned = clean(nome, lowercase=True, replace_by_none='', replace_by_whitespace='\\ {2,}', strip_accents='unicode', remove_brackets=False, encoding='utf-8', decode_error='strict')\n",
    "    except:\n",
    "        print(nome)\n",
    "    # Si evita il cleaning di caratteri relative alle valute presenti nei datasets\n",
    "    row_series_cleaned = clean(row_series, lowercase=True, replace_by_none=r'[^ \\\\.\\\\-\\\\_A-Za-z0-9$€£¥₩₽₹฿₪¤¢₺₱]+', replace_by_whitespace=r'[\\\\-\\\\_]', strip_accents=\"unicode\", remove_brackets=False, encoding='utf-8', decode_error='strict')\n",
    "    schema_cleaned.iloc[i] = row_series_cleaned\n",
    "    schema_cleaned.iloc[i][\"name\"] = nome_cleaned[0]"
   ]
  },
  {
   "cell_type": "code",
   "execution_count": 27,
   "metadata": {},
   "outputs": [],
   "source": [
    "schema_cleaned.to_csv(schema_cleaned_path, index_label=\"id\")"
   ]
  },
  {
   "attachments": {},
   "cell_type": "markdown",
   "metadata": {},
   "source": [
    "# Occorrenze token per riga"
   ]
  },
  {
   "cell_type": "code",
   "execution_count": 28,
   "metadata": {},
   "outputs": [],
   "source": [
    "# value_occurence(schema)"
   ]
  },
  {
   "attachments": {},
   "cell_type": "markdown",
   "metadata": {},
   "source": [
    "# Blocking"
   ]
  },
  {
   "cell_type": "code",
   "execution_count": 29,
   "metadata": {},
   "outputs": [
    {
     "name": "stdout",
     "output_type": "stream",
     "text": [
      "MultiIndex([( 14290,      0),\n",
      "            ( 22400,      0),\n",
      "            ( 22400,  14290),\n",
      "            (111211,      0),\n",
      "            (111211,  14290),\n",
      "            (111211,  22400),\n",
      "            (113157,      0),\n",
      "            (113157,  14290),\n",
      "            (113157,  22400),\n",
      "            (113157, 111211),\n",
      "            ...\n",
      "            (186178, 156678),\n",
      "            (186180, 156680),\n",
      "            (186181, 156681),\n",
      "            (186182, 156682),\n",
      "            (186183, 156683),\n",
      "            (186184, 156684),\n",
      "            (186185, 156685),\n",
      "            (186186, 156686),\n",
      "            (186187, 156687),\n",
      "            (184572, 184571)],\n",
      "           length=538711)\n"
     ]
    }
   ],
   "source": [
    "indexer = rl.Index()\n",
    "indexer.block(left_on='name', right_on='name')\n",
    "candidate_links = indexer.index(schema_cleaned)\n",
    "print(candidate_links)"
   ]
  },
  {
   "attachments": {},
   "cell_type": "markdown",
   "metadata": {},
   "source": [
    "# Prepare Labeling"
   ]
  },
  {
   "cell_type": "code",
   "execution_count": 30,
   "metadata": {},
   "outputs": [],
   "source": [
    "keys = ['name', 'country', 'market cap', 'founded year', 'employees', 'industry', 'sector',\n",
    "     'ceo', 'revenue', 'stock', 'share price', 'city', 'address', 'website']"
   ]
  },
  {
   "cell_type": "code",
   "execution_count": 31,
   "metadata": {},
   "outputs": [
    {
     "data": {
      "text/html": [
       "<div>\n",
       "<style scoped>\n",
       "    .dataframe tbody tr th:only-of-type {\n",
       "        vertical-align: middle;\n",
       "    }\n",
       "\n",
       "    .dataframe tbody tr th {\n",
       "        vertical-align: top;\n",
       "    }\n",
       "\n",
       "    .dataframe thead th {\n",
       "        text-align: right;\n",
       "    }\n",
       "</style>\n",
       "<table border=\"1\" class=\"dataframe\">\n",
       "  <thead>\n",
       "    <tr style=\"text-align: right;\">\n",
       "      <th></th>\n",
       "      <th></th>\n",
       "      <th>l_name</th>\n",
       "      <th>l_country</th>\n",
       "      <th>l_market cap</th>\n",
       "      <th>l_founded year</th>\n",
       "      <th>l_employees</th>\n",
       "      <th>l_industry</th>\n",
       "      <th>l_sector</th>\n",
       "      <th>l_ceo</th>\n",
       "      <th>l_revenue</th>\n",
       "      <th>l_stock</th>\n",
       "      <th>...</th>\n",
       "      <th>r_employees</th>\n",
       "      <th>r_industry</th>\n",
       "      <th>r_sector</th>\n",
       "      <th>r_ceo</th>\n",
       "      <th>r_revenue</th>\n",
       "      <th>r_stock</th>\n",
       "      <th>r_share price</th>\n",
       "      <th>r_city</th>\n",
       "      <th>r_address</th>\n",
       "      <th>r_website</th>\n",
       "    </tr>\n",
       "    <tr>\n",
       "      <th>id_1</th>\n",
       "      <th>id_2</th>\n",
       "      <th></th>\n",
       "      <th></th>\n",
       "      <th></th>\n",
       "      <th></th>\n",
       "      <th></th>\n",
       "      <th></th>\n",
       "      <th></th>\n",
       "      <th></th>\n",
       "      <th></th>\n",
       "      <th></th>\n",
       "      <th></th>\n",
       "      <th></th>\n",
       "      <th></th>\n",
       "      <th></th>\n",
       "      <th></th>\n",
       "      <th></th>\n",
       "      <th></th>\n",
       "      <th></th>\n",
       "      <th></th>\n",
       "      <th></th>\n",
       "      <th></th>\n",
       "    </tr>\n",
       "  </thead>\n",
       "  <tbody>\n",
       "    <tr>\n",
       "      <th>137773</th>\n",
       "      <th>63498</th>\n",
       "      <td>bayer</td>\n",
       "      <td>germany</td>\n",
       "      <td>NaN</td>\n",
       "      <td>NaN</td>\n",
       "      <td>NaN</td>\n",
       "      <td>NaN</td>\n",
       "      <td>NaN</td>\n",
       "      <td>NaN</td>\n",
       "      <td>$52.1 b</td>\n",
       "      <td>NaN</td>\n",
       "      <td>...</td>\n",
       "      <td>NaN</td>\n",
       "      <td>NaN</td>\n",
       "      <td>NaN</td>\n",
       "      <td>NaN</td>\n",
       "      <td>NaN</td>\n",
       "      <td>NaN</td>\n",
       "      <td>NaN</td>\n",
       "      <td>NaN</td>\n",
       "      <td>NaN</td>\n",
       "      <td>NaN</td>\n",
       "    </tr>\n",
       "    <tr>\n",
       "      <th>183211</th>\n",
       "      <th>95597</th>\n",
       "      <td>rio tinto</td>\n",
       "      <td>NaN</td>\n",
       "      <td>NaN</td>\n",
       "      <td>1873.0</td>\n",
       "      <td>NaN</td>\n",
       "      <td>construction oil gas operations mining and che...</td>\n",
       "      <td>NaN</td>\n",
       "      <td>NaN</td>\n",
       "      <td>$63.5b</td>\n",
       "      <td>NaN</td>\n",
       "      <td>...</td>\n",
       "      <td>NaN</td>\n",
       "      <td>NaN</td>\n",
       "      <td>NaN</td>\n",
       "      <td>NaN</td>\n",
       "      <td>NaN</td>\n",
       "      <td>NaN</td>\n",
       "      <td>$77.81</td>\n",
       "      <td>NaN</td>\n",
       "      <td>NaN</td>\n",
       "      <td>NaN</td>\n",
       "    </tr>\n",
       "    <tr>\n",
       "      <th>115176</th>\n",
       "      <th>100221</th>\n",
       "      <td>tencent</td>\n",
       "      <td>NaN</td>\n",
       "      <td>NaN</td>\n",
       "      <td>NaN</td>\n",
       "      <td>112771</td>\n",
       "      <td>NaN</td>\n",
       "      <td>NaN</td>\n",
       "      <td>ma huateng</td>\n",
       "      <td>NaN</td>\n",
       "      <td>NaN</td>\n",
       "      <td>...</td>\n",
       "      <td>112771</td>\n",
       "      <td>NaN</td>\n",
       "      <td>NaN</td>\n",
       "      <td>ma huateng</td>\n",
       "      <td>NaN</td>\n",
       "      <td>NaN</td>\n",
       "      <td>NaN</td>\n",
       "      <td>NaN</td>\n",
       "      <td>NaN</td>\n",
       "      <td>httpswww.tencent.com</td>\n",
       "    </tr>\n",
       "    <tr>\n",
       "      <th>60569</th>\n",
       "      <th>21874</th>\n",
       "      <td>cellnex telecom</td>\n",
       "      <td>spain</td>\n",
       "      <td>$32.98 b</td>\n",
       "      <td>NaN</td>\n",
       "      <td>NaN</td>\n",
       "      <td>NaN</td>\n",
       "      <td>NaN</td>\n",
       "      <td>NaN</td>\n",
       "      <td>NaN</td>\n",
       "      <td>NaN</td>\n",
       "      <td>...</td>\n",
       "      <td>NaN</td>\n",
       "      <td>NaN</td>\n",
       "      <td>NaN</td>\n",
       "      <td>NaN</td>\n",
       "      <td>NaN</td>\n",
       "      <td>NaN</td>\n",
       "      <td>$34.11</td>\n",
       "      <td>NaN</td>\n",
       "      <td>NaN</td>\n",
       "      <td>NaN</td>\n",
       "    </tr>\n",
       "    <tr>\n",
       "      <th>115534</th>\n",
       "      <th>95457</th>\n",
       "      <td>simon property group</td>\n",
       "      <td>NaN</td>\n",
       "      <td>NaN</td>\n",
       "      <td>NaN</td>\n",
       "      <td>3300</td>\n",
       "      <td>NaN</td>\n",
       "      <td>NaN</td>\n",
       "      <td>david simon</td>\n",
       "      <td>NaN</td>\n",
       "      <td>NaN</td>\n",
       "      <td>...</td>\n",
       "      <td>NaN</td>\n",
       "      <td>NaN</td>\n",
       "      <td>NaN</td>\n",
       "      <td>NaN</td>\n",
       "      <td>NaN</td>\n",
       "      <td>NaN</td>\n",
       "      <td>$125.08</td>\n",
       "      <td>NaN</td>\n",
       "      <td>NaN</td>\n",
       "      <td>NaN</td>\n",
       "    </tr>\n",
       "    <tr>\n",
       "      <th>...</th>\n",
       "      <th>...</th>\n",
       "      <td>...</td>\n",
       "      <td>...</td>\n",
       "      <td>...</td>\n",
       "      <td>...</td>\n",
       "      <td>...</td>\n",
       "      <td>...</td>\n",
       "      <td>...</td>\n",
       "      <td>...</td>\n",
       "      <td>...</td>\n",
       "      <td>...</td>\n",
       "      <td>...</td>\n",
       "      <td>...</td>\n",
       "      <td>...</td>\n",
       "      <td>...</td>\n",
       "      <td>...</td>\n",
       "      <td>...</td>\n",
       "      <td>...</td>\n",
       "      <td>...</td>\n",
       "      <td>...</td>\n",
       "      <td>...</td>\n",
       "      <td>...</td>\n",
       "    </tr>\n",
       "    <tr>\n",
       "      <th>123578</th>\n",
       "      <th>72504</th>\n",
       "      <td>avid bioservices</td>\n",
       "      <td>NaN</td>\n",
       "      <td>NaN</td>\n",
       "      <td>NaN</td>\n",
       "      <td>257</td>\n",
       "      <td>NaN</td>\n",
       "      <td>NaN</td>\n",
       "      <td>NaN</td>\n",
       "      <td>NaN</td>\n",
       "      <td>NaN</td>\n",
       "      <td>...</td>\n",
       "      <td>NaN</td>\n",
       "      <td>healthcare healthcare products biotechnology b...</td>\n",
       "      <td>NaN</td>\n",
       "      <td>not found</td>\n",
       "      <td>119 million usd</td>\n",
       "      <td>NaN</td>\n",
       "      <td>NaN</td>\n",
       "      <td>NaN</td>\n",
       "      <td>NaN</td>\n",
       "      <td>NaN</td>\n",
       "    </tr>\n",
       "    <tr>\n",
       "      <th>19858</th>\n",
       "      <th>4628</th>\n",
       "      <td>wafd bank</td>\n",
       "      <td>usa</td>\n",
       "      <td>$2.17 b</td>\n",
       "      <td>NaN</td>\n",
       "      <td>NaN</td>\n",
       "      <td>NaN</td>\n",
       "      <td>NaN</td>\n",
       "      <td>NaN</td>\n",
       "      <td>NaN</td>\n",
       "      <td>NaN</td>\n",
       "      <td>...</td>\n",
       "      <td>NaN</td>\n",
       "      <td>NaN</td>\n",
       "      <td>NaN</td>\n",
       "      <td>NaN</td>\n",
       "      <td>NaN</td>\n",
       "      <td>NaN</td>\n",
       "      <td>$33.83</td>\n",
       "      <td>NaN</td>\n",
       "      <td>NaN</td>\n",
       "      <td>NaN</td>\n",
       "    </tr>\n",
       "    <tr>\n",
       "      <th>163354</th>\n",
       "      <th>55882</th>\n",
       "      <td>xebec adsorption</td>\n",
       "      <td>canada</td>\n",
       "      <td>NaN</td>\n",
       "      <td>NaN</td>\n",
       "      <td>NaN</td>\n",
       "      <td>NaN</td>\n",
       "      <td>NaN</td>\n",
       "      <td>NaN</td>\n",
       "      <td>NaN</td>\n",
       "      <td>NaN</td>\n",
       "      <td>...</td>\n",
       "      <td>NaN</td>\n",
       "      <td>NaN</td>\n",
       "      <td>NaN</td>\n",
       "      <td>NaN</td>\n",
       "      <td>NaN</td>\n",
       "      <td>NaN</td>\n",
       "      <td>$0.38</td>\n",
       "      <td>NaN</td>\n",
       "      <td>NaN</td>\n",
       "      <td>NaN</td>\n",
       "    </tr>\n",
       "    <tr>\n",
       "      <th>118954</th>\n",
       "      <th>20199</th>\n",
       "      <td>games workshop group</td>\n",
       "      <td>NaN</td>\n",
       "      <td>NaN</td>\n",
       "      <td>NaN</td>\n",
       "      <td>2436</td>\n",
       "      <td>NaN</td>\n",
       "      <td>NaN</td>\n",
       "      <td>NaN</td>\n",
       "      <td>NaN</td>\n",
       "      <td>NaN</td>\n",
       "      <td>...</td>\n",
       "      <td>NaN</td>\n",
       "      <td>NaN</td>\n",
       "      <td>NaN</td>\n",
       "      <td>NaN</td>\n",
       "      <td>NaN</td>\n",
       "      <td>NaN</td>\n",
       "      <td>$87.91</td>\n",
       "      <td>NaN</td>\n",
       "      <td>NaN</td>\n",
       "      <td>NaN</td>\n",
       "    </tr>\n",
       "    <tr>\n",
       "      <th>120713</th>\n",
       "      <th>34897</th>\n",
       "      <td>hatsun agro product</td>\n",
       "      <td>NaN</td>\n",
       "      <td>NaN</td>\n",
       "      <td>NaN</td>\n",
       "      <td>4864</td>\n",
       "      <td>NaN</td>\n",
       "      <td>NaN</td>\n",
       "      <td>NaN</td>\n",
       "      <td>NaN</td>\n",
       "      <td>NaN</td>\n",
       "      <td>...</td>\n",
       "      <td>NaN</td>\n",
       "      <td>NaN</td>\n",
       "      <td>NaN</td>\n",
       "      <td>NaN</td>\n",
       "      <td>NaN</td>\n",
       "      <td>NaN</td>\n",
       "      <td>NaN</td>\n",
       "      <td>NaN</td>\n",
       "      <td>NaN</td>\n",
       "      <td>NaN</td>\n",
       "    </tr>\n",
       "  </tbody>\n",
       "</table>\n",
       "<p>30000 rows × 28 columns</p>\n",
       "</div>"
      ],
      "text/plain": [
       "                             l_name l_country l_market cap l_founded year  \\\n",
       "id_1   id_2                                                                 \n",
       "137773 63498                  bayer   germany          NaN            NaN   \n",
       "183211 95597              rio tinto       NaN          NaN         1873.0   \n",
       "115176 100221               tencent       NaN          NaN            NaN   \n",
       "60569  21874        cellnex telecom     spain     $32.98 b            NaN   \n",
       "115534 95457   simon property group       NaN          NaN            NaN   \n",
       "...                             ...       ...          ...            ...   \n",
       "123578 72504       avid bioservices       NaN          NaN            NaN   \n",
       "19858  4628               wafd bank       usa      $2.17 b            NaN   \n",
       "163354 55882       xebec adsorption    canada          NaN            NaN   \n",
       "118954 20199   games workshop group       NaN          NaN            NaN   \n",
       "120713 34897    hatsun agro product       NaN          NaN            NaN   \n",
       "\n",
       "              l_employees                                         l_industry  \\\n",
       "id_1   id_2                                                                    \n",
       "137773 63498          NaN                                                NaN   \n",
       "183211 95597          NaN  construction oil gas operations mining and che...   \n",
       "115176 100221      112771                                                NaN   \n",
       "60569  21874          NaN                                                NaN   \n",
       "115534 95457         3300                                                NaN   \n",
       "...                   ...                                                ...   \n",
       "123578 72504          257                                                NaN   \n",
       "19858  4628           NaN                                                NaN   \n",
       "163354 55882          NaN                                                NaN   \n",
       "118954 20199         2436                                                NaN   \n",
       "120713 34897         4864                                                NaN   \n",
       "\n",
       "              l_sector        l_ceo l_revenue l_stock  ... r_employees  \\\n",
       "id_1   id_2                                            ...               \n",
       "137773 63498       NaN          NaN   $52.1 b     NaN  ...         NaN   \n",
       "183211 95597       NaN          NaN    $63.5b     NaN  ...         NaN   \n",
       "115176 100221      NaN   ma huateng       NaN     NaN  ...      112771   \n",
       "60569  21874       NaN          NaN       NaN     NaN  ...         NaN   \n",
       "115534 95457       NaN  david simon       NaN     NaN  ...         NaN   \n",
       "...                ...          ...       ...     ...  ...         ...   \n",
       "123578 72504       NaN          NaN       NaN     NaN  ...         NaN   \n",
       "19858  4628        NaN          NaN       NaN     NaN  ...         NaN   \n",
       "163354 55882       NaN          NaN       NaN     NaN  ...         NaN   \n",
       "118954 20199       NaN          NaN       NaN     NaN  ...         NaN   \n",
       "120713 34897       NaN          NaN       NaN     NaN  ...         NaN   \n",
       "\n",
       "                                                      r_industry r_sector  \\\n",
       "id_1   id_2                                                                 \n",
       "137773 63498                                                 NaN      NaN   \n",
       "183211 95597                                                 NaN      NaN   \n",
       "115176 100221                                                NaN      NaN   \n",
       "60569  21874                                                 NaN      NaN   \n",
       "115534 95457                                                 NaN      NaN   \n",
       "...                                                          ...      ...   \n",
       "123578 72504   healthcare healthcare products biotechnology b...      NaN   \n",
       "19858  4628                                                  NaN      NaN   \n",
       "163354 55882                                                 NaN      NaN   \n",
       "118954 20199                                                 NaN      NaN   \n",
       "120713 34897                                                 NaN      NaN   \n",
       "\n",
       "                    r_ceo        r_revenue r_stock r_share price r_city  \\\n",
       "id_1   id_2                                                               \n",
       "137773 63498          NaN              NaN     NaN           NaN    NaN   \n",
       "183211 95597          NaN              NaN     NaN        $77.81    NaN   \n",
       "115176 100221  ma huateng              NaN     NaN           NaN    NaN   \n",
       "60569  21874          NaN              NaN     NaN        $34.11    NaN   \n",
       "115534 95457          NaN              NaN     NaN       $125.08    NaN   \n",
       "...                   ...              ...     ...           ...    ...   \n",
       "123578 72504    not found  119 million usd     NaN           NaN    NaN   \n",
       "19858  4628           NaN              NaN     NaN        $33.83    NaN   \n",
       "163354 55882          NaN              NaN     NaN         $0.38    NaN   \n",
       "118954 20199          NaN              NaN     NaN        $87.91    NaN   \n",
       "120713 34897          NaN              NaN     NaN           NaN    NaN   \n",
       "\n",
       "              r_address             r_website  \n",
       "id_1   id_2                                    \n",
       "137773 63498        NaN                   NaN  \n",
       "183211 95597        NaN                   NaN  \n",
       "115176 100221       NaN  httpswww.tencent.com  \n",
       "60569  21874        NaN                   NaN  \n",
       "115534 95457        NaN                   NaN  \n",
       "...                 ...                   ...  \n",
       "123578 72504        NaN                   NaN  \n",
       "19858  4628         NaN                   NaN  \n",
       "163354 55882        NaN                   NaN  \n",
       "118954 20199        NaN                   NaN  \n",
       "120713 34897        NaN                   NaN  \n",
       "\n",
       "[30000 rows x 28 columns]"
      ]
     },
     "execution_count": 31,
     "metadata": {},
     "output_type": "execute_result"
    }
   ],
   "source": [
    "n_sampled_matches = 30000\n",
    "choices = ran.choices(candidate_links, k=n_sampled_matches)\n",
    "\n",
    "lKeys = {key : f\"l_{key}\" for key in keys}\n",
    "rKeys = {key : f\"r_{key}\" for key in keys}\n",
    "\n",
    "idxKeys = [\"id_1\", \"id_2\"]\n",
    "\n",
    "choices_column = [*idxKeys, *lKeys.values(), *rKeys.values()] # id_1, id_2, l_attr, r_attr\n",
    "choices_df = pd.DataFrame(columns=choices_column) # \n",
    "for choice in choices:\n",
    "    lRow = schema_cleaned.iloc[[choice[0]]]\n",
    "    rRow = schema_cleaned.iloc[[choice[1]]]\n",
    "\n",
    "    lRow = lRow.rename(columns=lKeys).reset_index(drop=True)\n",
    "    rRow = rRow.rename(columns=rKeys).reset_index(drop=True)\n",
    "\n",
    "    idxs = pd.DataFrame({idxKeys[0]: [choice[0]], idxKeys[1]: [choice[1]]})\n",
    "    row = pd.concat([idxs, lRow, rRow], axis=1)\n",
    "    choices_df = pd.concat([choices_df, row], axis=0)\n",
    "\n",
    "# choices_df.reset_index(inplace=True)\n",
    "choices_df.set_index(idxKeys)"
   ]
  },
  {
   "cell_type": "code",
   "execution_count": 32,
   "metadata": {},
   "outputs": [],
   "source": [
    "choices_path = \"./csv/choices.csv\"\n",
    "choices_df.to_csv(choices_path, index=None)"
   ]
  },
  {
   "cell_type": "code",
   "execution_count": 33,
   "metadata": {},
   "outputs": [
    {
     "name": "stdout",
     "output_type": "stream",
     "text": [
      "10000\n",
      "10000\n",
      "10000\n"
     ]
    }
   ],
   "source": [
    "choices_path_gallo = \"./csv/gallo.csv\"\n",
    "choices_path_gatto = \"./csv/gatto.csv\"\n",
    "choices_path_moli = \"./csv/moli.csv\"\n",
    "\n",
    "sampled_matches_per_person = n_sampled_matches//3\n",
    "\n",
    "choices_df_gallo = choices_df.iloc[:sampled_matches_per_person]\n",
    "print(len(choices_df_gallo))\n",
    "\n",
    "choices_df_gatto = choices_df.iloc[sampled_matches_per_person:2*sampled_matches_per_person]\n",
    "print(len(choices_df_gatto))\n",
    "\n",
    "choices_df_moli = choices_df.iloc[2*sampled_matches_per_person:]\n",
    "print(len(choices_df_moli))\n",
    "\n",
    "choices_df_gallo.to_csv(choices_path_gallo, index=None)\n",
    "choices_df_gatto.to_csv(choices_path_gatto, index=None)\n",
    "choices_df_moli.to_csv(choices_path_moli, index=None)"
   ]
  },
  {
   "attachments": {},
   "cell_type": "markdown",
   "metadata": {},
   "source": [
    "# Comparing"
   ]
  },
  {
   "cell_type": "code",
   "execution_count": 34,
   "metadata": {},
   "outputs": [],
   "source": [
    "compare_cl = rl.Compare()\n",
    "compare_cl.string(\"name\", \"name\", threshold=0.85, label=\"name\")\n",
    "compare_cl.string(\"country\", \"country\", label=\"country\")\n",
    "compare_cl.string(\"founded year\", \"founded year\", label=\"founded year\")\n",
    "compare_cl.string(\"industry\", \"industry\", label=\"industry\")\n",
    "compare_cl.string(\"sector\", \"sector\", label=\"sector\")\n",
    "compare_cl.string(\"address\", \"address\", label=\"address\")\n",
    "compare_cl.string(\"city\", \"city\", label=\"city\")\n",
    "compare_cl.string(\"ceo\", \"ceo\", label=\"ceo\")\n",
    "features = compare_cl.compute(candidate_links, schema, schema)"
   ]
  },
  {
   "cell_type": "code",
   "execution_count": 35,
   "metadata": {},
   "outputs": [
    {
     "data": {
      "text/html": [
       "<div>\n",
       "<style scoped>\n",
       "    .dataframe tbody tr th:only-of-type {\n",
       "        vertical-align: middle;\n",
       "    }\n",
       "\n",
       "    .dataframe tbody tr th {\n",
       "        vertical-align: top;\n",
       "    }\n",
       "\n",
       "    .dataframe thead th {\n",
       "        text-align: right;\n",
       "    }\n",
       "</style>\n",
       "<table border=\"1\" class=\"dataframe\">\n",
       "  <thead>\n",
       "    <tr style=\"text-align: right;\">\n",
       "      <th></th>\n",
       "      <th></th>\n",
       "      <th>name</th>\n",
       "      <th>country</th>\n",
       "      <th>founded year</th>\n",
       "      <th>industry</th>\n",
       "      <th>sector</th>\n",
       "      <th>address</th>\n",
       "      <th>city</th>\n",
       "      <th>ceo</th>\n",
       "    </tr>\n",
       "  </thead>\n",
       "  <tbody>\n",
       "    <tr>\n",
       "      <th>14290</th>\n",
       "      <th>0</th>\n",
       "      <td>1.0</td>\n",
       "      <td>1.0</td>\n",
       "      <td>1.0</td>\n",
       "      <td>0.0</td>\n",
       "      <td>1.0</td>\n",
       "      <td>0.0000</td>\n",
       "      <td>0.0</td>\n",
       "      <td>0.0</td>\n",
       "    </tr>\n",
       "    <tr>\n",
       "      <th rowspan=\"2\" valign=\"top\">22400</th>\n",
       "      <th>0</th>\n",
       "      <td>1.0</td>\n",
       "      <td>1.0</td>\n",
       "      <td>1.0</td>\n",
       "      <td>0.0</td>\n",
       "      <td>0.0</td>\n",
       "      <td>0.0000</td>\n",
       "      <td>0.0</td>\n",
       "      <td>0.0</td>\n",
       "    </tr>\n",
       "    <tr>\n",
       "      <th>14290</th>\n",
       "      <td>1.0</td>\n",
       "      <td>1.0</td>\n",
       "      <td>1.0</td>\n",
       "      <td>0.0</td>\n",
       "      <td>0.0</td>\n",
       "      <td>0.0000</td>\n",
       "      <td>0.0</td>\n",
       "      <td>0.0</td>\n",
       "    </tr>\n",
       "    <tr>\n",
       "      <th rowspan=\"2\" valign=\"top\">111211</th>\n",
       "      <th>0</th>\n",
       "      <td>1.0</td>\n",
       "      <td>1.0</td>\n",
       "      <td>1.0</td>\n",
       "      <td>0.0</td>\n",
       "      <td>1.0</td>\n",
       "      <td>0.0000</td>\n",
       "      <td>0.0</td>\n",
       "      <td>0.0</td>\n",
       "    </tr>\n",
       "    <tr>\n",
       "      <th>14290</th>\n",
       "      <td>1.0</td>\n",
       "      <td>1.0</td>\n",
       "      <td>1.0</td>\n",
       "      <td>0.0</td>\n",
       "      <td>1.0</td>\n",
       "      <td>0.0000</td>\n",
       "      <td>0.0</td>\n",
       "      <td>0.0</td>\n",
       "    </tr>\n",
       "    <tr>\n",
       "      <th>...</th>\n",
       "      <th>...</th>\n",
       "      <td>...</td>\n",
       "      <td>...</td>\n",
       "      <td>...</td>\n",
       "      <td>...</td>\n",
       "      <td>...</td>\n",
       "      <td>...</td>\n",
       "      <td>...</td>\n",
       "      <td>...</td>\n",
       "    </tr>\n",
       "    <tr>\n",
       "      <th>186184</th>\n",
       "      <th>156684</th>\n",
       "      <td>1.0</td>\n",
       "      <td>0.0</td>\n",
       "      <td>1.0</td>\n",
       "      <td>1.0</td>\n",
       "      <td>1.0</td>\n",
       "      <td>0.0000</td>\n",
       "      <td>0.0</td>\n",
       "      <td>0.0</td>\n",
       "    </tr>\n",
       "    <tr>\n",
       "      <th>186185</th>\n",
       "      <th>156685</th>\n",
       "      <td>1.0</td>\n",
       "      <td>0.0</td>\n",
       "      <td>1.0</td>\n",
       "      <td>1.0</td>\n",
       "      <td>1.0</td>\n",
       "      <td>0.0000</td>\n",
       "      <td>0.0</td>\n",
       "      <td>0.0</td>\n",
       "    </tr>\n",
       "    <tr>\n",
       "      <th>186186</th>\n",
       "      <th>156686</th>\n",
       "      <td>1.0</td>\n",
       "      <td>0.0</td>\n",
       "      <td>1.0</td>\n",
       "      <td>1.0</td>\n",
       "      <td>1.0</td>\n",
       "      <td>0.0000</td>\n",
       "      <td>0.0</td>\n",
       "      <td>0.0</td>\n",
       "    </tr>\n",
       "    <tr>\n",
       "      <th>186187</th>\n",
       "      <th>156687</th>\n",
       "      <td>1.0</td>\n",
       "      <td>0.0</td>\n",
       "      <td>1.0</td>\n",
       "      <td>1.0</td>\n",
       "      <td>1.0</td>\n",
       "      <td>0.0000</td>\n",
       "      <td>0.0</td>\n",
       "      <td>0.0</td>\n",
       "    </tr>\n",
       "    <tr>\n",
       "      <th>184572</th>\n",
       "      <th>184571</th>\n",
       "      <td>1.0</td>\n",
       "      <td>0.0</td>\n",
       "      <td>0.0</td>\n",
       "      <td>0.0</td>\n",
       "      <td>0.0</td>\n",
       "      <td>0.1875</td>\n",
       "      <td>0.0</td>\n",
       "      <td>0.0</td>\n",
       "    </tr>\n",
       "  </tbody>\n",
       "</table>\n",
       "<p>538711 rows × 8 columns</p>\n",
       "</div>"
      ],
      "text/plain": [
       "               name  country  founded year  industry  sector  address  city  \\\n",
       "14290  0        1.0      1.0           1.0       0.0     1.0   0.0000   0.0   \n",
       "22400  0        1.0      1.0           1.0       0.0     0.0   0.0000   0.0   \n",
       "       14290    1.0      1.0           1.0       0.0     0.0   0.0000   0.0   \n",
       "111211 0        1.0      1.0           1.0       0.0     1.0   0.0000   0.0   \n",
       "       14290    1.0      1.0           1.0       0.0     1.0   0.0000   0.0   \n",
       "...             ...      ...           ...       ...     ...      ...   ...   \n",
       "186184 156684   1.0      0.0           1.0       1.0     1.0   0.0000   0.0   \n",
       "186185 156685   1.0      0.0           1.0       1.0     1.0   0.0000   0.0   \n",
       "186186 156686   1.0      0.0           1.0       1.0     1.0   0.0000   0.0   \n",
       "186187 156687   1.0      0.0           1.0       1.0     1.0   0.0000   0.0   \n",
       "184572 184571   1.0      0.0           0.0       0.0     0.0   0.1875   0.0   \n",
       "\n",
       "               ceo  \n",
       "14290  0       0.0  \n",
       "22400  0       0.0  \n",
       "       14290   0.0  \n",
       "111211 0       0.0  \n",
       "       14290   0.0  \n",
       "...            ...  \n",
       "186184 156684  0.0  \n",
       "186185 156685  0.0  \n",
       "186186 156686  0.0  \n",
       "186187 156687  0.0  \n",
       "184572 184571  0.0  \n",
       "\n",
       "[538711 rows x 8 columns]"
      ]
     },
     "execution_count": 35,
     "metadata": {},
     "output_type": "execute_result"
    }
   ],
   "source": [
    "features"
   ]
  },
  {
   "cell_type": "code",
   "execution_count": 36,
   "metadata": {},
   "outputs": [
    {
     "data": {
      "text/html": [
       "<div>\n",
       "<style scoped>\n",
       "    .dataframe tbody tr th:only-of-type {\n",
       "        vertical-align: middle;\n",
       "    }\n",
       "\n",
       "    .dataframe tbody tr th {\n",
       "        vertical-align: top;\n",
       "    }\n",
       "\n",
       "    .dataframe thead th {\n",
       "        text-align: right;\n",
       "    }\n",
       "</style>\n",
       "<table border=\"1\" class=\"dataframe\">\n",
       "  <thead>\n",
       "    <tr style=\"text-align: right;\">\n",
       "      <th></th>\n",
       "      <th>name</th>\n",
       "      <th>country</th>\n",
       "      <th>founded year</th>\n",
       "      <th>industry</th>\n",
       "      <th>sector</th>\n",
       "      <th>address</th>\n",
       "      <th>city</th>\n",
       "      <th>ceo</th>\n",
       "    </tr>\n",
       "  </thead>\n",
       "  <tbody>\n",
       "    <tr>\n",
       "      <th>count</th>\n",
       "      <td>538711.0</td>\n",
       "      <td>538711.000000</td>\n",
       "      <td>538711.000000</td>\n",
       "      <td>538711.000000</td>\n",
       "      <td>538711.000000</td>\n",
       "      <td>538711.000000</td>\n",
       "      <td>538711.000000</td>\n",
       "      <td>538711.000000</td>\n",
       "    </tr>\n",
       "    <tr>\n",
       "      <th>mean</th>\n",
       "      <td>1.0</td>\n",
       "      <td>0.437252</td>\n",
       "      <td>0.043700</td>\n",
       "      <td>0.035877</td>\n",
       "      <td>0.043175</td>\n",
       "      <td>0.003701</td>\n",
       "      <td>0.004944</td>\n",
       "      <td>0.050348</td>\n",
       "    </tr>\n",
       "    <tr>\n",
       "      <th>std</th>\n",
       "      <td>0.0</td>\n",
       "      <td>0.488796</td>\n",
       "      <td>0.195233</td>\n",
       "      <td>0.177248</td>\n",
       "      <td>0.202808</td>\n",
       "      <td>0.059819</td>\n",
       "      <td>0.070109</td>\n",
       "      <td>0.205420</td>\n",
       "    </tr>\n",
       "    <tr>\n",
       "      <th>min</th>\n",
       "      <td>1.0</td>\n",
       "      <td>0.000000</td>\n",
       "      <td>0.000000</td>\n",
       "      <td>0.000000</td>\n",
       "      <td>0.000000</td>\n",
       "      <td>0.000000</td>\n",
       "      <td>0.000000</td>\n",
       "      <td>0.000000</td>\n",
       "    </tr>\n",
       "    <tr>\n",
       "      <th>25%</th>\n",
       "      <td>1.0</td>\n",
       "      <td>0.000000</td>\n",
       "      <td>0.000000</td>\n",
       "      <td>0.000000</td>\n",
       "      <td>0.000000</td>\n",
       "      <td>0.000000</td>\n",
       "      <td>0.000000</td>\n",
       "      <td>0.000000</td>\n",
       "    </tr>\n",
       "    <tr>\n",
       "      <th>50%</th>\n",
       "      <td>1.0</td>\n",
       "      <td>0.000000</td>\n",
       "      <td>0.000000</td>\n",
       "      <td>0.000000</td>\n",
       "      <td>0.000000</td>\n",
       "      <td>0.000000</td>\n",
       "      <td>0.000000</td>\n",
       "      <td>0.000000</td>\n",
       "    </tr>\n",
       "    <tr>\n",
       "      <th>75%</th>\n",
       "      <td>1.0</td>\n",
       "      <td>1.000000</td>\n",
       "      <td>0.000000</td>\n",
       "      <td>0.000000</td>\n",
       "      <td>0.000000</td>\n",
       "      <td>0.000000</td>\n",
       "      <td>0.000000</td>\n",
       "      <td>0.000000</td>\n",
       "    </tr>\n",
       "    <tr>\n",
       "      <th>max</th>\n",
       "      <td>1.0</td>\n",
       "      <td>1.000000</td>\n",
       "      <td>1.000000</td>\n",
       "      <td>1.000000</td>\n",
       "      <td>1.000000</td>\n",
       "      <td>1.000000</td>\n",
       "      <td>1.000000</td>\n",
       "      <td>1.000000</td>\n",
       "    </tr>\n",
       "  </tbody>\n",
       "</table>\n",
       "</div>"
      ],
      "text/plain": [
       "           name        country   founded year       industry         sector  \\\n",
       "count  538711.0  538711.000000  538711.000000  538711.000000  538711.000000   \n",
       "mean        1.0       0.437252       0.043700       0.035877       0.043175   \n",
       "std         0.0       0.488796       0.195233       0.177248       0.202808   \n",
       "min         1.0       0.000000       0.000000       0.000000       0.000000   \n",
       "25%         1.0       0.000000       0.000000       0.000000       0.000000   \n",
       "50%         1.0       0.000000       0.000000       0.000000       0.000000   \n",
       "75%         1.0       1.000000       0.000000       0.000000       0.000000   \n",
       "max         1.0       1.000000       1.000000       1.000000       1.000000   \n",
       "\n",
       "             address           city            ceo  \n",
       "count  538711.000000  538711.000000  538711.000000  \n",
       "mean        0.003701       0.004944       0.050348  \n",
       "std         0.059819       0.070109       0.205420  \n",
       "min         0.000000       0.000000       0.000000  \n",
       "25%         0.000000       0.000000       0.000000  \n",
       "50%         0.000000       0.000000       0.000000  \n",
       "75%         0.000000       0.000000       0.000000  \n",
       "max         1.000000       1.000000       1.000000  "
      ]
     },
     "execution_count": 36,
     "metadata": {},
     "output_type": "execute_result"
    }
   ],
   "source": [
    "features.describe()"
   ]
  },
  {
   "cell_type": "code",
   "execution_count": 37,
   "metadata": {},
   "outputs": [
    {
     "data": {
      "text/plain": [
       "6.000000       461\n",
       "5.000000       287\n",
       "4.733333         1\n",
       "4.685714         1\n",
       "4.457143         1\n",
       "             ...  \n",
       "1.017857         1\n",
       "1.016667         1\n",
       "1.016393         1\n",
       "1.011820         1\n",
       "1.000000    243056\n",
       "Length: 5291, dtype: int64"
      ]
     },
     "execution_count": 37,
     "metadata": {},
     "output_type": "execute_result"
    }
   ],
   "source": [
    "features.sum(axis=1).value_counts().sort_index(ascending=False)"
   ]
  },
  {
   "cell_type": "code",
   "execution_count": 38,
   "metadata": {},
   "outputs": [],
   "source": [
    "record_linked = features[features.sum(axis=1) > 1]"
   ]
  },
  {
   "cell_type": "code",
   "execution_count": 39,
   "metadata": {},
   "outputs": [
    {
     "name": "stdout",
     "output_type": "stream",
     "text": [
      "               name  country  founded year  industry  sector  address  city  \\\n",
      "14290  0        1.0      1.0           1.0       0.0     1.0   0.0000   0.0   \n",
      "22400  0        1.0      1.0           1.0       0.0     0.0   0.0000   0.0   \n",
      "       14290    1.0      1.0           1.0       0.0     0.0   0.0000   0.0   \n",
      "111211 0        1.0      1.0           1.0       0.0     1.0   0.0000   0.0   \n",
      "       14290    1.0      1.0           1.0       0.0     1.0   0.0000   0.0   \n",
      "...             ...      ...           ...       ...     ...      ...   ...   \n",
      "186184 156684   1.0      0.0           1.0       1.0     1.0   0.0000   0.0   \n",
      "186185 156685   1.0      0.0           1.0       1.0     1.0   0.0000   0.0   \n",
      "186186 156686   1.0      0.0           1.0       1.0     1.0   0.0000   0.0   \n",
      "186187 156687   1.0      0.0           1.0       1.0     1.0   0.0000   0.0   \n",
      "184572 184571   1.0      0.0           0.0       0.0     0.0   0.1875   0.0   \n",
      "\n",
      "               ceo  \n",
      "14290  0       0.0  \n",
      "22400  0       0.0  \n",
      "       14290   0.0  \n",
      "111211 0       0.0  \n",
      "       14290   0.0  \n",
      "...            ...  \n",
      "186184 156684  0.0  \n",
      "186185 156685  0.0  \n",
      "186186 156686  0.0  \n",
      "186187 156687  0.0  \n",
      "184572 184571  0.0  \n",
      "\n",
      "[295655 rows x 8 columns]\n"
     ]
    }
   ],
   "source": [
    "print(record_linked)"
   ]
  },
  {
   "attachments": {},
   "cell_type": "markdown",
   "metadata": {},
   "source": [
    "# Caricamento dei dataset per classificazione"
   ]
  },
  {
   "cell_type": "code",
   "execution_count": 40,
   "metadata": {},
   "outputs": [
    {
     "ename": "FileNotFoundError",
     "evalue": "[Errno 2] No such file or directory: './csv/golden_links_gallo.csv'",
     "output_type": "error",
     "traceback": [
      "\u001b[0;31m---------------------------------------------------------------------------\u001b[0m",
      "\u001b[0;31mFileNotFoundError\u001b[0m                         Traceback (most recent call last)",
      "Cell \u001b[0;32mIn[40], line 5\u001b[0m\n\u001b[1;32m      2\u001b[0m golden_path_gatto \u001b[39m=\u001b[39m \u001b[39m\"\u001b[39m\u001b[39m./csv/golden_links_gatto.csv\u001b[39m\u001b[39m\"\u001b[39m\n\u001b[1;32m      3\u001b[0m golden_path_moli \u001b[39m=\u001b[39m \u001b[39m\"\u001b[39m\u001b[39m./csv/golden_links_moli.csv\u001b[39m\u001b[39m\"\u001b[39m\n\u001b[0;32m----> 5\u001b[0m golden_gallo \u001b[39m=\u001b[39m pd\u001b[39m.\u001b[39;49mread_csv(golden_path_gallo, index_col\u001b[39m=\u001b[39;49m\u001b[39mNone\u001b[39;49;00m)\n\u001b[1;32m      6\u001b[0m golden_gatto \u001b[39m=\u001b[39m pd\u001b[39m.\u001b[39mread_csv(golden_path_gatto, index_col\u001b[39m=\u001b[39m\u001b[39mNone\u001b[39;00m)\n\u001b[1;32m      7\u001b[0m golden_moli \u001b[39m=\u001b[39m pd\u001b[39m.\u001b[39mread_csv(golden_path_moli, index_col\u001b[39m=\u001b[39m\u001b[39mNone\u001b[39;00m)\n",
      "File \u001b[0;32m/opt/homebrew/Caskroom/miniconda/base/envs/hw8/lib/python3.10/site-packages/pandas/util/_decorators.py:211\u001b[0m, in \u001b[0;36mdeprecate_kwarg.<locals>._deprecate_kwarg.<locals>.wrapper\u001b[0;34m(*args, **kwargs)\u001b[0m\n\u001b[1;32m    209\u001b[0m     \u001b[39melse\u001b[39;00m:\n\u001b[1;32m    210\u001b[0m         kwargs[new_arg_name] \u001b[39m=\u001b[39m new_arg_value\n\u001b[0;32m--> 211\u001b[0m \u001b[39mreturn\u001b[39;00m func(\u001b[39m*\u001b[39;49margs, \u001b[39m*\u001b[39;49m\u001b[39m*\u001b[39;49mkwargs)\n",
      "File \u001b[0;32m/opt/homebrew/Caskroom/miniconda/base/envs/hw8/lib/python3.10/site-packages/pandas/util/_decorators.py:331\u001b[0m, in \u001b[0;36mdeprecate_nonkeyword_arguments.<locals>.decorate.<locals>.wrapper\u001b[0;34m(*args, **kwargs)\u001b[0m\n\u001b[1;32m    325\u001b[0m \u001b[39mif\u001b[39;00m \u001b[39mlen\u001b[39m(args) \u001b[39m>\u001b[39m num_allow_args:\n\u001b[1;32m    326\u001b[0m     warnings\u001b[39m.\u001b[39mwarn(\n\u001b[1;32m    327\u001b[0m         msg\u001b[39m.\u001b[39mformat(arguments\u001b[39m=\u001b[39m_format_argument_list(allow_args)),\n\u001b[1;32m    328\u001b[0m         \u001b[39mFutureWarning\u001b[39;00m,\n\u001b[1;32m    329\u001b[0m         stacklevel\u001b[39m=\u001b[39mfind_stack_level(),\n\u001b[1;32m    330\u001b[0m     )\n\u001b[0;32m--> 331\u001b[0m \u001b[39mreturn\u001b[39;00m func(\u001b[39m*\u001b[39;49margs, \u001b[39m*\u001b[39;49m\u001b[39m*\u001b[39;49mkwargs)\n",
      "File \u001b[0;32m/opt/homebrew/Caskroom/miniconda/base/envs/hw8/lib/python3.10/site-packages/pandas/io/parsers/readers.py:950\u001b[0m, in \u001b[0;36mread_csv\u001b[0;34m(filepath_or_buffer, sep, delimiter, header, names, index_col, usecols, squeeze, prefix, mangle_dupe_cols, dtype, engine, converters, true_values, false_values, skipinitialspace, skiprows, skipfooter, nrows, na_values, keep_default_na, na_filter, verbose, skip_blank_lines, parse_dates, infer_datetime_format, keep_date_col, date_parser, dayfirst, cache_dates, iterator, chunksize, compression, thousands, decimal, lineterminator, quotechar, quoting, doublequote, escapechar, comment, encoding, encoding_errors, dialect, error_bad_lines, warn_bad_lines, on_bad_lines, delim_whitespace, low_memory, memory_map, float_precision, storage_options)\u001b[0m\n\u001b[1;32m    935\u001b[0m kwds_defaults \u001b[39m=\u001b[39m _refine_defaults_read(\n\u001b[1;32m    936\u001b[0m     dialect,\n\u001b[1;32m    937\u001b[0m     delimiter,\n\u001b[0;32m   (...)\u001b[0m\n\u001b[1;32m    946\u001b[0m     defaults\u001b[39m=\u001b[39m{\u001b[39m\"\u001b[39m\u001b[39mdelimiter\u001b[39m\u001b[39m\"\u001b[39m: \u001b[39m\"\u001b[39m\u001b[39m,\u001b[39m\u001b[39m\"\u001b[39m},\n\u001b[1;32m    947\u001b[0m )\n\u001b[1;32m    948\u001b[0m kwds\u001b[39m.\u001b[39mupdate(kwds_defaults)\n\u001b[0;32m--> 950\u001b[0m \u001b[39mreturn\u001b[39;00m _read(filepath_or_buffer, kwds)\n",
      "File \u001b[0;32m/opt/homebrew/Caskroom/miniconda/base/envs/hw8/lib/python3.10/site-packages/pandas/io/parsers/readers.py:605\u001b[0m, in \u001b[0;36m_read\u001b[0;34m(filepath_or_buffer, kwds)\u001b[0m\n\u001b[1;32m    602\u001b[0m _validate_names(kwds\u001b[39m.\u001b[39mget(\u001b[39m\"\u001b[39m\u001b[39mnames\u001b[39m\u001b[39m\"\u001b[39m, \u001b[39mNone\u001b[39;00m))\n\u001b[1;32m    604\u001b[0m \u001b[39m# Create the parser.\u001b[39;00m\n\u001b[0;32m--> 605\u001b[0m parser \u001b[39m=\u001b[39m TextFileReader(filepath_or_buffer, \u001b[39m*\u001b[39;49m\u001b[39m*\u001b[39;49mkwds)\n\u001b[1;32m    607\u001b[0m \u001b[39mif\u001b[39;00m chunksize \u001b[39mor\u001b[39;00m iterator:\n\u001b[1;32m    608\u001b[0m     \u001b[39mreturn\u001b[39;00m parser\n",
      "File \u001b[0;32m/opt/homebrew/Caskroom/miniconda/base/envs/hw8/lib/python3.10/site-packages/pandas/io/parsers/readers.py:1442\u001b[0m, in \u001b[0;36mTextFileReader.__init__\u001b[0;34m(self, f, engine, **kwds)\u001b[0m\n\u001b[1;32m   1439\u001b[0m     \u001b[39mself\u001b[39m\u001b[39m.\u001b[39moptions[\u001b[39m\"\u001b[39m\u001b[39mhas_index_names\u001b[39m\u001b[39m\"\u001b[39m] \u001b[39m=\u001b[39m kwds[\u001b[39m\"\u001b[39m\u001b[39mhas_index_names\u001b[39m\u001b[39m\"\u001b[39m]\n\u001b[1;32m   1441\u001b[0m \u001b[39mself\u001b[39m\u001b[39m.\u001b[39mhandles: IOHandles \u001b[39m|\u001b[39m \u001b[39mNone\u001b[39;00m \u001b[39m=\u001b[39m \u001b[39mNone\u001b[39;00m\n\u001b[0;32m-> 1442\u001b[0m \u001b[39mself\u001b[39m\u001b[39m.\u001b[39m_engine \u001b[39m=\u001b[39m \u001b[39mself\u001b[39;49m\u001b[39m.\u001b[39;49m_make_engine(f, \u001b[39mself\u001b[39;49m\u001b[39m.\u001b[39;49mengine)\n",
      "File \u001b[0;32m/opt/homebrew/Caskroom/miniconda/base/envs/hw8/lib/python3.10/site-packages/pandas/io/parsers/readers.py:1735\u001b[0m, in \u001b[0;36mTextFileReader._make_engine\u001b[0;34m(self, f, engine)\u001b[0m\n\u001b[1;32m   1733\u001b[0m     \u001b[39mif\u001b[39;00m \u001b[39m\"\u001b[39m\u001b[39mb\u001b[39m\u001b[39m\"\u001b[39m \u001b[39mnot\u001b[39;00m \u001b[39min\u001b[39;00m mode:\n\u001b[1;32m   1734\u001b[0m         mode \u001b[39m+\u001b[39m\u001b[39m=\u001b[39m \u001b[39m\"\u001b[39m\u001b[39mb\u001b[39m\u001b[39m\"\u001b[39m\n\u001b[0;32m-> 1735\u001b[0m \u001b[39mself\u001b[39m\u001b[39m.\u001b[39mhandles \u001b[39m=\u001b[39m get_handle(\n\u001b[1;32m   1736\u001b[0m     f,\n\u001b[1;32m   1737\u001b[0m     mode,\n\u001b[1;32m   1738\u001b[0m     encoding\u001b[39m=\u001b[39;49m\u001b[39mself\u001b[39;49m\u001b[39m.\u001b[39;49moptions\u001b[39m.\u001b[39;49mget(\u001b[39m\"\u001b[39;49m\u001b[39mencoding\u001b[39;49m\u001b[39m\"\u001b[39;49m, \u001b[39mNone\u001b[39;49;00m),\n\u001b[1;32m   1739\u001b[0m     compression\u001b[39m=\u001b[39;49m\u001b[39mself\u001b[39;49m\u001b[39m.\u001b[39;49moptions\u001b[39m.\u001b[39;49mget(\u001b[39m\"\u001b[39;49m\u001b[39mcompression\u001b[39;49m\u001b[39m\"\u001b[39;49m, \u001b[39mNone\u001b[39;49;00m),\n\u001b[1;32m   1740\u001b[0m     memory_map\u001b[39m=\u001b[39;49m\u001b[39mself\u001b[39;49m\u001b[39m.\u001b[39;49moptions\u001b[39m.\u001b[39;49mget(\u001b[39m\"\u001b[39;49m\u001b[39mmemory_map\u001b[39;49m\u001b[39m\"\u001b[39;49m, \u001b[39mFalse\u001b[39;49;00m),\n\u001b[1;32m   1741\u001b[0m     is_text\u001b[39m=\u001b[39;49mis_text,\n\u001b[1;32m   1742\u001b[0m     errors\u001b[39m=\u001b[39;49m\u001b[39mself\u001b[39;49m\u001b[39m.\u001b[39;49moptions\u001b[39m.\u001b[39;49mget(\u001b[39m\"\u001b[39;49m\u001b[39mencoding_errors\u001b[39;49m\u001b[39m\"\u001b[39;49m, \u001b[39m\"\u001b[39;49m\u001b[39mstrict\u001b[39;49m\u001b[39m\"\u001b[39;49m),\n\u001b[1;32m   1743\u001b[0m     storage_options\u001b[39m=\u001b[39;49m\u001b[39mself\u001b[39;49m\u001b[39m.\u001b[39;49moptions\u001b[39m.\u001b[39;49mget(\u001b[39m\"\u001b[39;49m\u001b[39mstorage_options\u001b[39;49m\u001b[39m\"\u001b[39;49m, \u001b[39mNone\u001b[39;49;00m),\n\u001b[1;32m   1744\u001b[0m )\n\u001b[1;32m   1745\u001b[0m \u001b[39massert\u001b[39;00m \u001b[39mself\u001b[39m\u001b[39m.\u001b[39mhandles \u001b[39mis\u001b[39;00m \u001b[39mnot\u001b[39;00m \u001b[39mNone\u001b[39;00m\n\u001b[1;32m   1746\u001b[0m f \u001b[39m=\u001b[39m \u001b[39mself\u001b[39m\u001b[39m.\u001b[39mhandles\u001b[39m.\u001b[39mhandle\n",
      "File \u001b[0;32m/opt/homebrew/Caskroom/miniconda/base/envs/hw8/lib/python3.10/site-packages/pandas/io/common.py:856\u001b[0m, in \u001b[0;36mget_handle\u001b[0;34m(path_or_buf, mode, encoding, compression, memory_map, is_text, errors, storage_options)\u001b[0m\n\u001b[1;32m    851\u001b[0m \u001b[39melif\u001b[39;00m \u001b[39misinstance\u001b[39m(handle, \u001b[39mstr\u001b[39m):\n\u001b[1;32m    852\u001b[0m     \u001b[39m# Check whether the filename is to be opened in binary mode.\u001b[39;00m\n\u001b[1;32m    853\u001b[0m     \u001b[39m# Binary mode does not support 'encoding' and 'newline'.\u001b[39;00m\n\u001b[1;32m    854\u001b[0m     \u001b[39mif\u001b[39;00m ioargs\u001b[39m.\u001b[39mencoding \u001b[39mand\u001b[39;00m \u001b[39m\"\u001b[39m\u001b[39mb\u001b[39m\u001b[39m\"\u001b[39m \u001b[39mnot\u001b[39;00m \u001b[39min\u001b[39;00m ioargs\u001b[39m.\u001b[39mmode:\n\u001b[1;32m    855\u001b[0m         \u001b[39m# Encoding\u001b[39;00m\n\u001b[0;32m--> 856\u001b[0m         handle \u001b[39m=\u001b[39m \u001b[39mopen\u001b[39;49m(\n\u001b[1;32m    857\u001b[0m             handle,\n\u001b[1;32m    858\u001b[0m             ioargs\u001b[39m.\u001b[39;49mmode,\n\u001b[1;32m    859\u001b[0m             encoding\u001b[39m=\u001b[39;49mioargs\u001b[39m.\u001b[39;49mencoding,\n\u001b[1;32m    860\u001b[0m             errors\u001b[39m=\u001b[39;49merrors,\n\u001b[1;32m    861\u001b[0m             newline\u001b[39m=\u001b[39;49m\u001b[39m\"\u001b[39;49m\u001b[39m\"\u001b[39;49m,\n\u001b[1;32m    862\u001b[0m         )\n\u001b[1;32m    863\u001b[0m     \u001b[39melse\u001b[39;00m:\n\u001b[1;32m    864\u001b[0m         \u001b[39m# Binary mode\u001b[39;00m\n\u001b[1;32m    865\u001b[0m         handle \u001b[39m=\u001b[39m \u001b[39mopen\u001b[39m(handle, ioargs\u001b[39m.\u001b[39mmode)\n",
      "\u001b[0;31mFileNotFoundError\u001b[0m: [Errno 2] No such file or directory: './csv/golden_links_gallo.csv'"
     ]
    }
   ],
   "source": [
    "golden_path_gallo = \"./csv/golden_links_gallo.csv\"\n",
    "golden_path_gatto = \"./csv/golden_links_gatto.csv\"\n",
    "golden_path_moli = \"./csv/golden_links_moli.csv\"\n",
    "\n",
    "golden_gallo = pd.read_csv(golden_path_gallo, index_col=None)\n",
    "golden_gatto = pd.read_csv(golden_path_gatto, index_col=None)\n",
    "golden_moli = pd.read_csv(golden_path_moli, index_col=None)\n",
    "\n",
    "golden = pd.concat([golden_gallo, golden_gatto, golden_moli], axis=0)\n",
    "\n",
    "golden_path = \"./csv/golden_links.csv\"\n",
    "\n",
    "golden = golden.reset_index(drop=True)\n",
    "golden.to_csv(golden_path, index=None)"
   ]
  },
  {
   "cell_type": "code",
   "execution_count": null,
   "metadata": {},
   "outputs": [],
   "source": [
    "golden = pd.read_csv(golden_path, index_col=[0,1])\n",
    "golden_links = golden[golden[\"label\"]==1].index"
   ]
  },
  {
   "attachments": {},
   "cell_type": "markdown",
   "metadata": {},
   "source": [
    "# Classification (Unsupervised)"
   ]
  },
  {
   "cell_type": "code",
   "execution_count": null,
   "metadata": {},
   "outputs": [],
   "source": [
    "ECM = rl.ECMClassifier(binarize=0.6)\n",
    "result = ECM.fit_predict(record_linked)\n",
    "print(\"Possible record linked size:\", len(record_linked))\n",
    "print(\"Record linked size:\", len(result))\n",
    "print(f\"Removed {len(record_linked) - len(result)} possible links\")"
   ]
  },
  {
   "attachments": {},
   "cell_type": "markdown",
   "metadata": {},
   "source": [
    "# Evaluation (Unsupervised)"
   ]
  },
  {
   "attachments": {},
   "cell_type": "markdown",
   "metadata": {},
   "source": [
    "### Confusion matrix"
   ]
  },
  {
   "cell_type": "code",
   "execution_count": null,
   "metadata": {},
   "outputs": [],
   "source": [
    "rl.confusion_matrix(golden_links, result)"
   ]
  },
  {
   "attachments": {},
   "cell_type": "markdown",
   "metadata": {},
   "source": [
    "### Precision"
   ]
  },
  {
   "cell_type": "code",
   "execution_count": null,
   "metadata": {},
   "outputs": [],
   "source": [
    "rl.precision(golden_links, result)"
   ]
  },
  {
   "attachments": {},
   "cell_type": "markdown",
   "metadata": {},
   "source": [
    "### Recall"
   ]
  },
  {
   "cell_type": "code",
   "execution_count": null,
   "metadata": {},
   "outputs": [],
   "source": [
    "rl.recall(golden_links, result)"
   ]
  },
  {
   "attachments": {},
   "cell_type": "markdown",
   "metadata": {},
   "source": [
    "### Accuracy"
   ]
  },
  {
   "cell_type": "code",
   "execution_count": null,
   "metadata": {},
   "outputs": [],
   "source": [
    "rl.accuracy(golden_links, result)"
   ]
  },
  {
   "attachments": {},
   "cell_type": "markdown",
   "metadata": {},
   "source": [
    "### F-score"
   ]
  },
  {
   "cell_type": "code",
   "execution_count": null,
   "metadata": {},
   "outputs": [],
   "source": [
    "rl.fscore(golden_links, result)"
   ]
  },
  {
   "attachments": {},
   "cell_type": "markdown",
   "metadata": {},
   "source": [
    "### Specificity"
   ]
  },
  {
   "cell_type": "code",
   "execution_count": null,
   "metadata": {},
   "outputs": [],
   "source": [
    "rl.specificity(golden_links, result)"
   ]
  },
  {
   "attachments": {},
   "cell_type": "markdown",
   "metadata": {},
   "source": [
    "# Classification (Supervised)"
   ]
  },
  {
   "cell_type": "code",
   "execution_count": null,
   "metadata": {},
   "outputs": [],
   "source": [
    "rlSvm = rl.SVMClassifier()\n",
    "params = {}\n",
    "gridSearch = GridSearchCV(estimator=rlSvm, param_grid=params)"
   ]
  },
  {
   "attachments": {},
   "cell_type": "markdown",
   "metadata": {},
   "source": [
    "# Evaluation (Supervised)"
   ]
  },
  {
   "cell_type": "markdown",
   "metadata": {},
   "source": [
    "### Confusion matrix"
   ]
  },
  {
   "cell_type": "code",
   "execution_count": null,
   "metadata": {},
   "outputs": [],
   "source": [
    "rl.confusion_matrix(golden_links, )"
   ]
  },
  {
   "cell_type": "markdown",
   "metadata": {},
   "source": [
    "### Precision"
   ]
  },
  {
   "cell_type": "code",
   "execution_count": null,
   "metadata": {},
   "outputs": [],
   "source": [
    "rl.precision(golden_links,)"
   ]
  },
  {
   "cell_type": "markdown",
   "metadata": {},
   "source": [
    "### Recall"
   ]
  },
  {
   "cell_type": "code",
   "execution_count": null,
   "metadata": {},
   "outputs": [],
   "source": [
    "rl.recall(golden_links,)"
   ]
  },
  {
   "cell_type": "markdown",
   "metadata": {},
   "source": [
    "### Accuracy"
   ]
  },
  {
   "cell_type": "code",
   "execution_count": null,
   "metadata": {},
   "outputs": [],
   "source": [
    "rl.accuracy(golden_links,)"
   ]
  },
  {
   "cell_type": "markdown",
   "metadata": {},
   "source": [
    "### F-score"
   ]
  },
  {
   "cell_type": "code",
   "execution_count": null,
   "metadata": {},
   "outputs": [],
   "source": [
    "rl.fscore(golden_links,)"
   ]
  },
  {
   "cell_type": "markdown",
   "metadata": {},
   "source": [
    "### Specificity"
   ]
  },
  {
   "cell_type": "code",
   "execution_count": null,
   "metadata": {},
   "outputs": [],
   "source": [
    "rl.specificity(golden_links,)"
   ]
  }
 ],
 "metadata": {
  "kernelspec": {
   "display_name": "hw8",
   "language": "python",
   "name": "python3"
  },
  "language_info": {
   "codemirror_mode": {
    "name": "ipython",
    "version": 3
   },
   "file_extension": ".py",
   "mimetype": "text/x-python",
   "name": "python",
   "nbconvert_exporter": "python",
   "pygments_lexer": "ipython3",
   "version": "3.10.9"
  },
  "orig_nbformat": 4,
  "vscode": {
   "interpreter": {
    "hash": "20fe05bf6d812f8581d0c3885f26a8156e46b0ff73914791c267a01ece645732"
   }
  }
 },
 "nbformat": 4,
 "nbformat_minor": 2
}
