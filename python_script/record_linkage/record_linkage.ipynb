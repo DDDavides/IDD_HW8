{
 "cells": [
  {
   "cell_type": "code",
   "execution_count": 1,
   "metadata": {},
   "outputs": [],
   "source": [
    "import recordlinkage as rl\n",
    "import pandas as pd\n",
    "import os\n",
    "import random as ran\n",
    "from sklearn.model_selection import GridSearchCV\n",
    "from recordlinkage.preprocessing import *\n",
    "from prelabeling import *"
   ]
  },
  {
   "cell_type": "code",
   "execution_count": 2,
   "metadata": {},
   "outputs": [],
   "source": [
    "schema_path = \"../schema_matching/csv/schema_final.csv\""
   ]
  },
  {
   "cell_type": "code",
   "execution_count": 3,
   "metadata": {},
   "outputs": [
    {
     "name": "stderr",
     "output_type": "stream",
     "text": [
      "/var/folders/c2/dnpzswqd7ll8qj2knwvlk3v80000gn/T/ipykernel_69577/1305971129.py:1: DtypeWarning: Columns (10,12) have mixed types. Specify dtype option on import or set low_memory=False.\n",
      "  schema = pd.read_csv(schema_path, index_col=0)\n"
     ]
    }
   ],
   "source": [
    "schema = pd.read_csv(schema_path, index_col=0)\n",
    "schema = schema.reset_index(drop=True) # Per evitare che gli indici siano letti come decimali (i.e. 1.0 invece di 1)"
   ]
  },
  {
   "attachments": {},
   "cell_type": "markdown",
   "metadata": {},
   "source": [
    "# Preprocessamento"
   ]
  },
  {
   "attachments": {},
   "cell_type": "markdown",
   "metadata": {},
   "source": [
    "## Cleaning dei dati ..."
   ]
  },
  {
   "cell_type": "code",
   "execution_count": 4,
   "metadata": {},
   "outputs": [
    {
     "name": "stderr",
     "output_type": "stream",
     "text": [
      "/var/folders/c2/dnpzswqd7ll8qj2knwvlk3v80000gn/T/ipykernel_69577/1139875684.py:3: DtypeWarning: Columns (10,12) have mixed types. Specify dtype option on import or set low_memory=False.\n",
      "  schema_cleaned = pd.read_csv(schema_cleaned_path, index_col=\"id\")\n"
     ]
    }
   ],
   "source": [
    "schema_cleaned_path = \"./csv/schema_cleaned.csv\"\n",
    "try:\n",
    "    schema_cleaned = pd.read_csv(schema_cleaned_path, index_col=\"id\")\n",
    "except:\n",
    "    schema_cleaned = schema # creo una copia per non modificare lo schema iniziale\n",
    "    # Cleaning dei dati iterando per riga\n",
    "    for i in range(len(schema.index)):\n",
    "        row = schema.iloc[i]\n",
    "        row_series = row.squeeze() # BOO\n",
    "        nome = pd.Series(row[\"name\"])\n",
    "        try:\n",
    "            nome_cleaned = clean(nome, lowercase=True, replace_by_none='', replace_by_whitespace='\\ {2,}', strip_accents='unicode', remove_brackets=False, encoding='utf-8', decode_error='strict')\n",
    "        except:\n",
    "            print(nome)\n",
    "        # Si evita il cleaning di caratteri relative alle valute presenti nei datasets\n",
    "        row_series_cleaned = clean(row_series, lowercase=True, replace_by_none=r'[^ \\\\.\\\\-\\\\_A-Za-z0-9$€£¥₩₽₹฿₪¤¢₺₱]+', replace_by_whitespace=r'[\\\\-\\\\_]', strip_accents=\"unicode\", remove_brackets=False, encoding='utf-8', decode_error='strict')\n",
    "        schema_cleaned.iloc[i] = row_series_cleaned\n",
    "        schema_cleaned.iloc[i][\"name\"] = nome_cleaned[0]\n",
    "    schema_cleaned.to_csv(schema_cleaned_path, index_label=\"id\")\n"
   ]
  },
  {
   "attachments": {},
   "cell_type": "markdown",
   "metadata": {},
   "source": [
    "# Blocking"
   ]
  },
  {
   "cell_type": "code",
   "execution_count": 5,
   "metadata": {},
   "outputs": [
    {
     "name": "stdout",
     "output_type": "stream",
     "text": [
      "MultiIndex([(     1,      0),\n",
      "            (     3,      0),\n",
      "            (     3,      1),\n",
      "            (     4,      0),\n",
      "            (     4,      1),\n",
      "            (     4,      3),\n",
      "            (     5,      0),\n",
      "            (     5,      1),\n",
      "            (     5,      3),\n",
      "            (     5,      4),\n",
      "            ...\n",
      "            (159361, 154564),\n",
      "            (159361, 154690),\n",
      "            (159361, 154814),\n",
      "            (159361, 154971),\n",
      "            (159361, 155014),\n",
      "            (159361, 155489),\n",
      "            (159361, 155527),\n",
      "            (159361, 155691),\n",
      "            (159361, 157434),\n",
      "            (159361, 159156)],\n",
      "           names=['id_1', 'id_2'], length=553892514)\n"
     ]
    }
   ],
   "source": [
    "countryIndexer = rl.Index()\n",
    "countryIndexer.block(left_on='country', right_on='country')\n",
    "country_candidate_links = countryIndexer.index(schema_cleaned)\n",
    "print(country_candidate_links)"
   ]
  },
  {
   "cell_type": "code",
   "execution_count": null,
   "metadata": {},
   "outputs": [],
   "source": [
    "indexer = rl.Index()\n",
    "indexer.block(left_on='name', right_on='name')\n",
    "candidate_links = indexer.index(schema_cleaned)\n",
    "print(candidate_links)"
   ]
  },
  {
   "attachments": {},
   "cell_type": "markdown",
   "metadata": {},
   "source": [
    "# Prepare Labeling"
   ]
  },
  {
   "cell_type": "code",
   "execution_count": 6,
   "metadata": {},
   "outputs": [],
   "source": [
    "choices_path = \"./csv/choices.csv\"\n",
    "choices_country_path = \"./csv/choices_country.csv\""
   ]
  },
  {
   "cell_type": "code",
   "execution_count": 7,
   "metadata": {},
   "outputs": [],
   "source": [
    "n_sampled_matches = 30000\n",
    "try:\n",
    "    choices = pd.read_csv(choices_path, index_col=[0, 1])\n",
    "except:\n",
    "    choices = ran.choices(candidate_links, k=n_sampled_matches)\n",
    "    choices_df = get_datasetCouples_to_label(choices, schema_cleaned)\n",
    "    # choices_df.to_csv(choices_path, index=None)\n",
    "\n",
    "n_sampled_matches_country = 2100\n",
    "try:\n",
    "    choices_country = pd.read_csv(choices_country_path, index_col=[0, 1])\n",
    "except:\n",
    "    choices_country = ran.choices(country_candidate_links, k=n_sampled_matches_country)\n",
    "    choices_country_df = get_datasetCouples_to_label(choices_country, schema_cleaned)\n",
    "    choices_country_df.to_csv(choices_country_path, index=None)"
   ]
  },
  {
   "cell_type": "code",
   "execution_count": 33,
   "metadata": {},
   "outputs": [
    {
     "name": "stdout",
     "output_type": "stream",
     "text": [
      "10000\n",
      "10000\n",
      "10000\n"
     ]
    }
   ],
   "source": [
    "# choices_path_gallo = \"./csv/gallo.csv\"\n",
    "# choices_path_gatto = \"./csv/gatto.csv\"\n",
    "# choices_path_moli = \"./csv/moli.csv\"\n",
    "\n",
    "# sampled_matches_per_person = n_sampled_matches//3\n",
    "\n",
    "# choices_df_gallo = choices_df.iloc[:sampled_matches_per_person]\n",
    "# print(len(choices_df_gallo))\n",
    "\n",
    "# choices_df_gatto = choices_df.iloc[sampled_matches_per_person:2*sampled_matches_per_person]\n",
    "# print(len(choices_df_gatto))\n",
    "\n",
    "# choices_df_moli = choices_df.iloc[2*sampled_matches_per_person:]\n",
    "# print(len(choices_df_moli))\n",
    "\n",
    "# choices_df_gallo.to_csv(choices_path_gallo, index=None)\n",
    "# choices_df_gatto.to_csv(choices_path_gatto, index=None)\n",
    "# choices_df_moli.to_csv(choices_path_moli, index=None)"
   ]
  },
  {
   "attachments": {},
   "cell_type": "markdown",
   "metadata": {},
   "source": [
    "## Labeling country"
   ]
  },
  {
   "cell_type": "code",
   "execution_count": 10,
   "metadata": {},
   "outputs": [
    {
     "name": "stdout",
     "output_type": "stream",
     "text": [
      "1050\n",
      "1050\n"
     ]
    }
   ],
   "source": [
    "choices_country_path_gatto = \"./csv/gatto_country.csv\"\n",
    "choices_country_path_moli = \"./csv/moli_country.csv\"\n",
    "\n",
    "sampled_matches_country_per_person = n_sampled_matches_country//2\n",
    "\n",
    "choices_country_df_gatto = choices_country_df.iloc[:sampled_matches_country_per_person]\n",
    "print(len(choices_country_df_gatto))\n",
    "\n",
    "choices_country_df_moli = choices_country_df.iloc[sampled_matches_country_per_person:2*sampled_matches_country_per_person]\n",
    "print(len(choices_country_df_moli))\n",
    "\n",
    "choices_country_df_gatto.to_csv(choices_country_path_gatto, index=None)\n",
    "choices_country_df_moli.to_csv(choices_country_path_moli, index=None)"
   ]
  },
  {
   "attachments": {},
   "cell_type": "markdown",
   "metadata": {},
   "source": [
    "# Comparing"
   ]
  },
  {
   "cell_type": "code",
   "execution_count": 7,
   "metadata": {},
   "outputs": [],
   "source": [
    "compare_cl = rl.Compare()\n",
    "compare_cl.string(\"name\", \"name\", threshold=0.85, label=\"name\")\n",
    "compare_cl.string(\"country\", \"country\", label=\"country\")\n",
    "compare_cl.string(\"founded year\", \"founded year\", label=\"founded year\")\n",
    "compare_cl.string(\"industry\", \"industry\", label=\"industry\")\n",
    "compare_cl.string(\"sector\", \"sector\", label=\"sector\")\n",
    "compare_cl.string(\"address\", \"address\", label=\"address\")\n",
    "compare_cl.string(\"city\", \"city\", label=\"city\")\n",
    "compare_cl.string(\"ceo\", \"ceo\", label=\"ceo\")\n",
    "features = compare_cl.compute(candidate_links, schema, schema)"
   ]
  },
  {
   "cell_type": "code",
   "execution_count": 8,
   "metadata": {},
   "outputs": [
    {
     "data": {
      "text/html": [
       "<div>\n",
       "<style scoped>\n",
       "    .dataframe tbody tr th:only-of-type {\n",
       "        vertical-align: middle;\n",
       "    }\n",
       "\n",
       "    .dataframe tbody tr th {\n",
       "        vertical-align: top;\n",
       "    }\n",
       "\n",
       "    .dataframe thead th {\n",
       "        text-align: right;\n",
       "    }\n",
       "</style>\n",
       "<table border=\"1\" class=\"dataframe\">\n",
       "  <thead>\n",
       "    <tr style=\"text-align: right;\">\n",
       "      <th></th>\n",
       "      <th></th>\n",
       "      <th>name</th>\n",
       "      <th>country</th>\n",
       "      <th>founded year</th>\n",
       "      <th>industry</th>\n",
       "      <th>sector</th>\n",
       "      <th>address</th>\n",
       "      <th>city</th>\n",
       "      <th>ceo</th>\n",
       "    </tr>\n",
       "    <tr>\n",
       "      <th>id_1</th>\n",
       "      <th>id_2</th>\n",
       "      <th></th>\n",
       "      <th></th>\n",
       "      <th></th>\n",
       "      <th></th>\n",
       "      <th></th>\n",
       "      <th></th>\n",
       "      <th></th>\n",
       "      <th></th>\n",
       "    </tr>\n",
       "  </thead>\n",
       "  <tbody>\n",
       "    <tr>\n",
       "      <th>11347</th>\n",
       "      <th>0</th>\n",
       "      <td>0.0</td>\n",
       "      <td>1.000000</td>\n",
       "      <td>0.0</td>\n",
       "      <td>0.0</td>\n",
       "      <td>0.0</td>\n",
       "      <td>0.0</td>\n",
       "      <td>0.0</td>\n",
       "      <td>0.000000</td>\n",
       "    </tr>\n",
       "    <tr>\n",
       "      <th rowspan=\"2\" valign=\"top\">18510</th>\n",
       "      <th>0</th>\n",
       "      <td>0.0</td>\n",
       "      <td>0.153846</td>\n",
       "      <td>0.0</td>\n",
       "      <td>0.0</td>\n",
       "      <td>0.0</td>\n",
       "      <td>0.0</td>\n",
       "      <td>0.0</td>\n",
       "      <td>0.421053</td>\n",
       "    </tr>\n",
       "    <tr>\n",
       "      <th>11347</th>\n",
       "      <td>1.0</td>\n",
       "      <td>0.153846</td>\n",
       "      <td>0.0</td>\n",
       "      <td>0.0</td>\n",
       "      <td>0.0</td>\n",
       "      <td>0.0</td>\n",
       "      <td>0.0</td>\n",
       "      <td>0.000000</td>\n",
       "    </tr>\n",
       "    <tr>\n",
       "      <th rowspan=\"2\" valign=\"top\">19510</th>\n",
       "      <th>0</th>\n",
       "      <td>0.0</td>\n",
       "      <td>1.000000</td>\n",
       "      <td>0.0</td>\n",
       "      <td>0.0</td>\n",
       "      <td>0.0</td>\n",
       "      <td>0.0</td>\n",
       "      <td>0.0</td>\n",
       "      <td>0.000000</td>\n",
       "    </tr>\n",
       "    <tr>\n",
       "      <th>11347</th>\n",
       "      <td>1.0</td>\n",
       "      <td>1.000000</td>\n",
       "      <td>0.0</td>\n",
       "      <td>0.0</td>\n",
       "      <td>0.0</td>\n",
       "      <td>0.0</td>\n",
       "      <td>0.0</td>\n",
       "      <td>0.000000</td>\n",
       "    </tr>\n",
       "    <tr>\n",
       "      <th>...</th>\n",
       "      <th>...</th>\n",
       "      <td>...</td>\n",
       "      <td>...</td>\n",
       "      <td>...</td>\n",
       "      <td>...</td>\n",
       "      <td>...</td>\n",
       "      <td>...</td>\n",
       "      <td>...</td>\n",
       "      <td>...</td>\n",
       "    </tr>\n",
       "    <tr>\n",
       "      <th>183812</th>\n",
       "      <th>172198</th>\n",
       "      <td>1.0</td>\n",
       "      <td>0.000000</td>\n",
       "      <td>0.0</td>\n",
       "      <td>0.0</td>\n",
       "      <td>0.0</td>\n",
       "      <td>0.0</td>\n",
       "      <td>0.0</td>\n",
       "      <td>0.000000</td>\n",
       "    </tr>\n",
       "    <tr>\n",
       "      <th>183656</th>\n",
       "      <th>172322</th>\n",
       "      <td>1.0</td>\n",
       "      <td>0.000000</td>\n",
       "      <td>0.0</td>\n",
       "      <td>0.0</td>\n",
       "      <td>0.0</td>\n",
       "      <td>0.0</td>\n",
       "      <td>0.0</td>\n",
       "      <td>0.000000</td>\n",
       "    </tr>\n",
       "    <tr>\n",
       "      <th>183669</th>\n",
       "      <th>172366</th>\n",
       "      <td>0.0</td>\n",
       "      <td>0.000000</td>\n",
       "      <td>0.0</td>\n",
       "      <td>0.0</td>\n",
       "      <td>0.0</td>\n",
       "      <td>0.0</td>\n",
       "      <td>0.0</td>\n",
       "      <td>0.000000</td>\n",
       "    </tr>\n",
       "    <tr>\n",
       "      <th>183707</th>\n",
       "      <th>172428</th>\n",
       "      <td>1.0</td>\n",
       "      <td>0.000000</td>\n",
       "      <td>0.0</td>\n",
       "      <td>0.0</td>\n",
       "      <td>0.0</td>\n",
       "      <td>0.0</td>\n",
       "      <td>0.0</td>\n",
       "      <td>0.000000</td>\n",
       "    </tr>\n",
       "    <tr>\n",
       "      <th>183813</th>\n",
       "      <th>172437</th>\n",
       "      <td>1.0</td>\n",
       "      <td>0.000000</td>\n",
       "      <td>0.0</td>\n",
       "      <td>0.0</td>\n",
       "      <td>0.0</td>\n",
       "      <td>0.0</td>\n",
       "      <td>0.0</td>\n",
       "      <td>0.000000</td>\n",
       "    </tr>\n",
       "  </tbody>\n",
       "</table>\n",
       "<p>538735 rows × 8 columns</p>\n",
       "</div>"
      ],
      "text/plain": [
       "               name   country  founded year  industry  sector  address  city  \\\n",
       "id_1   id_2                                                                    \n",
       "11347  0        0.0  1.000000           0.0       0.0     0.0      0.0   0.0   \n",
       "18510  0        0.0  0.153846           0.0       0.0     0.0      0.0   0.0   \n",
       "       11347    1.0  0.153846           0.0       0.0     0.0      0.0   0.0   \n",
       "19510  0        0.0  1.000000           0.0       0.0     0.0      0.0   0.0   \n",
       "       11347    1.0  1.000000           0.0       0.0     0.0      0.0   0.0   \n",
       "...             ...       ...           ...       ...     ...      ...   ...   \n",
       "183812 172198   1.0  0.000000           0.0       0.0     0.0      0.0   0.0   \n",
       "183656 172322   1.0  0.000000           0.0       0.0     0.0      0.0   0.0   \n",
       "183669 172366   0.0  0.000000           0.0       0.0     0.0      0.0   0.0   \n",
       "183707 172428   1.0  0.000000           0.0       0.0     0.0      0.0   0.0   \n",
       "183813 172437   1.0  0.000000           0.0       0.0     0.0      0.0   0.0   \n",
       "\n",
       "                    ceo  \n",
       "id_1   id_2              \n",
       "11347  0       0.000000  \n",
       "18510  0       0.421053  \n",
       "       11347   0.000000  \n",
       "19510  0       0.000000  \n",
       "       11347   0.000000  \n",
       "...                 ...  \n",
       "183812 172198  0.000000  \n",
       "183656 172322  0.000000  \n",
       "183669 172366  0.000000  \n",
       "183707 172428  0.000000  \n",
       "183813 172437  0.000000  \n",
       "\n",
       "[538735 rows x 8 columns]"
      ]
     },
     "execution_count": 8,
     "metadata": {},
     "output_type": "execute_result"
    }
   ],
   "source": [
    "features"
   ]
  },
  {
   "cell_type": "code",
   "execution_count": 36,
   "metadata": {},
   "outputs": [
    {
     "data": {
      "text/html": [
       "<div>\n",
       "<style scoped>\n",
       "    .dataframe tbody tr th:only-of-type {\n",
       "        vertical-align: middle;\n",
       "    }\n",
       "\n",
       "    .dataframe tbody tr th {\n",
       "        vertical-align: top;\n",
       "    }\n",
       "\n",
       "    .dataframe thead th {\n",
       "        text-align: right;\n",
       "    }\n",
       "</style>\n",
       "<table border=\"1\" class=\"dataframe\">\n",
       "  <thead>\n",
       "    <tr style=\"text-align: right;\">\n",
       "      <th></th>\n",
       "      <th>name</th>\n",
       "      <th>country</th>\n",
       "      <th>founded year</th>\n",
       "      <th>industry</th>\n",
       "      <th>sector</th>\n",
       "      <th>address</th>\n",
       "      <th>city</th>\n",
       "      <th>ceo</th>\n",
       "    </tr>\n",
       "  </thead>\n",
       "  <tbody>\n",
       "    <tr>\n",
       "      <th>count</th>\n",
       "      <td>538735.0</td>\n",
       "      <td>538735.000000</td>\n",
       "      <td>538735.000000</td>\n",
       "      <td>538735.000000</td>\n",
       "      <td>538735.000000</td>\n",
       "      <td>538735.000000</td>\n",
       "      <td>538735.000000</td>\n",
       "      <td>538735.000000</td>\n",
       "    </tr>\n",
       "    <tr>\n",
       "      <th>mean</th>\n",
       "      <td>1.0</td>\n",
       "      <td>0.437277</td>\n",
       "      <td>0.043698</td>\n",
       "      <td>0.035876</td>\n",
       "      <td>0.043173</td>\n",
       "      <td>0.003701</td>\n",
       "      <td>0.004944</td>\n",
       "      <td>0.050346</td>\n",
       "    </tr>\n",
       "    <tr>\n",
       "      <th>std</th>\n",
       "      <td>0.0</td>\n",
       "      <td>0.488800</td>\n",
       "      <td>0.195229</td>\n",
       "      <td>0.177244</td>\n",
       "      <td>0.202804</td>\n",
       "      <td>0.059818</td>\n",
       "      <td>0.070108</td>\n",
       "      <td>0.205419</td>\n",
       "    </tr>\n",
       "    <tr>\n",
       "      <th>min</th>\n",
       "      <td>1.0</td>\n",
       "      <td>0.000000</td>\n",
       "      <td>0.000000</td>\n",
       "      <td>0.000000</td>\n",
       "      <td>0.000000</td>\n",
       "      <td>0.000000</td>\n",
       "      <td>0.000000</td>\n",
       "      <td>0.000000</td>\n",
       "    </tr>\n",
       "    <tr>\n",
       "      <th>25%</th>\n",
       "      <td>1.0</td>\n",
       "      <td>0.000000</td>\n",
       "      <td>0.000000</td>\n",
       "      <td>0.000000</td>\n",
       "      <td>0.000000</td>\n",
       "      <td>0.000000</td>\n",
       "      <td>0.000000</td>\n",
       "      <td>0.000000</td>\n",
       "    </tr>\n",
       "    <tr>\n",
       "      <th>50%</th>\n",
       "      <td>1.0</td>\n",
       "      <td>0.000000</td>\n",
       "      <td>0.000000</td>\n",
       "      <td>0.000000</td>\n",
       "      <td>0.000000</td>\n",
       "      <td>0.000000</td>\n",
       "      <td>0.000000</td>\n",
       "      <td>0.000000</td>\n",
       "    </tr>\n",
       "    <tr>\n",
       "      <th>75%</th>\n",
       "      <td>1.0</td>\n",
       "      <td>1.000000</td>\n",
       "      <td>0.000000</td>\n",
       "      <td>0.000000</td>\n",
       "      <td>0.000000</td>\n",
       "      <td>0.000000</td>\n",
       "      <td>0.000000</td>\n",
       "      <td>0.000000</td>\n",
       "    </tr>\n",
       "    <tr>\n",
       "      <th>max</th>\n",
       "      <td>1.0</td>\n",
       "      <td>1.000000</td>\n",
       "      <td>1.000000</td>\n",
       "      <td>1.000000</td>\n",
       "      <td>1.000000</td>\n",
       "      <td>1.000000</td>\n",
       "      <td>1.000000</td>\n",
       "      <td>1.000000</td>\n",
       "    </tr>\n",
       "  </tbody>\n",
       "</table>\n",
       "</div>"
      ],
      "text/plain": [
       "           name        country   founded year       industry         sector  \\\n",
       "count  538735.0  538735.000000  538735.000000  538735.000000  538735.000000   \n",
       "mean        1.0       0.437277       0.043698       0.035876       0.043173   \n",
       "std         0.0       0.488800       0.195229       0.177244       0.202804   \n",
       "min         1.0       0.000000       0.000000       0.000000       0.000000   \n",
       "25%         1.0       0.000000       0.000000       0.000000       0.000000   \n",
       "50%         1.0       0.000000       0.000000       0.000000       0.000000   \n",
       "75%         1.0       1.000000       0.000000       0.000000       0.000000   \n",
       "max         1.0       1.000000       1.000000       1.000000       1.000000   \n",
       "\n",
       "             address           city            ceo  \n",
       "count  538735.000000  538735.000000  538735.000000  \n",
       "mean        0.003701       0.004944       0.050346  \n",
       "std         0.059818       0.070108       0.205419  \n",
       "min         0.000000       0.000000       0.000000  \n",
       "25%         0.000000       0.000000       0.000000  \n",
       "50%         0.000000       0.000000       0.000000  \n",
       "75%         0.000000       0.000000       0.000000  \n",
       "max         1.000000       1.000000       1.000000  "
      ]
     },
     "execution_count": 36,
     "metadata": {},
     "output_type": "execute_result"
    }
   ],
   "source": [
    "features.describe()"
   ]
  },
  {
   "cell_type": "code",
   "execution_count": 37,
   "metadata": {},
   "outputs": [
    {
     "data": {
      "text/plain": [
       "6.000000       461\n",
       "5.000000       287\n",
       "4.733333         1\n",
       "4.685714         1\n",
       "4.457143         1\n",
       "             ...  \n",
       "1.017857         1\n",
       "1.016667         1\n",
       "1.016393         1\n",
       "1.011820         1\n",
       "1.000000    243056\n",
       "Length: 5289, dtype: int64"
      ]
     },
     "execution_count": 37,
     "metadata": {},
     "output_type": "execute_result"
    }
   ],
   "source": [
    "features.sum(axis=1).value_counts().sort_index(ascending=False)"
   ]
  },
  {
   "cell_type": "code",
   "execution_count": 9,
   "metadata": {},
   "outputs": [],
   "source": [
    "record_linked = features[features.sum(axis=1) > 1]"
   ]
  },
  {
   "cell_type": "code",
   "execution_count": 39,
   "metadata": {},
   "outputs": [
    {
     "name": "stdout",
     "output_type": "stream",
     "text": [
      "               name   country  founded year  industry  sector  address  city  \\\n",
      "11347  0        1.0  1.000000      0.000000  0.000000     0.0   0.0000   0.0   \n",
      "18510  0        1.0  0.230769      0.000000  0.000000     0.0   0.0000   0.0   \n",
      "       11347    1.0  0.230769      0.000000  0.000000     0.0   0.0000   0.0   \n",
      "19510  0        1.0  1.000000      0.000000  0.000000     0.0   0.0000   0.0   \n",
      "       11347    1.0  1.000000      0.000000  0.000000     0.0   0.0000   0.0   \n",
      "...             ...       ...           ...       ...     ...      ...   ...   \n",
      "148416 144739   1.0  1.000000      0.000000  1.000000     0.0   0.0000   1.0   \n",
      "148425 144746   1.0  1.000000      0.000000  1.000000     0.0   0.0000   1.0   \n",
      "152082 145966   1.0  0.000000      0.063492  0.058824     0.0   0.0000   0.0   \n",
      "151989 151988   1.0  0.000000      1.000000  1.000000     0.0   0.0000   0.0   \n",
      "160453 160452   1.0  0.000000      0.000000  0.000000     0.0   0.1875   0.0   \n",
      "\n",
      "                    ceo  \n",
      "11347  0       0.000000  \n",
      "18510  0       0.421053  \n",
      "       11347   0.000000  \n",
      "19510  0       0.000000  \n",
      "       11347   0.000000  \n",
      "...                 ...  \n",
      "148416 144739  0.000000  \n",
      "148425 144746  0.000000  \n",
      "152082 145966  0.000000  \n",
      "151989 151988  0.000000  \n",
      "160453 160452  0.000000  \n",
      "\n",
      "[295679 rows x 8 columns]\n"
     ]
    }
   ],
   "source": [
    "print(record_linked)"
   ]
  },
  {
   "attachments": {},
   "cell_type": "markdown",
   "metadata": {},
   "source": [
    "# Caricamento dei dataset per classificazione"
   ]
  },
  {
   "cell_type": "code",
   "execution_count": 10,
   "metadata": {},
   "outputs": [],
   "source": [
    "golden_path_gallo = \"./csv/golden_links_gallo.csv\"\n",
    "golden_path_gatto = \"./csv/golden_links_gatto.csv\"\n",
    "golden_path_moli = \"./csv/golden_links_moli.csv\"\n",
    "golden_path = \"./csv/golden_links.csv\"\n",
    "\n",
    "golden_gallo = pd.read_csv(golden_path_gallo, index_col=None)\n",
    "golden_gatto = pd.read_csv(golden_path_gatto, index_col=None)\n",
    "golden_moli = pd.read_csv(golden_path_moli, index_col=None)\n",
    "\n",
    "try:\n",
    "    golden = pd.read_csv(golden_path, index_col=[0,1])\n",
    "except:\n",
    "    golden = pd.concat([golden_gallo, golden_gatto, golden_moli], axis=0)\n",
    "    golden = golden.reset_index(drop=True)\n",
    "    golden.to_csv(golden_path, index=None)"
   ]
  },
  {
   "cell_type": "code",
   "execution_count": null,
   "metadata": {},
   "outputs": [],
   "source": [
    "golden_country_path_gatto = \"./csv/golden_country_links_gatto.csv\"\n",
    "golden_country_path_moli = \"./csv/golden_country_links_moli.csv\"\n",
    "\n",
    "golden_country_gatto = pd.read_csv(golden_country_path_gatto, index_col=None)\n",
    "golden_country_moli = pd.read_csv(golden_country_path_moli, index_col=None)\n",
    "\n",
    "golden = pd.concat([golden, golden_country_gatto, golden_country_moli], axis=0)\n",
    "golden = golden.reset_index(drop=True)\n",
    "golden.to_csv(golden_path, index=None)"
   ]
  },
  {
   "attachments": {},
   "cell_type": "markdown",
   "metadata": {},
   "source": [
    "# Train & test split"
   ]
  },
  {
   "cell_type": "code",
   "execution_count": 59,
   "metadata": {},
   "outputs": [],
   "source": [
    "# Le features relative ai dati etichettati da noi (2125 di cui 1 con label = 0)\n",
    "company_X = features.loc[golden.index]"
   ]
  },
  {
   "cell_type": "code",
   "execution_count": 60,
   "metadata": {},
   "outputs": [],
   "source": [
    "# coppie di indici relativi ai dati etichettati con label = 1\n",
    "company_true_links = golden[golden[\"label\"] == 1].index"
   ]
  },
  {
   "cell_type": "code",
   "execution_count": 61,
   "metadata": {},
   "outputs": [],
   "source": [
    "# X_train\n",
    "golden_pairs = company_X[:len(company_X)*3//4]\n",
    "# y_train\n",
    "golden_matches_index = golden_pairs.index.intersection(company_true_links)"
   ]
  },
  {
   "attachments": {},
   "cell_type": "markdown",
   "metadata": {},
   "source": [
    "# Classification (Unsupervised)"
   ]
  },
  {
   "cell_type": "code",
   "execution_count": 83,
   "metadata": {},
   "outputs": [
    {
     "name": "stdout",
     "output_type": "stream",
     "text": [
      "Possible record linked size: 2125\n",
      "Record linked size: 226\n",
      "Removed 1899 possible links\n"
     ]
    }
   ],
   "source": [
    "ECM = rl.ECMClassifier(binarize=0)\n",
    "ecm_result = ECM.fit_predict(company_X)\n",
    "print(\"Possible record linked size:\", len(company_X))\n",
    "print(\"Record linked size:\", len(ecm_result))\n",
    "print(f\"Removed {len(company_X) - len(ecm_result)} possible links\")"
   ]
  },
  {
   "cell_type": "code",
   "execution_count": 84,
   "metadata": {},
   "outputs": [
    {
     "name": "stdout",
     "output_type": "stream",
     "text": [
      "Possible record linked size: 2125\n",
      "Record linked size: 148\n",
      "Removed 1977 possible links\n"
     ]
    }
   ],
   "source": [
    "km = rl.KMeansClassifier()\n",
    "km_result = km.fit_predict(company_X)\n",
    "print(\"Possible record linked size:\", len(company_X))\n",
    "print(\"Record linked size:\", len(km_result))\n",
    "print(f\"Removed {len(company_X) - len(km_result)} possible links\")"
   ]
  },
  {
   "attachments": {},
   "cell_type": "markdown",
   "metadata": {},
   "source": [
    "# Evaluation (Unsupervised)"
   ]
  },
  {
   "attachments": {},
   "cell_type": "markdown",
   "metadata": {},
   "source": [
    "### Confusion matrix"
   ]
  },
  {
   "cell_type": "code",
   "execution_count": 85,
   "metadata": {},
   "outputs": [
    {
     "data": {
      "text/plain": [
       "array([[ 226., 1886.],\n",
       "       [   0.,   nan]])"
      ]
     },
     "execution_count": 85,
     "metadata": {},
     "output_type": "execute_result"
    }
   ],
   "source": [
    "# Expetation conditional maximization\n",
    "rl.confusion_matrix(company_true_links, ecm_result)"
   ]
  },
  {
   "cell_type": "code",
   "execution_count": 86,
   "metadata": {},
   "outputs": [
    {
     "data": {
      "text/plain": [
       "array([[ 148., 1964.],\n",
       "       [   0.,   nan]])"
      ]
     },
     "execution_count": 86,
     "metadata": {},
     "output_type": "execute_result"
    }
   ],
   "source": [
    "# Kmeans\n",
    "rl.confusion_matrix(company_true_links, km_result)"
   ]
  },
  {
   "attachments": {},
   "cell_type": "markdown",
   "metadata": {},
   "source": [
    "### Precision"
   ]
  },
  {
   "cell_type": "code",
   "execution_count": 87,
   "metadata": {},
   "outputs": [
    {
     "data": {
      "text/plain": [
       "1.0"
      ]
     },
     "execution_count": 87,
     "metadata": {},
     "output_type": "execute_result"
    }
   ],
   "source": [
    "rl.precision(company_true_links, ecm_result)"
   ]
  },
  {
   "cell_type": "code",
   "execution_count": 88,
   "metadata": {},
   "outputs": [
    {
     "data": {
      "text/plain": [
       "1.0"
      ]
     },
     "execution_count": 88,
     "metadata": {},
     "output_type": "execute_result"
    }
   ],
   "source": [
    "rl.precision(company_true_links, km_result)"
   ]
  },
  {
   "attachments": {},
   "cell_type": "markdown",
   "metadata": {},
   "source": [
    "### Recall"
   ]
  },
  {
   "cell_type": "code",
   "execution_count": 89,
   "metadata": {},
   "outputs": [
    {
     "data": {
      "text/plain": [
       "0.10700757575757576"
      ]
     },
     "execution_count": 89,
     "metadata": {},
     "output_type": "execute_result"
    }
   ],
   "source": [
    "rl.recall(company_true_links, ecm_result)"
   ]
  },
  {
   "cell_type": "code",
   "execution_count": 90,
   "metadata": {},
   "outputs": [
    {
     "data": {
      "text/plain": [
       "0.07007575757575757"
      ]
     },
     "execution_count": 90,
     "metadata": {},
     "output_type": "execute_result"
    }
   ],
   "source": [
    "rl.recall(company_true_links, km_result)"
   ]
  },
  {
   "attachments": {},
   "cell_type": "markdown",
   "metadata": {},
   "source": [
    "### Accuracy"
   ]
  },
  {
   "cell_type": "code",
   "execution_count": 91,
   "metadata": {},
   "outputs": [
    {
     "data": {
      "text/plain": [
       "0.9907474662779757"
      ]
     },
     "execution_count": 91,
     "metadata": {},
     "output_type": "execute_result"
    }
   ],
   "source": [
    "rl.accuracy(company_true_links, ecm_result, len(record_linked))"
   ]
  },
  {
   "cell_type": "code",
   "execution_count": 92,
   "metadata": {},
   "outputs": [
    {
     "data": {
      "text/plain": [
       "0.9903672251661118"
      ]
     },
     "execution_count": 92,
     "metadata": {},
     "output_type": "execute_result"
    }
   ],
   "source": [
    "rl.accuracy(company_true_links, km_result, len(record_linked))"
   ]
  },
  {
   "attachments": {},
   "cell_type": "markdown",
   "metadata": {},
   "source": [
    "### F-score"
   ]
  },
  {
   "cell_type": "code",
   "execution_count": 93,
   "metadata": {},
   "outputs": [
    {
     "data": {
      "text/plain": [
       "0.19332763045337897"
      ]
     },
     "execution_count": 93,
     "metadata": {},
     "output_type": "execute_result"
    }
   ],
   "source": [
    "rl.fscore(company_true_links, ecm_result)"
   ]
  },
  {
   "cell_type": "code",
   "execution_count": 94,
   "metadata": {},
   "outputs": [
    {
     "data": {
      "text/plain": [
       "0.13097345132743363"
      ]
     },
     "execution_count": 94,
     "metadata": {},
     "output_type": "execute_result"
    }
   ],
   "source": [
    "rl.fscore(company_true_links, km_result)"
   ]
  },
  {
   "attachments": {},
   "cell_type": "markdown",
   "metadata": {},
   "source": [
    "### Specificity"
   ]
  },
  {
   "cell_type": "code",
   "execution_count": 95,
   "metadata": {},
   "outputs": [
    {
     "data": {
      "text/plain": [
       "1.0"
      ]
     },
     "execution_count": 95,
     "metadata": {},
     "output_type": "execute_result"
    }
   ],
   "source": [
    "rl.specificity(company_true_links, ecm_result, len(record_linked))"
   ]
  },
  {
   "cell_type": "code",
   "execution_count": 96,
   "metadata": {},
   "outputs": [
    {
     "data": {
      "text/plain": [
       "1.0"
      ]
     },
     "execution_count": 96,
     "metadata": {},
     "output_type": "execute_result"
    }
   ],
   "source": [
    "rl.specificity(company_true_links, km_result, len(record_linked))"
   ]
  },
  {
   "attachments": {},
   "cell_type": "markdown",
   "metadata": {},
   "source": [
    "# Classification (Supervised)"
   ]
  },
  {
   "cell_type": "code",
   "execution_count": 33,
   "metadata": {},
   "outputs": [],
   "source": [
    "rlSvm = rl.SVMClassifier()\n",
    "# params = {}\n",
    "# gridSearch = GridSearchCV(estimator=rlSvm, param_grid=params)"
   ]
  },
  {
   "cell_type": "code",
   "execution_count": 37,
   "metadata": {},
   "outputs": [],
   "source": [
    "rlSvm.fit(golden_pairs, golden_matches_index)"
   ]
  },
  {
   "cell_type": "code",
   "execution_count": 38,
   "metadata": {},
   "outputs": [],
   "source": [
    "company_pred = rlSvm.predict(company_X)"
   ]
  },
  {
   "attachments": {},
   "cell_type": "markdown",
   "metadata": {},
   "source": [
    "# Evaluation (Supervised)"
   ]
  },
  {
   "cell_type": "markdown",
   "metadata": {},
   "source": [
    "### Confusion matrix"
   ]
  },
  {
   "cell_type": "code",
   "execution_count": 40,
   "metadata": {},
   "outputs": [
    {
     "data": {
      "text/plain": [
       "array([[2.112e+03, 0.000e+00],\n",
       "       [1.000e+00,       nan]])"
      ]
     },
     "execution_count": 40,
     "metadata": {},
     "output_type": "execute_result"
    }
   ],
   "source": [
    "rl.confusion_matrix(company_true_links, company_pred)"
   ]
  },
  {
   "cell_type": "markdown",
   "metadata": {},
   "source": [
    "### Precision"
   ]
  },
  {
   "cell_type": "code",
   "execution_count": 41,
   "metadata": {},
   "outputs": [
    {
     "data": {
      "text/plain": [
       "0.9995267392333176"
      ]
     },
     "execution_count": 41,
     "metadata": {},
     "output_type": "execute_result"
    }
   ],
   "source": [
    "rl.precision(company_true_links, company_pred)"
   ]
  },
  {
   "cell_type": "markdown",
   "metadata": {},
   "source": [
    "### Recall"
   ]
  },
  {
   "cell_type": "code",
   "execution_count": 42,
   "metadata": {},
   "outputs": [
    {
     "data": {
      "text/plain": [
       "1.0"
      ]
     },
     "execution_count": 42,
     "metadata": {},
     "output_type": "execute_result"
    }
   ],
   "source": [
    "rl.recall(company_true_links, company_pred)"
   ]
  },
  {
   "cell_type": "markdown",
   "metadata": {},
   "source": [
    "### Accuracy"
   ]
  },
  {
   "cell_type": "code",
   "execution_count": 48,
   "metadata": {},
   "outputs": [
    {
     "data": {
      "text/plain": [
       "0.9938823529411764"
      ]
     },
     "execution_count": 48,
     "metadata": {},
     "output_type": "execute_result"
    }
   ],
   "source": [
    "rl.accuracy(company_true_links, company_pred, len(company_X))"
   ]
  },
  {
   "cell_type": "markdown",
   "metadata": {},
   "source": [
    "### F-score"
   ]
  },
  {
   "cell_type": "code",
   "execution_count": 44,
   "metadata": {},
   "outputs": [
    {
     "data": {
      "text/plain": [
       "0.9997633136094675"
      ]
     },
     "execution_count": 44,
     "metadata": {},
     "output_type": "execute_result"
    }
   ],
   "source": [
    "rl.fscore(company_true_links, company_pred)"
   ]
  },
  {
   "cell_type": "markdown",
   "metadata": {},
   "source": [
    "### Specificity"
   ]
  },
  {
   "cell_type": "code",
   "execution_count": 49,
   "metadata": {},
   "outputs": [
    {
     "data": {
      "text/plain": [
       "0.0"
      ]
     },
     "execution_count": 49,
     "metadata": {},
     "output_type": "execute_result"
    }
   ],
   "source": [
    "rl.specificity(company_true_links, company_pred, len(company_X))"
   ]
  }
 ],
 "metadata": {
  "kernelspec": {
   "display_name": "hw8",
   "language": "python",
   "name": "python3"
  },
  "language_info": {
   "codemirror_mode": {
    "name": "ipython",
    "version": 3
   },
   "file_extension": ".py",
   "mimetype": "text/x-python",
   "name": "python",
   "nbconvert_exporter": "python",
   "pygments_lexer": "ipython3",
   "version": "3.10.9"
  },
  "orig_nbformat": 4,
  "vscode": {
   "interpreter": {
    "hash": "20fe05bf6d812f8581d0c3885f26a8156e46b0ff73914791c267a01ece645732"
   }
  }
 },
 "nbformat": 4,
 "nbformat_minor": 2
}
