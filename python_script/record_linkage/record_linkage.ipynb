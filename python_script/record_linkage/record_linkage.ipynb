{
 "cells": [
  {
   "cell_type": "code",
   "execution_count": 2,
   "metadata": {},
   "outputs": [],
   "source": [
    "import recordlinkage as rl\n",
    "import pandas as pd\n",
    "import os\n",
    "import random as ran\n",
    "from recordlinkage.preprocessing import *\n",
    "from prelabeling import *"
   ]
  },
  {
   "cell_type": "code",
   "execution_count": 2,
   "metadata": {},
   "outputs": [],
   "source": [
    "schema_path = \"../schema_matching/csv/schema_final.csv\""
   ]
  },
  {
   "cell_type": "code",
   "execution_count": 3,
   "metadata": {},
   "outputs": [
    {
     "name": "stderr",
     "output_type": "stream",
     "text": [
      "/var/folders/zq/pjr33nrn6175lz95s2t31wz00000gn/T/ipykernel_2217/1305971129.py:1: DtypeWarning: Columns (10,12) have mixed types. Specify dtype option on import or set low_memory=False.\n",
      "  schema = pd.read_csv(schema_path, index_col=0)\n"
     ]
    }
   ],
   "source": [
    "schema = pd.read_csv(schema_path, index_col=0)\n",
    "schema = schema.reset_index(drop=True) # Per evitare che gli indici siano letti come decimali (i.e. 1.0 invece di 1)"
   ]
  },
  {
   "attachments": {},
   "cell_type": "markdown",
   "metadata": {},
   "source": [
    "# Preprocessamento"
   ]
  },
  {
   "attachments": {},
   "cell_type": "markdown",
   "metadata": {},
   "source": [
    "## Cleaning dei dati ..."
   ]
  },
  {
   "cell_type": "code",
   "execution_count": 4,
   "metadata": {},
   "outputs": [
    {
     "name": "stderr",
     "output_type": "stream",
     "text": [
      "/var/folders/zq/pjr33nrn6175lz95s2t31wz00000gn/T/ipykernel_2217/1139875684.py:3: DtypeWarning: Columns (10,12) have mixed types. Specify dtype option on import or set low_memory=False.\n",
      "  schema_cleaned = pd.read_csv(schema_cleaned_path, index_col=\"id\")\n"
     ]
    }
   ],
   "source": [
    "schema_cleaned_path = \"./csv/schema_cleaned.csv\"\n",
    "try:\n",
    "    schema_cleaned = pd.read_csv(schema_cleaned_path, index_col=\"id\")\n",
    "except:\n",
    "    schema_cleaned = schema # creo una copia per non modificare lo schema iniziale\n",
    "    # Cleaning dei dati iterando per riga\n",
    "    for i in range(len(schema.index)):\n",
    "        row = schema.iloc[i]\n",
    "        row_series = row.squeeze() # BOO\n",
    "        nome = pd.Series(row[\"name\"])\n",
    "        try:\n",
    "            nome_cleaned = clean(nome, lowercase=True, replace_by_none='', replace_by_whitespace='\\ {2,}', strip_accents='unicode', remove_brackets=False, encoding='utf-8', decode_error='strict')\n",
    "        except:\n",
    "            print(nome)\n",
    "        # Si evita il cleaning di caratteri relative alle valute presenti nei datasets\n",
    "        row_series_cleaned = clean(row_series, lowercase=True, replace_by_none=r'[^ \\\\.\\\\-\\\\_A-Za-z0-9$€£¥₩₽₹฿₪¤¢₺₱]+', replace_by_whitespace=r'[\\\\-\\\\_]', strip_accents=\"unicode\", remove_brackets=False, encoding='utf-8', decode_error='strict')\n",
    "        schema_cleaned.iloc[i] = row_series_cleaned\n",
    "        schema_cleaned.iloc[i][\"name\"] = nome_cleaned[0]\n",
    "    schema_cleaned.to_csv(schema_cleaned_path, index_label=\"id\")\n"
   ]
  },
  {
   "cell_type": "markdown",
   "metadata": {},
   "source": [
    "# Caricamento dei dataset per classificazione"
   ]
  },
  {
   "cell_type": "code",
   "execution_count": 5,
   "metadata": {},
   "outputs": [],
   "source": [
    "golden_path_gallo = \"./csv/golden_links_gallo.csv\"\n",
    "golden_path_gatto = \"./csv/golden_links_gatto.csv\"\n",
    "golden_path_moli = \"./csv/golden_links_moli.csv\"\n",
    "golden_path = \"./csv/golden_links.csv\"\n",
    "\n",
    "golden_gallo = pd.read_csv(golden_path_gallo, index_col=None)\n",
    "golden_gatto = pd.read_csv(golden_path_gatto, index_col=None)\n",
    "golden_moli = pd.read_csv(golden_path_moli, index_col=None)\n",
    "\n",
    "try:\n",
    "    golden = pd.read_csv(golden_path, index_col=[0,1])\n",
    "except:\n",
    "    golden = pd.concat([golden_gallo, golden_gatto, golden_moli], axis=0)\n",
    "    golden = golden.reset_index(drop=True)\n",
    "    golden.to_csv(golden_path, index=None)"
   ]
  },
  {
   "cell_type": "code",
   "execution_count": 6,
   "metadata": {},
   "outputs": [],
   "source": [
    "golden_country_path_gatto = \"./csv/golden_country_links_gatto.csv\"\n",
    "golden_country_path_moli = \"./csv/golden_country_links_moli.csv\"\n",
    "\n",
    "golden_country_gatto = pd.read_csv(golden_country_path_gatto, index_col=[0,1])\n",
    "golden_country_moli = pd.read_csv(golden_country_path_moli, index_col=[0,1])\n"
   ]
  },
  {
   "cell_type": "code",
   "execution_count": 7,
   "metadata": {},
   "outputs": [],
   "source": [
    "# golden = pd.concat([golden, golden_country_gatto, golden_country_moli], axis=0)\n",
    "# golden.to_csv(golden_path)"
   ]
  },
  {
   "attachments": {},
   "cell_type": "markdown",
   "metadata": {},
   "source": [
    "# Blocking"
   ]
  },
  {
   "cell_type": "code",
   "execution_count": 8,
   "metadata": {},
   "outputs": [],
   "source": [
    "# countryIndexer = rl.Index()\n",
    "# countryIndexer.block(left_on='country', right_on='country')\n",
    "# country_candidate_links = countryIndexer.index(schema_cleaned)"
   ]
  },
  {
   "cell_type": "code",
   "execution_count": 9,
   "metadata": {},
   "outputs": [
    {
     "ename": "NameError",
     "evalue": "name 'country_candidate_links' is not defined",
     "output_type": "error",
     "traceback": [
      "\u001b[0;31m---------------------------------------------------------------------------\u001b[0m",
      "\u001b[0;31mNameError\u001b[0m                                 Traceback (most recent call last)",
      "Cell \u001b[0;32mIn[9], line 2\u001b[0m\n\u001b[1;32m      1\u001b[0m country_candidate_links_path \u001b[39m=\u001b[39m \u001b[39m'\u001b[39m\u001b[39m./csv/country_candidate_links.csv\u001b[39m\u001b[39m'\u001b[39m\n\u001b[0;32m----> 2\u001b[0m pd\u001b[39m.\u001b[39mDataFrame(country_candidate_links)\u001b[39m.\u001b[39mto_csv()\n",
      "\u001b[0;31mNameError\u001b[0m: name 'country_candidate_links' is not defined"
     ]
    }
   ],
   "source": [
    "country_candidate_links_path = './csv/country_candidate_links.csv'\n",
    "pd.DataFrame(country_candidate_links).to_csv()"
   ]
  },
  {
   "cell_type": "code",
   "execution_count": 10,
   "metadata": {},
   "outputs": [],
   "source": [
    "indexer = rl.Index()\n",
    "indexer.block(left_on='name', right_on='name')\n",
    "candidate_links = indexer.index(schema_cleaned)"
   ]
  },
  {
   "cell_type": "code",
   "execution_count": 11,
   "metadata": {},
   "outputs": [],
   "source": [
    "labeled_country_moli = golden.index.intersection(golden_country_moli.index)\n",
    "labeled_country_gatto = golden.index.intersection(golden_country_gatto.index)\n",
    "labeled_country = [*labeled_country_moli,*labeled_country_gatto]"
   ]
  },
  {
   "cell_type": "code",
   "execution_count": 12,
   "metadata": {},
   "outputs": [
    {
     "data": {
      "text/plain": [
       "540835"
      ]
     },
     "execution_count": 12,
     "metadata": {},
     "output_type": "execute_result"
    }
   ],
   "source": [
    "candidate_links = [*candidate_links, *labeled_country]\n",
    "len(candidate_links)\n"
   ]
  },
  {
   "cell_type": "code",
   "execution_count": 13,
   "metadata": {},
   "outputs": [],
   "source": [
    "candidate_links = pd.MultiIndex.from_tuples(candidate_links)"
   ]
  },
  {
   "attachments": {},
   "cell_type": "markdown",
   "metadata": {},
   "source": [
    "# Prepare Labeling"
   ]
  },
  {
   "cell_type": "code",
   "execution_count": 14,
   "metadata": {},
   "outputs": [],
   "source": [
    "# choices_path = \"./csv/choices.csv\"\n",
    "# # choices_country_path = \"./csv/choices_country.csv\""
   ]
  },
  {
   "cell_type": "code",
   "execution_count": 15,
   "metadata": {},
   "outputs": [],
   "source": [
    "# n_sampled_matches = 30000\n",
    "# try:\n",
    "#     choices = pd.read_csv(choices_path, index_col=[0, 1])\n",
    "# except:\n",
    "#     choices = ran.choices(candidate_links, k=n_sampled_matches)\n",
    "#     choices_df = get_datasetCouples_to_label(choices, schema_cleaned)\n",
    "#     # choices_df.to_csv(choices_path, index=None)\n",
    "\n",
    "# # n_sampled_matches_country = 2100\n",
    "# # try:\n",
    "# #     choices_country = pd.read_csv(choices_country_path, index_col=[0, 1])\n",
    "# # except:\n",
    "# #     choices_country = ran.choices(country_candidate_links, k=n_sampled_matches_country)\n",
    "# #     choices_country_df = get_datasetCouples_to_label(choices_country, schema_cleaned)\n",
    "# #     choices_country_df.to_csv(choices_country_path, index=None)"
   ]
  },
  {
   "cell_type": "code",
   "execution_count": 16,
   "metadata": {},
   "outputs": [],
   "source": [
    "# choices_path_gallo = \"./csv/gallo.csv\"\n",
    "# choices_path_gatto = \"./csv/gatto.csv\"\n",
    "# choices_path_moli = \"./csv/moli.csv\"\n",
    "\n",
    "# sampled_matches_per_person = n_sampled_matches//3\n",
    "\n",
    "# choices_df_gallo = choices_df.iloc[:sampled_matches_per_person]\n",
    "# print(len(choices_df_gallo))\n",
    "\n",
    "# choices_df_gatto = choices_df.iloc[sampled_matches_per_person:2*sampled_matches_per_person]\n",
    "# print(len(choices_df_gatto))\n",
    "\n",
    "# choices_df_moli = choices_df.iloc[2*sampled_matches_per_person:]\n",
    "# print(len(choices_df_moli))\n",
    "\n",
    "# choices_df_gallo.to_csv(choices_path_gallo, index=None)\n",
    "# choices_df_gatto.to_csv(choices_path_gatto, index=None)\n",
    "# choices_df_moli.to_csv(choices_path_moli, index=None)"
   ]
  },
  {
   "attachments": {},
   "cell_type": "markdown",
   "metadata": {},
   "source": [
    "## Labeling country"
   ]
  },
  {
   "cell_type": "code",
   "execution_count": 17,
   "metadata": {},
   "outputs": [],
   "source": [
    "# choices_country_path_gatto = \"./csv/gatto_country.csv\"\n",
    "# choices_country_path_moli = \"./csv/moli_country.csv\"\n",
    "\n",
    "# sampled_matches_country_per_person = n_sampled_matches_country//2\n",
    "\n",
    "# choices_country_df_gatto = choices_country_df.iloc[:sampled_matches_country_per_person]\n",
    "# print(len(choices_country_df_gatto))\n",
    "\n",
    "# choices_country_df_moli = choices_country_df.iloc[sampled_matches_country_per_person:2*sampled_matches_country_per_person]\n",
    "# print(len(choices_country_df_moli))\n",
    "\n",
    "# choices_country_df_gatto.to_csv(choices_country_path_gatto, index=None)\n",
    "# choices_country_df_moli.to_csv(choices_country_path_moli, index=None)"
   ]
  },
  {
   "attachments": {},
   "cell_type": "markdown",
   "metadata": {},
   "source": [
    "# Comparing"
   ]
  },
  {
   "cell_type": "code",
   "execution_count": 18,
   "metadata": {},
   "outputs": [],
   "source": [
    "compare_cl = rl.Compare()\n",
    "compare_cl.string(\"name\", \"name\", threshold=0.85, label=\"name\")\n",
    "compare_cl.string(\"country\", \"country\", label=\"country\")\n",
    "compare_cl.string(\"founded year\", \"founded year\", label=\"founded year\")\n",
    "compare_cl.string(\"industry\", \"industry\", label=\"industry\")\n",
    "compare_cl.string(\"sector\", \"sector\", label=\"sector\")\n",
    "compare_cl.string(\"address\", \"address\", label=\"address\")\n",
    "compare_cl.string(\"city\", \"city\", label=\"city\")\n",
    "compare_cl.string(\"ceo\", \"ceo\", label=\"ceo\")\n",
    "features = compare_cl.compute(candidate_links, schema, schema)"
   ]
  },
  {
   "cell_type": "code",
   "execution_count": 19,
   "metadata": {},
   "outputs": [
    {
     "data": {
      "text/html": [
       "<div>\n",
       "<style scoped>\n",
       "    .dataframe tbody tr th:only-of-type {\n",
       "        vertical-align: middle;\n",
       "    }\n",
       "\n",
       "    .dataframe tbody tr th {\n",
       "        vertical-align: top;\n",
       "    }\n",
       "\n",
       "    .dataframe thead th {\n",
       "        text-align: right;\n",
       "    }\n",
       "</style>\n",
       "<table border=\"1\" class=\"dataframe\">\n",
       "  <thead>\n",
       "    <tr style=\"text-align: right;\">\n",
       "      <th></th>\n",
       "      <th>name</th>\n",
       "      <th>country</th>\n",
       "      <th>founded year</th>\n",
       "      <th>industry</th>\n",
       "      <th>sector</th>\n",
       "      <th>address</th>\n",
       "      <th>city</th>\n",
       "      <th>ceo</th>\n",
       "    </tr>\n",
       "  </thead>\n",
       "  <tbody>\n",
       "    <tr>\n",
       "      <th>count</th>\n",
       "      <td>540835.000000</td>\n",
       "      <td>540835.000000</td>\n",
       "      <td>540835.000000</td>\n",
       "      <td>540835.000000</td>\n",
       "      <td>540835.000000</td>\n",
       "      <td>540835.000000</td>\n",
       "      <td>540835.000000</td>\n",
       "      <td>540835.000000</td>\n",
       "    </tr>\n",
       "    <tr>\n",
       "      <th>mean</th>\n",
       "      <td>0.673340</td>\n",
       "      <td>0.378162</td>\n",
       "      <td>0.043155</td>\n",
       "      <td>0.035133</td>\n",
       "      <td>0.041401</td>\n",
       "      <td>0.003636</td>\n",
       "      <td>0.004927</td>\n",
       "      <td>0.049407</td>\n",
       "    </tr>\n",
       "    <tr>\n",
       "      <th>std</th>\n",
       "      <td>0.468992</td>\n",
       "      <td>0.469974</td>\n",
       "      <td>0.193866</td>\n",
       "      <td>0.176012</td>\n",
       "      <td>0.195094</td>\n",
       "      <td>0.059346</td>\n",
       "      <td>0.069976</td>\n",
       "      <td>0.203074</td>\n",
       "    </tr>\n",
       "    <tr>\n",
       "      <th>min</th>\n",
       "      <td>0.000000</td>\n",
       "      <td>0.000000</td>\n",
       "      <td>0.000000</td>\n",
       "      <td>0.000000</td>\n",
       "      <td>0.000000</td>\n",
       "      <td>0.000000</td>\n",
       "      <td>0.000000</td>\n",
       "      <td>0.000000</td>\n",
       "    </tr>\n",
       "    <tr>\n",
       "      <th>25%</th>\n",
       "      <td>0.000000</td>\n",
       "      <td>0.000000</td>\n",
       "      <td>0.000000</td>\n",
       "      <td>0.000000</td>\n",
       "      <td>0.000000</td>\n",
       "      <td>0.000000</td>\n",
       "      <td>0.000000</td>\n",
       "      <td>0.000000</td>\n",
       "    </tr>\n",
       "    <tr>\n",
       "      <th>50%</th>\n",
       "      <td>1.000000</td>\n",
       "      <td>0.000000</td>\n",
       "      <td>0.000000</td>\n",
       "      <td>0.000000</td>\n",
       "      <td>0.000000</td>\n",
       "      <td>0.000000</td>\n",
       "      <td>0.000000</td>\n",
       "      <td>0.000000</td>\n",
       "    </tr>\n",
       "    <tr>\n",
       "      <th>75%</th>\n",
       "      <td>1.000000</td>\n",
       "      <td>1.000000</td>\n",
       "      <td>0.000000</td>\n",
       "      <td>0.000000</td>\n",
       "      <td>0.000000</td>\n",
       "      <td>0.000000</td>\n",
       "      <td>0.000000</td>\n",
       "      <td>0.000000</td>\n",
       "    </tr>\n",
       "    <tr>\n",
       "      <th>max</th>\n",
       "      <td>1.000000</td>\n",
       "      <td>1.000000</td>\n",
       "      <td>1.000000</td>\n",
       "      <td>1.000000</td>\n",
       "      <td>1.000000</td>\n",
       "      <td>1.000000</td>\n",
       "      <td>1.000000</td>\n",
       "      <td>1.000000</td>\n",
       "    </tr>\n",
       "  </tbody>\n",
       "</table>\n",
       "</div>"
      ],
      "text/plain": [
       "                name        country   founded year       industry  \\\n",
       "count  540835.000000  540835.000000  540835.000000  540835.000000   \n",
       "mean        0.673340       0.378162       0.043155       0.035133   \n",
       "std         0.468992       0.469974       0.193866       0.176012   \n",
       "min         0.000000       0.000000       0.000000       0.000000   \n",
       "25%         0.000000       0.000000       0.000000       0.000000   \n",
       "50%         1.000000       0.000000       0.000000       0.000000   \n",
       "75%         1.000000       1.000000       0.000000       0.000000   \n",
       "max         1.000000       1.000000       1.000000       1.000000   \n",
       "\n",
       "              sector        address           city            ceo  \n",
       "count  540835.000000  540835.000000  540835.000000  540835.000000  \n",
       "mean        0.041401       0.003636       0.004927       0.049407  \n",
       "std         0.195094       0.059346       0.069976       0.203074  \n",
       "min         0.000000       0.000000       0.000000       0.000000  \n",
       "25%         0.000000       0.000000       0.000000       0.000000  \n",
       "50%         0.000000       0.000000       0.000000       0.000000  \n",
       "75%         0.000000       0.000000       0.000000       0.000000  \n",
       "max         1.000000       1.000000       1.000000       1.000000  "
      ]
     },
     "execution_count": 19,
     "metadata": {},
     "output_type": "execute_result"
    }
   ],
   "source": [
    "features.describe()"
   ]
  },
  {
   "cell_type": "code",
   "execution_count": 20,
   "metadata": {},
   "outputs": [
    {
     "data": {
      "text/plain": [
       "6.000000       250\n",
       "5.985714         1\n",
       "5.985507         1\n",
       "5.975610         1\n",
       "5.970588         1\n",
       "             ...  \n",
       "0.016393         1\n",
       "0.015385         1\n",
       "0.015152         1\n",
       "0.010893         1\n",
       "0.000000    105989\n",
       "Length: 6734, dtype: int64"
      ]
     },
     "execution_count": 20,
     "metadata": {},
     "output_type": "execute_result"
    }
   ],
   "source": [
    "features.sum(axis=1).value_counts().sort_index(ascending=False)"
   ]
  },
  {
   "cell_type": "code",
   "execution_count": 21,
   "metadata": {},
   "outputs": [],
   "source": [
    "record_linked = features[features.sum(axis=1) > 1]"
   ]
  },
  {
   "cell_type": "code",
   "execution_count": 22,
   "metadata": {},
   "outputs": [
    {
     "name": "stdout",
     "output_type": "stream",
     "text": [
      "               name   country  founded year  industry  sector  address  city  \\\n",
      "18510  11347    1.0  0.153846           0.0  0.000000     0.0      0.0   0.0   \n",
      "19510  11347    1.0  1.000000           0.0  0.000000     0.0      0.0   0.0   \n",
      "       18510    1.0  0.153846           0.0  0.000000     0.0      0.0   0.0   \n",
      "31603  0        1.0  0.000000           0.0  0.000000     0.0      0.0   0.0   \n",
      "41603  18510    1.0  0.000000           0.0  0.000000     0.0      0.0   0.0   \n",
      "...             ...       ...           ...       ...     ...      ...   ...   \n",
      "148444 96701    0.0  1.000000           0.0  0.133333     0.0      0.0   0.0   \n",
      "144270 131818   0.0  1.000000           0.0  0.142857     0.0      0.0   0.0   \n",
      "144392 54473    0.0  1.000000           0.0  0.105263     0.0      0.0   0.0   \n",
      "63135  60910    0.0  1.000000           1.0  0.239437     0.0      0.0   0.0   \n",
      "75107  74986    0.0  1.000000           0.0  1.000000     1.0      0.0   0.0   \n",
      "\n",
      "                    ceo  \n",
      "18510  11347   0.000000  \n",
      "19510  11347   0.000000  \n",
      "       18510   0.000000  \n",
      "31603  0       1.000000  \n",
      "41603  18510   0.421053  \n",
      "...                 ...  \n",
      "148444 96701   0.000000  \n",
      "144270 131818  0.000000  \n",
      "144392 54473   0.000000  \n",
      "63135  60910   1.000000  \n",
      "75107  74986   0.000000  \n",
      "\n",
      "[205260 rows x 8 columns]\n"
     ]
    }
   ],
   "source": [
    "print(record_linked)"
   ]
  },
  {
   "attachments": {},
   "cell_type": "markdown",
   "metadata": {},
   "source": [
    "# Train & test split"
   ]
  },
  {
   "cell_type": "code",
   "execution_count": 23,
   "metadata": {},
   "outputs": [],
   "source": [
    "# Le features relative ai dati etichettati da noi (2125 di cui 1 con label = 0)\n",
    "company_X = features.loc[golden.index]"
   ]
  },
  {
   "cell_type": "code",
   "execution_count": 24,
   "metadata": {},
   "outputs": [],
   "source": [
    "# coppie di indici relativi ai dati etichettati con label = 1\n",
    "company_true_links = golden[golden[\"label\"] == 1].index"
   ]
  },
  {
   "cell_type": "code",
   "execution_count": 25,
   "metadata": {},
   "outputs": [],
   "source": [
    "# X_train\n",
    "golden_pairs = company_X[:len(company_X)*3//4]\n",
    "# y_train\n",
    "golden_matches_index = golden_pairs.index.intersection(company_true_links)"
   ]
  },
  {
   "attachments": {},
   "cell_type": "markdown",
   "metadata": {},
   "source": [
    "# Classification (Unsupervised)"
   ]
  },
  {
   "cell_type": "code",
   "execution_count": 26,
   "metadata": {},
   "outputs": [
    {
     "name": "stdout",
     "output_type": "stream",
     "text": [
      "Possible record linked size: 4226\n",
      "Record linked size: 347\n",
      "Removed 3879 possible links\n"
     ]
    }
   ],
   "source": [
    "ECM = rl.ECMClassifier(binarize=0)\n",
    "ecm_result = ECM.fit_predict(company_X)\n",
    "print(\"Possible record linked size:\", len(company_X))\n",
    "print(\"Record linked size:\", len(ecm_result))\n",
    "print(f\"Removed {len(company_X) - len(ecm_result)} possible links\")"
   ]
  },
  {
   "cell_type": "code",
   "execution_count": 27,
   "metadata": {},
   "outputs": [
    {
     "name": "stdout",
     "output_type": "stream",
     "text": [
      "Possible record linked size: 4226\n",
      "Record linked size: 164\n",
      "Removed 4062 possible links\n"
     ]
    }
   ],
   "source": [
    "km = rl.KMeansClassifier()\n",
    "km_result = km.fit_predict(company_X)\n",
    "print(\"Possible record linked size:\", len(company_X))\n",
    "print(\"Record linked size:\", len(km_result))\n",
    "print(f\"Removed {len(company_X) - len(km_result)} possible links\")"
   ]
  },
  {
   "attachments": {},
   "cell_type": "markdown",
   "metadata": {},
   "source": [
    "# Evaluation (Unsupervised)"
   ]
  },
  {
   "attachments": {},
   "cell_type": "markdown",
   "metadata": {},
   "source": [
    "### Confusion matrix"
   ]
  },
  {
   "cell_type": "code",
   "execution_count": 28,
   "metadata": {},
   "outputs": [
    {
     "data": {
      "text/plain": [
       "array([[ 226., 1888.],\n",
       "       [ 121.,   nan]])"
      ]
     },
     "execution_count": 28,
     "metadata": {},
     "output_type": "execute_result"
    }
   ],
   "source": [
    "# Expetation conditional maximization\n",
    "rl.confusion_matrix(company_true_links, ecm_result)"
   ]
  },
  {
   "cell_type": "code",
   "execution_count": 29,
   "metadata": {},
   "outputs": [
    {
     "data": {
      "text/plain": [
       "array([[ 162., 1952.],\n",
       "       [   2.,   nan]])"
      ]
     },
     "execution_count": 29,
     "metadata": {},
     "output_type": "execute_result"
    }
   ],
   "source": [
    "# Kmeans\n",
    "rl.confusion_matrix(company_true_links, km_result)"
   ]
  },
  {
   "attachments": {},
   "cell_type": "markdown",
   "metadata": {},
   "source": [
    "### Precision"
   ]
  },
  {
   "cell_type": "code",
   "execution_count": 30,
   "metadata": {},
   "outputs": [
    {
     "data": {
      "text/plain": [
       "0.6512968299711815"
      ]
     },
     "execution_count": 30,
     "metadata": {},
     "output_type": "execute_result"
    }
   ],
   "source": [
    "rl.precision(company_true_links, ecm_result)"
   ]
  },
  {
   "cell_type": "code",
   "execution_count": 31,
   "metadata": {},
   "outputs": [
    {
     "data": {
      "text/plain": [
       "0.9878048780487805"
      ]
     },
     "execution_count": 31,
     "metadata": {},
     "output_type": "execute_result"
    }
   ],
   "source": [
    "rl.precision(company_true_links, km_result)"
   ]
  },
  {
   "attachments": {},
   "cell_type": "markdown",
   "metadata": {},
   "source": [
    "### Recall"
   ]
  },
  {
   "cell_type": "code",
   "execution_count": 32,
   "metadata": {},
   "outputs": [
    {
     "data": {
      "text/plain": [
       "0.10690633869441817"
      ]
     },
     "execution_count": 32,
     "metadata": {},
     "output_type": "execute_result"
    }
   ],
   "source": [
    "rl.recall(company_true_links, ecm_result)"
   ]
  },
  {
   "cell_type": "code",
   "execution_count": 33,
   "metadata": {},
   "outputs": [
    {
     "data": {
      "text/plain": [
       "0.07663197729422895"
      ]
     },
     "execution_count": 33,
     "metadata": {},
     "output_type": "execute_result"
    }
   ],
   "source": [
    "rl.recall(company_true_links, km_result)"
   ]
  },
  {
   "attachments": {},
   "cell_type": "markdown",
   "metadata": {},
   "source": [
    "### Accuracy"
   ]
  },
  {
   "cell_type": "code",
   "execution_count": 34,
   "metadata": {},
   "outputs": [
    {
     "data": {
      "text/plain": [
       "0.990153951086427"
      ]
     },
     "execution_count": 34,
     "metadata": {},
     "output_type": "execute_result"
    }
   ],
   "source": [
    "rl.accuracy(company_true_links, ecm_result, len(record_linked))"
   ]
  },
  {
   "cell_type": "code",
   "execution_count": 35,
   "metadata": {},
   "outputs": [
    {
     "data": {
      "text/plain": [
       "0.9904219039267271"
      ]
     },
     "execution_count": 35,
     "metadata": {},
     "output_type": "execute_result"
    }
   ],
   "source": [
    "rl.accuracy(company_true_links, km_result, len(record_linked))"
   ]
  },
  {
   "attachments": {},
   "cell_type": "markdown",
   "metadata": {},
   "source": [
    "### F-score"
   ]
  },
  {
   "cell_type": "code",
   "execution_count": 36,
   "metadata": {},
   "outputs": [
    {
     "data": {
      "text/plain": [
       "0.1836651767574157"
      ]
     },
     "execution_count": 36,
     "metadata": {},
     "output_type": "execute_result"
    }
   ],
   "source": [
    "rl.fscore(company_true_links, ecm_result)"
   ]
  },
  {
   "cell_type": "code",
   "execution_count": 37,
   "metadata": {},
   "outputs": [
    {
     "data": {
      "text/plain": [
       "0.14223002633889376"
      ]
     },
     "execution_count": 37,
     "metadata": {},
     "output_type": "execute_result"
    }
   ],
   "source": [
    "rl.fscore(company_true_links, km_result)"
   ]
  },
  {
   "attachments": {},
   "cell_type": "markdown",
   "metadata": {},
   "source": [
    "### Specificity"
   ]
  },
  {
   "cell_type": "code",
   "execution_count": 38,
   "metadata": {},
   "outputs": [
    {
     "data": {
      "text/plain": [
       "0.9994043340848898"
      ]
     },
     "execution_count": 38,
     "metadata": {},
     "output_type": "execute_result"
    }
   ],
   "source": [
    "rl.specificity(company_true_links, ecm_result, len(record_linked))"
   ]
  },
  {
   "cell_type": "code",
   "execution_count": 39,
   "metadata": {},
   "outputs": [
    {
     "data": {
      "text/plain": [
       "0.9999901542823949"
      ]
     },
     "execution_count": 39,
     "metadata": {},
     "output_type": "execute_result"
    }
   ],
   "source": [
    "rl.specificity(company_true_links, km_result, len(record_linked))"
   ]
  },
  {
   "attachments": {},
   "cell_type": "markdown",
   "metadata": {},
   "source": [
    "# Classification (Supervised)"
   ]
  },
  {
   "cell_type": "code",
   "execution_count": 40,
   "metadata": {},
   "outputs": [],
   "source": [
    "rlSvm = rl.SVMClassifier()\n",
    "lr = rl.LogisticRegressionClassifier()\n",
    "nb = rl.NaiveBayesClassifier(binarize=0.3)"
   ]
  },
  {
   "cell_type": "code",
   "execution_count": 41,
   "metadata": {},
   "outputs": [],
   "source": [
    "rlSvm.fit(golden_pairs, golden_matches_index)\n"
   ]
  },
  {
   "cell_type": "code",
   "execution_count": 42,
   "metadata": {},
   "outputs": [],
   "source": [
    "lr.fit(golden_pairs, golden_matches_index)"
   ]
  },
  {
   "cell_type": "code",
   "execution_count": 43,
   "metadata": {},
   "outputs": [],
   "source": [
    "nb.fit(golden_pairs, golden_matches_index)"
   ]
  },
  {
   "cell_type": "code",
   "execution_count": 44,
   "metadata": {},
   "outputs": [],
   "source": [
    "svm_company_pred = rlSvm.predict(company_X)\n"
   ]
  },
  {
   "cell_type": "code",
   "execution_count": 45,
   "metadata": {},
   "outputs": [],
   "source": [
    "lr_company_pred = lr.predict(company_X)"
   ]
  },
  {
   "cell_type": "code",
   "execution_count": 46,
   "metadata": {},
   "outputs": [],
   "source": [
    "nb_company_pred = nb.predict(company_X)"
   ]
  },
  {
   "attachments": {},
   "cell_type": "markdown",
   "metadata": {},
   "source": [
    "# Evaluation (Supervised)"
   ]
  },
  {
   "cell_type": "markdown",
   "metadata": {},
   "source": [
    "### Confusion matrix"
   ]
  },
  {
   "cell_type": "code",
   "execution_count": 47,
   "metadata": {},
   "outputs": [
    {
     "data": {
      "text/plain": [
       "array([[1923.,  191.],\n",
       "       [ 425.,   nan]])"
      ]
     },
     "execution_count": 47,
     "metadata": {},
     "output_type": "execute_result"
    }
   ],
   "source": [
    "rl.confusion_matrix(company_true_links, svm_company_pred)"
   ]
  },
  {
   "cell_type": "code",
   "execution_count": 48,
   "metadata": {},
   "outputs": [
    {
     "data": {
      "text/plain": [
       "array([[1924.,  190.],\n",
       "       [ 426.,   nan]])"
      ]
     },
     "execution_count": 48,
     "metadata": {},
     "output_type": "execute_result"
    }
   ],
   "source": [
    "rl.confusion_matrix(company_true_links, lr_company_pred)"
   ]
  },
  {
   "cell_type": "code",
   "execution_count": 49,
   "metadata": {},
   "outputs": [
    {
     "data": {
      "text/plain": [
       "array([[1928.,  186.],\n",
       "       [ 456.,   nan]])"
      ]
     },
     "execution_count": 49,
     "metadata": {},
     "output_type": "execute_result"
    }
   ],
   "source": [
    "rl.confusion_matrix(company_true_links, nb_company_pred)"
   ]
  },
  {
   "cell_type": "markdown",
   "metadata": {},
   "source": [
    "### Precision"
   ]
  },
  {
   "cell_type": "code",
   "execution_count": 50,
   "metadata": {},
   "outputs": [
    {
     "data": {
      "text/plain": [
       "0.8189948892674617"
      ]
     },
     "execution_count": 50,
     "metadata": {},
     "output_type": "execute_result"
    }
   ],
   "source": [
    "rl.precision(company_true_links, svm_company_pred)"
   ]
  },
  {
   "cell_type": "code",
   "execution_count": 51,
   "metadata": {},
   "outputs": [
    {
     "data": {
      "text/plain": [
       "0.8187234042553192"
      ]
     },
     "execution_count": 51,
     "metadata": {},
     "output_type": "execute_result"
    }
   ],
   "source": [
    "rl.precision(company_true_links, lr_company_pred)"
   ]
  },
  {
   "cell_type": "code",
   "execution_count": 52,
   "metadata": {},
   "outputs": [
    {
     "data": {
      "text/plain": [
       "0.8087248322147651"
      ]
     },
     "execution_count": 52,
     "metadata": {},
     "output_type": "execute_result"
    }
   ],
   "source": [
    "rl.precision(company_true_links, nb_company_pred)"
   ]
  },
  {
   "cell_type": "markdown",
   "metadata": {},
   "source": [
    "### Recall"
   ]
  },
  {
   "cell_type": "code",
   "execution_count": 53,
   "metadata": {},
   "outputs": [
    {
     "data": {
      "text/plain": [
       "0.9096499526963103"
      ]
     },
     "execution_count": 53,
     "metadata": {},
     "output_type": "execute_result"
    }
   ],
   "source": [
    "rl.recall(company_true_links, svm_company_pred)"
   ]
  },
  {
   "cell_type": "code",
   "execution_count": 54,
   "metadata": {},
   "outputs": [
    {
     "data": {
      "text/plain": [
       "0.9101229895931883"
      ]
     },
     "execution_count": 54,
     "metadata": {},
     "output_type": "execute_result"
    }
   ],
   "source": [
    "rl.recall(company_true_links, lr_company_pred)"
   ]
  },
  {
   "cell_type": "code",
   "execution_count": 55,
   "metadata": {},
   "outputs": [
    {
     "data": {
      "text/plain": [
       "0.9120151371807"
      ]
     },
     "execution_count": 55,
     "metadata": {},
     "output_type": "execute_result"
    }
   ],
   "source": [
    "rl.recall(company_true_links, nb_company_pred)"
   ]
  },
  {
   "cell_type": "markdown",
   "metadata": {},
   "source": [
    "### Accuracy"
   ]
  },
  {
   "cell_type": "code",
   "execution_count": 56,
   "metadata": {},
   "outputs": [
    {
     "data": {
      "text/plain": [
       "0.8513961192617132"
      ]
     },
     "execution_count": 56,
     "metadata": {},
     "output_type": "execute_result"
    }
   ],
   "source": [
    "rl.accuracy(company_true_links, svm_company_pred, len(company_X))"
   ]
  },
  {
   "cell_type": "code",
   "execution_count": 57,
   "metadata": {},
   "outputs": [
    {
     "data": {
      "text/plain": [
       "0.8513961192617132"
      ]
     },
     "execution_count": 57,
     "metadata": {},
     "output_type": "execute_result"
    }
   ],
   "source": [
    "rl.accuracy(company_true_links, lr_company_pred, len(company_X))"
   ]
  },
  {
   "cell_type": "code",
   "execution_count": 58,
   "metadata": {},
   "outputs": [
    {
     "data": {
      "text/plain": [
       "0.8452437292948415"
      ]
     },
     "execution_count": 58,
     "metadata": {},
     "output_type": "execute_result"
    }
   ],
   "source": [
    "rl.accuracy(company_true_links, nb_company_pred, len(company_X))"
   ]
  },
  {
   "cell_type": "markdown",
   "metadata": {},
   "source": [
    "### F-score"
   ]
  },
  {
   "cell_type": "code",
   "execution_count": 59,
   "metadata": {},
   "outputs": [
    {
     "data": {
      "text/plain": [
       "0.8619453160017929"
      ]
     },
     "execution_count": 59,
     "metadata": {},
     "output_type": "execute_result"
    }
   ],
   "source": [
    "rl.fscore(company_true_links, svm_company_pred)"
   ]
  },
  {
   "cell_type": "code",
   "execution_count": 60,
   "metadata": {},
   "outputs": [
    {
     "data": {
      "text/plain": [
       "0.8620071684587813"
      ]
     },
     "execution_count": 60,
     "metadata": {},
     "output_type": "execute_result"
    }
   ],
   "source": [
    "rl.fscore(company_true_links, lr_company_pred)"
   ]
  },
  {
   "cell_type": "code",
   "execution_count": 61,
   "metadata": {},
   "outputs": [
    {
     "data": {
      "text/plain": [
       "0.8572698977323253"
      ]
     },
     "execution_count": 61,
     "metadata": {},
     "output_type": "execute_result"
    }
   ],
   "source": [
    "rl.fscore(company_true_links, nb_company_pred)"
   ]
  },
  {
   "cell_type": "markdown",
   "metadata": {},
   "source": [
    "### Specificity"
   ]
  },
  {
   "cell_type": "code",
   "execution_count": 62,
   "metadata": {},
   "outputs": [
    {
     "data": {
      "text/plain": [
       "0.7976190476190477"
      ]
     },
     "execution_count": 62,
     "metadata": {},
     "output_type": "execute_result"
    }
   ],
   "source": [
    "rl.specificity(company_true_links, svm_company_pred, len(company_X))"
   ]
  },
  {
   "cell_type": "code",
   "execution_count": 63,
   "metadata": {},
   "outputs": [
    {
     "data": {
      "text/plain": [
       "0.7971428571428572"
      ]
     },
     "execution_count": 63,
     "metadata": {},
     "output_type": "execute_result"
    }
   ],
   "source": [
    "rl.specificity(company_true_links, lr_company_pred, len(company_X))"
   ]
  },
  {
   "cell_type": "code",
   "execution_count": 64,
   "metadata": {},
   "outputs": [
    {
     "data": {
      "text/plain": [
       "0.7828571428571428"
      ]
     },
     "execution_count": 64,
     "metadata": {},
     "output_type": "execute_result"
    }
   ],
   "source": [
    "rl.specificity(company_true_links, nb_company_pred, len(company_X))"
   ]
  },
  {
   "attachments": {},
   "cell_type": "markdown",
   "metadata": {},
   "source": [
    "# Labeling tramite metodi ML"
   ]
  },
  {
   "cell_type": "code",
   "execution_count": 65,
   "metadata": {},
   "outputs": [],
   "source": [
    "svm_all_matches = rlSvm.predict(features) # gli indici di quelli che matchan"
   ]
  },
  {
   "cell_type": "code",
   "execution_count": 66,
   "metadata": {},
   "outputs": [
    {
     "name": "stdout",
     "output_type": "stream",
     "text": [
      "All candidates link size: 540835\n",
      "All linked pairs by SVM: 494607\n",
      "Remove candidate pairs: 46228\n"
     ]
    }
   ],
   "source": [
    "print(\"All candidates link size:\", len(features))\n",
    "print(\"All linked pairs by SVM:\", len(svm_all_matches))\n",
    "print(\"Remove candidate pairs:\", len(features)-len(svm_all_matches))"
   ]
  },
  {
   "cell_type": "code",
   "execution_count": 4,
   "metadata": {},
   "outputs": [],
   "source": [
    "schema_linked_path = \"./csv/schema_linked.csv\"\n"
   ]
  },
  {
   "cell_type": "code",
   "execution_count": null,
   "metadata": {},
   "outputs": [],
   "source": [
    "schema_linked = pd.DataFrame(schema_cleaned)\n",
    "nan = [\"nan\", \"Nan\", \"NaN\", \"Not found\", \"Not Found\", \"not found\", \"not Found\", \"NULL\", \"null\", \"Null\", \"None\", \"none\"]\n",
    "row_to_drop = set()\n",
    "\n",
    "# per ogni riga cui indice è in match con un altro\n",
    "for (idx_l, idx_r) in svm_all_matches:\n",
    "    # prendere la riga riferita al primo indice, riempire i campi con quelli dell'altra\n",
    "    # riempio solo le colonne che sono in Nan\n",
    "    curr_row_l = schema_linked.loc[idx_l] # riga del primo indice\n",
    "    curr_row_r = schema_linked.loc[idx_r] # riga del secondo indice\n",
    "    for column_data in schema_linked.columns:\n",
    "        curr_col_l = curr_row_l[column_data]\n",
    "        if pd.isnull(curr_col_l) or curr_col_l in nan:\n",
    "            # prendo il campo corrente ma della seconda ennupla\n",
    "            curr_col_r = curr_row_r[column_data]\n",
    "            # aggiorno il campo\n",
    "            schema_linked.at[idx_l, column_data] = curr_col_r\n",
    "    \n",
    "    # la seconda riga verrà droppata\n",
    "    row_to_drop.add(idx_r)\n",
    "\n",
    "# drop di tutte le righe cui campi hanno sostituito quelli delle righe presenti nello schema finale\n",
    "schema_linked.drop(row_to_drop, inplace=True)"
   ]
  },
  {
   "cell_type": "code",
   "execution_count": 68,
   "metadata": {},
   "outputs": [
    {
     "data": {
      "text/html": [
       "<div>\n",
       "<style scoped>\n",
       "    .dataframe tbody tr th:only-of-type {\n",
       "        vertical-align: middle;\n",
       "    }\n",
       "\n",
       "    .dataframe tbody tr th {\n",
       "        vertical-align: top;\n",
       "    }\n",
       "\n",
       "    .dataframe thead th {\n",
       "        text-align: right;\n",
       "    }\n",
       "</style>\n",
       "<table border=\"1\" class=\"dataframe\">\n",
       "  <thead>\n",
       "    <tr style=\"text-align: right;\">\n",
       "      <th></th>\n",
       "      <th>name</th>\n",
       "      <th>country</th>\n",
       "      <th>market cap</th>\n",
       "      <th>founded year</th>\n",
       "      <th>employees</th>\n",
       "      <th>industry</th>\n",
       "      <th>sector</th>\n",
       "      <th>ceo</th>\n",
       "      <th>revenue</th>\n",
       "      <th>stock</th>\n",
       "      <th>share price</th>\n",
       "      <th>city</th>\n",
       "      <th>address</th>\n",
       "      <th>website</th>\n",
       "    </tr>\n",
       "    <tr>\n",
       "      <th>id</th>\n",
       "      <th></th>\n",
       "      <th></th>\n",
       "      <th></th>\n",
       "      <th></th>\n",
       "      <th></th>\n",
       "      <th></th>\n",
       "      <th></th>\n",
       "      <th></th>\n",
       "      <th></th>\n",
       "      <th></th>\n",
       "      <th></th>\n",
       "      <th></th>\n",
       "      <th></th>\n",
       "      <th></th>\n",
       "    </tr>\n",
       "  </thead>\n",
       "  <tbody>\n",
       "    <tr>\n",
       "      <th>10682</th>\n",
       "      <td>superit srl</td>\n",
       "      <td>NaN</td>\n",
       "      <td>NaN</td>\n",
       "      <td>NaN</td>\n",
       "      <td>NaN</td>\n",
       "      <td>finance insurance and real estate</td>\n",
       "      <td>NaN</td>\n",
       "      <td>NaN</td>\n",
       "      <td>NaN</td>\n",
       "      <td>NaN</td>\n",
       "      <td>NaN</td>\n",
       "      <td>NaN</td>\n",
       "      <td>via vittor pisani 20 milano 20124 milano italy</td>\n",
       "      <td>NaN</td>\n",
       "    </tr>\n",
       "    <tr>\n",
       "      <th>10685</th>\n",
       "      <td>send to me srl</td>\n",
       "      <td>NaN</td>\n",
       "      <td>NaN</td>\n",
       "      <td>NaN</td>\n",
       "      <td>NaN</td>\n",
       "      <td>services</td>\n",
       "      <td>NaN</td>\n",
       "      <td>NaN</td>\n",
       "      <td>NaN</td>\n",
       "      <td>NaN</td>\n",
       "      <td>NaN</td>\n",
       "      <td>NaN</td>\n",
       "      <td>viale ungheria 46 milano 20138 milano italy</td>\n",
       "      <td>NaN</td>\n",
       "    </tr>\n",
       "    <tr>\n",
       "      <th>10686</th>\n",
       "      <td>intesa sanpaolo vita spa</td>\n",
       "      <td>NaN</td>\n",
       "      <td>NaN</td>\n",
       "      <td>NaN</td>\n",
       "      <td>NaN</td>\n",
       "      <td>finance insurance and real estate</td>\n",
       "      <td>NaN</td>\n",
       "      <td>NaN</td>\n",
       "      <td>NaN</td>\n",
       "      <td>NaN</td>\n",
       "      <td>NaN</td>\n",
       "      <td>NaN</td>\n",
       "      <td>corso inghilterra 3 torino 10138 torino italy</td>\n",
       "      <td>NaN</td>\n",
       "    </tr>\n",
       "    <tr>\n",
       "      <th>10688</th>\n",
       "      <td>totalenergies petrochemicals &amp; refining sa nv</td>\n",
       "      <td>NaN</td>\n",
       "      <td>NaN</td>\n",
       "      <td>NaN</td>\n",
       "      <td>NaN</td>\n",
       "      <td>wholesale trade</td>\n",
       "      <td>NaN</td>\n",
       "      <td>NaN</td>\n",
       "      <td>NaN</td>\n",
       "      <td>NaN</td>\n",
       "      <td>NaN</td>\n",
       "      <td>NaN</td>\n",
       "      <td>via rombon 11 milano 20134 milano italy</td>\n",
       "      <td>NaN</td>\n",
       "    </tr>\n",
       "    <tr>\n",
       "      <th>10689</th>\n",
       "      <td>sanastera spa</td>\n",
       "      <td>NaN</td>\n",
       "      <td>NaN</td>\n",
       "      <td>NaN</td>\n",
       "      <td>NaN</td>\n",
       "      <td>finance insurance and real estate</td>\n",
       "      <td>NaN</td>\n",
       "      <td>NaN</td>\n",
       "      <td>NaN</td>\n",
       "      <td>NaN</td>\n",
       "      <td>NaN</td>\n",
       "      <td>NaN</td>\n",
       "      <td>piazza minghetti 4d bologna 40124 bologna italy</td>\n",
       "      <td>NaN</td>\n",
       "    </tr>\n",
       "    <tr>\n",
       "      <th>...</th>\n",
       "      <td>...</td>\n",
       "      <td>...</td>\n",
       "      <td>...</td>\n",
       "      <td>...</td>\n",
       "      <td>...</td>\n",
       "      <td>...</td>\n",
       "      <td>...</td>\n",
       "      <td>...</td>\n",
       "      <td>...</td>\n",
       "      <td>...</td>\n",
       "      <td>...</td>\n",
       "      <td>...</td>\n",
       "      <td>...</td>\n",
       "      <td>...</td>\n",
       "    </tr>\n",
       "    <tr>\n",
       "      <th>188551</th>\n",
       "      <td>pepsico</td>\n",
       "      <td>usa</td>\n",
       "      <td>$241.05 billion</td>\n",
       "      <td>august 28 1898</td>\n",
       "      <td>309000</td>\n",
       "      <td>beveragesnonalcoholic</td>\n",
       "      <td>consumer staples</td>\n",
       "      <td>mr. ramon luis laguarta</td>\n",
       "      <td>us$70.37 billion 2020</td>\n",
       "      <td>NaN</td>\n",
       "      <td>181</td>\n",
       "      <td>NaN</td>\n",
       "      <td>NaN</td>\n",
       "      <td>httpswww.pepsico.com</td>\n",
       "    </tr>\n",
       "    <tr>\n",
       "      <th>188552</th>\n",
       "      <td>costco</td>\n",
       "      <td>usa</td>\n",
       "      <td>$258.15 billion</td>\n",
       "      <td>july 12 1976</td>\n",
       "      <td>288000</td>\n",
       "      <td>discount stores</td>\n",
       "      <td>consumer staples</td>\n",
       "      <td>mr. w. craig jelinek</td>\n",
       "      <td>us$166.76 billion 2020</td>\n",
       "      <td>NaN</td>\n",
       "      <td>483</td>\n",
       "      <td>NaN</td>\n",
       "      <td>NaN</td>\n",
       "      <td>NaN</td>\n",
       "    </tr>\n",
       "    <tr>\n",
       "      <th>188553</th>\n",
       "      <td>broadcom</td>\n",
       "      <td>usa</td>\n",
       "      <td>$265.27 billion</td>\n",
       "      <td>1961</td>\n",
       "      <td>20000</td>\n",
       "      <td>semiconductors</td>\n",
       "      <td>technology</td>\n",
       "      <td>mr. hock e. tan</td>\n",
       "      <td>us$23.89 billion 2020</td>\n",
       "      <td>NaN</td>\n",
       "      <td>588</td>\n",
       "      <td>NaN</td>\n",
       "      <td>NaN</td>\n",
       "      <td>httpswww.broadcom.com</td>\n",
       "    </tr>\n",
       "    <tr>\n",
       "      <th>188554</th>\n",
       "      <td>coca-cola</td>\n",
       "      <td>usa</td>\n",
       "      <td>$273.20 billion</td>\n",
       "      <td>january 29 1892</td>\n",
       "      <td>79000</td>\n",
       "      <td>beveragesnonalcoholic</td>\n",
       "      <td>consumer staples</td>\n",
       "      <td>mr. james robert b. quincey</td>\n",
       "      <td>us$37.27 billion 2019</td>\n",
       "      <td>NaN</td>\n",
       "      <td>63</td>\n",
       "      <td>NaN</td>\n",
       "      <td>NaN</td>\n",
       "      <td>NaN</td>\n",
       "    </tr>\n",
       "    <tr>\n",
       "      <th>188555</th>\n",
       "      <td>lilly</td>\n",
       "      <td>united states</td>\n",
       "      <td>$273.01 billion</td>\n",
       "      <td>1876</td>\n",
       "      <td>35000</td>\n",
       "      <td>drug manufacturersgeneral</td>\n",
       "      <td>healthcare</td>\n",
       "      <td>mr. david a. ricks</td>\n",
       "      <td>us$22.319 billion 2019</td>\n",
       "      <td>NaN</td>\n",
       "      <td>NaN</td>\n",
       "      <td>NaN</td>\n",
       "      <td>NaN</td>\n",
       "      <td>NaN</td>\n",
       "    </tr>\n",
       "  </tbody>\n",
       "</table>\n",
       "<p>65941 rows × 14 columns</p>\n",
       "</div>"
      ],
      "text/plain": [
       "                                                 name        country  \\\n",
       "id                                                                     \n",
       "10682                                     superit srl            NaN   \n",
       "10685                                  send to me srl            NaN   \n",
       "10686                        intesa sanpaolo vita spa            NaN   \n",
       "10688   totalenergies petrochemicals & refining sa nv            NaN   \n",
       "10689                                   sanastera spa            NaN   \n",
       "...                                               ...            ...   \n",
       "188551                                        pepsico            usa   \n",
       "188552                                         costco            usa   \n",
       "188553                                       broadcom            usa   \n",
       "188554                                      coca-cola            usa   \n",
       "188555                                          lilly  united states   \n",
       "\n",
       "             market cap     founded year employees  \\\n",
       "id                                                   \n",
       "10682               NaN              NaN       NaN   \n",
       "10685               NaN              NaN       NaN   \n",
       "10686               NaN              NaN       NaN   \n",
       "10688               NaN              NaN       NaN   \n",
       "10689               NaN              NaN       NaN   \n",
       "...                 ...              ...       ...   \n",
       "188551  $241.05 billion   august 28 1898    309000   \n",
       "188552  $258.15 billion     july 12 1976    288000   \n",
       "188553  $265.27 billion             1961     20000   \n",
       "188554  $273.20 billion  january 29 1892     79000   \n",
       "188555  $273.01 billion             1876     35000   \n",
       "\n",
       "                                 industry            sector  \\\n",
       "id                                                            \n",
       "10682   finance insurance and real estate               NaN   \n",
       "10685                            services               NaN   \n",
       "10686   finance insurance and real estate               NaN   \n",
       "10688                     wholesale trade               NaN   \n",
       "10689   finance insurance and real estate               NaN   \n",
       "...                                   ...               ...   \n",
       "188551              beveragesnonalcoholic  consumer staples   \n",
       "188552                    discount stores  consumer staples   \n",
       "188553                     semiconductors        technology   \n",
       "188554              beveragesnonalcoholic  consumer staples   \n",
       "188555          drug manufacturersgeneral        healthcare   \n",
       "\n",
       "                                ceo                 revenue stock share price  \\\n",
       "id                                                                              \n",
       "10682                           NaN                     NaN   NaN         NaN   \n",
       "10685                           NaN                     NaN   NaN         NaN   \n",
       "10686                           NaN                     NaN   NaN         NaN   \n",
       "10688                           NaN                     NaN   NaN         NaN   \n",
       "10689                           NaN                     NaN   NaN         NaN   \n",
       "...                             ...                     ...   ...         ...   \n",
       "188551      mr. ramon luis laguarta   us$70.37 billion 2020   NaN         181   \n",
       "188552         mr. w. craig jelinek  us$166.76 billion 2020   NaN         483   \n",
       "188553              mr. hock e. tan   us$23.89 billion 2020   NaN         588   \n",
       "188554  mr. james robert b. quincey   us$37.27 billion 2019   NaN          63   \n",
       "188555           mr. david a. ricks  us$22.319 billion 2019   NaN         NaN   \n",
       "\n",
       "       city                                          address  \\\n",
       "id                                                             \n",
       "10682   NaN   via vittor pisani 20 milano 20124 milano italy   \n",
       "10685   NaN      viale ungheria 46 milano 20138 milano italy   \n",
       "10686   NaN    corso inghilterra 3 torino 10138 torino italy   \n",
       "10688   NaN          via rombon 11 milano 20134 milano italy   \n",
       "10689   NaN  piazza minghetti 4d bologna 40124 bologna italy   \n",
       "...     ...                                              ...   \n",
       "188551  NaN                                              NaN   \n",
       "188552  NaN                                              NaN   \n",
       "188553  NaN                                              NaN   \n",
       "188554  NaN                                              NaN   \n",
       "188555  NaN                                              NaN   \n",
       "\n",
       "                      website  \n",
       "id                             \n",
       "10682                     NaN  \n",
       "10685                     NaN  \n",
       "10686                     NaN  \n",
       "10688                     NaN  \n",
       "10689                     NaN  \n",
       "...                       ...  \n",
       "188551   httpswww.pepsico.com  \n",
       "188552                    NaN  \n",
       "188553  httpswww.broadcom.com  \n",
       "188554                    NaN  \n",
       "188555                    NaN  \n",
       "\n",
       "[65941 rows x 14 columns]"
      ]
     },
     "execution_count": 68,
     "metadata": {},
     "output_type": "execute_result"
    }
   ],
   "source": [
    "schema_linked"
   ]
  },
  {
   "cell_type": "code",
   "execution_count": 69,
   "metadata": {},
   "outputs": [],
   "source": [
    "schema_linked.to_csv(schema_linked_path, index_label=\"id\")"
   ]
  },
  {
   "cell_type": "code",
   "execution_count": 7,
   "metadata": {},
   "outputs": [
    {
     "name": "stderr",
     "output_type": "stream",
     "text": [
      "/var/folders/zq/pjr33nrn6175lz95s2t31wz00000gn/T/ipykernel_5023/3705259758.py:1: DtypeWarning: Columns (11) have mixed types. Specify dtype option on import or set low_memory=False.\n",
      "  schema_linked = pd.read_csv(schema_linked_path, index_col=0)\n"
     ]
    }
   ],
   "source": [
    "schema_linked = pd.read_csv(schema_linked_path, index_col=0)\n",
    "schema_linked_jsonpath = './csv/schema_linked.json'\n",
    "schema_linked.reset_index()\n",
    "schema_linked.to_json(schema_linked_jsonpath)"
   ]
  }
 ],
 "metadata": {
  "kernelspec": {
   "display_name": "IDD",
   "language": "python",
   "name": "python3"
  },
  "language_info": {
   "codemirror_mode": {
    "name": "ipython",
    "version": 3
   },
   "file_extension": ".py",
   "mimetype": "text/x-python",
   "name": "python",
   "nbconvert_exporter": "python",
   "pygments_lexer": "ipython3",
   "version": "3.10.9"
  },
  "orig_nbformat": 4,
  "vscode": {
   "interpreter": {
    "hash": "7ce6619c7d95fa66adab3aa560eb20f28a01e1f23fb927f9fbc92f5fa3f739e8"
   }
  }
 },
 "nbformat": 4,
 "nbformat_minor": 2
}
