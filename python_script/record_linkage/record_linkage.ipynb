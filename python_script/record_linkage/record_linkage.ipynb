{
 "cells": [
  {
   "cell_type": "code",
   "execution_count": null,
   "metadata": {},
   "outputs": [],
   "source": [
    "import recordlinkage as rl\n",
    "import pandas as pd\n",
    "import os\n",
    "import random as ran\n",
    "from sklearn.model_selection import GridSearchCV"
   ]
  },
  {
   "cell_type": "code",
   "execution_count": null,
   "metadata": {},
   "outputs": [],
   "source": [
    "schema_path = \"../schema_matching/csv/schema_final.csv\""
   ]
  },
  {
   "cell_type": "code",
   "execution_count": null,
   "metadata": {},
   "outputs": [],
   "source": [
    "schema = pd.read_csv(schema_path, index_col=0)\n",
    "schema = schema.reset_index(drop=True) # Per evitare che gli indici siano letti come decimanli (i.e. 1.0 invece di 1)"
   ]
  },
  {
   "attachments": {},
   "cell_type": "markdown",
   "metadata": {},
   "source": [
    "# Preprocessamento"
   ]
  },
  {
   "cell_type": "code",
   "execution_count": null,
   "metadata": {},
   "outputs": [],
   "source": [
    "from recordlinkage.preprocessing import *"
   ]
  },
  {
   "attachments": {},
   "cell_type": "markdown",
   "metadata": {},
   "source": [
    "## Cleaning dei dati ..."
   ]
  },
  {
   "cell_type": "code",
   "execution_count": null,
   "metadata": {},
   "outputs": [],
   "source": [
    "schema_cleaned = schema # creo una copia per non modificare lo schema iniziale\n",
    "schema_cleaned_path = \"./csv/schema_cleaned.csv\""
   ]
  },
  {
   "cell_type": "code",
   "execution_count": null,
   "metadata": {},
   "outputs": [],
   "source": [
    "# Cleaning dei dati iterando per riga\n",
    "for i in range(len(schema.index)):\n",
    "    row = schema.iloc[i]\n",
    "    row_series = row.squeeze() # BOO\n",
    "    nome = pd.Series(row[\"name\"])\n",
    "    try:\n",
    "        nome_cleaned = clean(nome, lowercase=True, replace_by_none='\\\\n', replace_by_whitespace='\\ {2,}', strip_accents='unicode', remove_brackets=False, encoding='utf-8', decode_error='strict')\n",
    "    except:\n",
    "        print(nome)\n",
    "    # Si evita il cleaning di caratteri relative alle valute presenti nei datasets\n",
    "    row_series_cleaned = clean(row_series, lowercase=True, replace_by_none=r'[^ \\\\.\\\\-\\\\_A-Za-z0-9$€£¥₩₽₹฿₪¤¢₺₱]+', replace_by_whitespace=r'[\\\\-\\\\_]', strip_accents=None, remove_brackets=False, encoding='utf-8', decode_error='strict')\n",
    "    schema_cleaned.iloc[i] = row_series_cleaned\n",
    "    schema_cleaned.iloc[i][\"name\"] = nome_cleaned[0]"
   ]
  },
  {
   "cell_type": "code",
   "execution_count": null,
   "metadata": {},
   "outputs": [],
   "source": [
    "schema_cleaned.to_csv(schema_cleaned_path, index_label=\"id\")"
   ]
  },
  {
   "attachments": {},
   "cell_type": "markdown",
   "metadata": {},
   "source": [
    "# Occorrenze token per riga"
   ]
  },
  {
   "cell_type": "code",
   "execution_count": null,
   "metadata": {},
   "outputs": [],
   "source": [
    "# value_occurence(schema)"
   ]
  },
  {
   "attachments": {},
   "cell_type": "markdown",
   "metadata": {},
   "source": [
    "# Blocking"
   ]
  },
  {
   "cell_type": "code",
   "execution_count": null,
   "metadata": {},
   "outputs": [],
   "source": [
    "indexer = rl.Index()\n",
    "indexer.block(left_on='name', right_on='name')\n",
    "candidate_links = indexer.index(schema_cleaned)\n",
    "print(candidate_links)"
   ]
  },
  {
   "attachments": {},
   "cell_type": "markdown",
   "metadata": {},
   "source": [
    "# Labeling"
   ]
  },
  {
   "cell_type": "code",
   "execution_count": null,
   "metadata": {},
   "outputs": [],
   "source": [
    "keys = ['name', 'country', 'market cap', 'founded year', 'employees', 'industry', 'sector',\n",
    "     'ceo', 'revenue', 'stock', 'share price', 'city', 'address', 'website']\n",
    "\n",
    "clear = lambda: os.system('clear')"
   ]
  },
  {
   "cell_type": "code",
   "execution_count": null,
   "metadata": {},
   "outputs": [],
   "source": [
    "n_sampled_matches = 30000\n",
    "choices = ran.choices(candidate_links, k=n_sampled_matches)\n",
    "\n",
    "lKeys = {key : f\"l_{key}\" for key in keys}\n",
    "rKeys = {key : f\"r_{key}\" for key in keys}\n",
    "\n",
    "idxKeys = [\"id_1\", \"id_2\"]\n",
    "\n",
    "choices_column = [*idxKeys, *lKeys.values(), *rKeys.values()] # id_1, id_2, l_attr, r_attr\n",
    "choices_df = pd.DataFrame(columns=choices_column) # \n",
    "for choice in choices:\n",
    "    lRow = schema_cleaned.iloc[[choice[0]]]\n",
    "    rRow = schema_cleaned.iloc[[choice[1]]]\n",
    "\n",
    "    lRow = lRow.rename(columns=lKeys).reset_index(drop=True)\n",
    "    rRow = rRow.rename(columns=rKeys).reset_index(drop=True)\n",
    "\n",
    "    idxs = pd.DataFrame({idxKeys[0]: [choice[0]], idxKeys[1]: [choice[1]]})\n",
    "    row = pd.concat([idxs, lRow, rRow], axis=1)\n",
    "    choices_df = pd.concat([choices_df, row], axis=0)\n",
    "\n",
    "# choices_df.reset_index(inplace=True)\n",
    "choices_df.set_index(idxKeys)"
   ]
  },
  {
   "cell_type": "code",
   "execution_count": null,
   "metadata": {},
   "outputs": [],
   "source": [
    "choices_path = \"./csv/choices.csv\"\n",
    "choices_df.to_csv(choices_path, index=None)"
   ]
  },
  {
   "cell_type": "code",
   "execution_count": null,
   "metadata": {},
   "outputs": [],
   "source": [
    "choices_path_gallo = \"./csv/gallo.csv\"\n",
    "choices_path_gatto = \"./csv/gatto.csv\"\n",
    "choices_path_moli = \"./csv/moli.csv\"\n",
    "\n",
    "sampled_matches_per_person = n_sampled_matches//3\n",
    "\n",
    "choices_df_gallo = choices_df.iloc[:sampled_matches_per_person]\n",
    "print(len(choices_df_gallo))\n",
    "\n",
    "choices_df_gatto = choices_df.iloc[sampled_matches_per_person:2*sampled_matches_per_person]\n",
    "print(len(choices_df_gatto))\n",
    "\n",
    "choices_df_moli = choices_df.iloc[2*sampled_matches_per_person:]\n",
    "print(len(choices_df_moli))\n",
    "\n",
    "choices_df_gallo.to_csv(choices_path_gallo, index=None)\n",
    "choices_df_gatto.to_csv(choices_path_gatto, index=None)\n",
    "choices_df_moli.to_csv(choices_path_moli, index=None)"
   ]
  },
  {
   "attachments": {},
   "cell_type": "markdown",
   "metadata": {},
   "source": [
    "# Comparing"
   ]
  },
  {
   "cell_type": "code",
   "execution_count": null,
   "metadata": {},
   "outputs": [],
   "source": [
    "compare_cl = rl.Compare()\n",
    "compare_cl.string(\"name\", \"name\", threshold=0.85, label=\"name\")\n",
    "compare_cl.string(\"country\", \"country\", label=\"country\")\n",
    "compare_cl.string(\"founded year\", \"founded year\", label=\"founded year\")\n",
    "compare_cl.string(\"industry\", \"industry\", label=\"industry\")\n",
    "compare_cl.string(\"sector\", \"sector\", label=\"sector\")\n",
    "compare_cl.string(\"address\", \"address\", label=\"address\")\n",
    "compare_cl.string(\"city\", \"city\", label=\"city\")\n",
    "compare_cl.string(\"ceo\", \"ceo\", label=\"ceo\")\n",
    "features = compare_cl.compute(candidate_links, schema, schema)"
   ]
  },
  {
   "cell_type": "code",
   "execution_count": null,
   "metadata": {},
   "outputs": [],
   "source": [
    "features"
   ]
  },
  {
   "cell_type": "code",
   "execution_count": null,
   "metadata": {},
   "outputs": [],
   "source": [
    "features.describe()"
   ]
  },
  {
   "cell_type": "code",
   "execution_count": null,
   "metadata": {},
   "outputs": [],
   "source": [
    "features.sum(axis=1).value_counts().sort_index(ascending=False)"
   ]
  },
  {
   "cell_type": "code",
   "execution_count": null,
   "metadata": {},
   "outputs": [],
   "source": [
    "record_linked = features[features.sum(axis=1) > 1]"
   ]
  },
  {
   "cell_type": "code",
   "execution_count": null,
   "metadata": {},
   "outputs": [],
   "source": [
    "print(record_linked)"
   ]
  },
  {
   "attachments": {},
   "cell_type": "markdown",
   "metadata": {},
   "source": [
    "# Caricamento dei dataset per classificazione"
   ]
  },
  {
   "cell_type": "code",
   "execution_count": null,
   "metadata": {},
   "outputs": [],
   "source": [
    "golden_path_gallo = \"./csv/golden_links_gallo.csv\"\n",
    "golden_path_gatto = \"./csv/golden_links_gatto.csv\"\n",
    "golden_path_moli = \"./csv/golden_links_moli.csv\"\n",
    "\n",
    "golden_gallo = pd.read_csv(golden_path_gallo, index_col=None)\n",
    "golden_gatto = pd.read_csv(golden_path_gatto, index_col=None)\n",
    "golden_moli = pd.read_csv(golden_path_moli, index_col=None)\n",
    "\n",
    "golden = pd.concat([golden_gallo, golden_gatto, golden_moli], axis=0)\n",
    "\n",
    "golden_path = \"./csv/golden_links.csv\"\n",
    "\n",
    "golden = golden.reset_index(drop=True)\n",
    "golden.to_csv(golden_path, index=None)"
   ]
  },
  {
   "cell_type": "code",
   "execution_count": null,
   "metadata": {},
   "outputs": [],
   "source": [
    "golden = pd.read_csv(golden_path, index_col=[0,1])\n",
    "golden_links = golden[golden[\"label\"]==1].index"
   ]
  },
  {
   "attachments": {},
   "cell_type": "markdown",
   "metadata": {},
   "source": [
    "# Classification (Unsupervised)"
   ]
  },
  {
   "cell_type": "code",
   "execution_count": null,
   "metadata": {},
   "outputs": [],
   "source": [
    "ECM = rl.ECMClassifier(binarize=0.6)\n",
    "result = ECM.fit_predict(record_linked)\n",
    "print(\"Possible record linked size:\", len(record_linked))\n",
    "print(\"Record linked size:\", len(result))\n",
    "print(f\"Removed {len(record_linked) - len(result)} possible links\")"
   ]
  },
  {
   "attachments": {},
   "cell_type": "markdown",
   "metadata": {},
   "source": [
    "# Evaluation (Unsupervised)"
   ]
  },
  {
   "attachments": {},
   "cell_type": "markdown",
   "metadata": {},
   "source": [
    "### Confusion matrix"
   ]
  },
  {
   "cell_type": "code",
   "execution_count": null,
   "metadata": {},
   "outputs": [],
   "source": [
    "rl.confusion_matrix(golden_links, result)"
   ]
  },
  {
   "attachments": {},
   "cell_type": "markdown",
   "metadata": {},
   "source": [
    "### Precision"
   ]
  },
  {
   "cell_type": "code",
   "execution_count": null,
   "metadata": {},
   "outputs": [],
   "source": [
    "rl.precision(golden_links, result)"
   ]
  },
  {
   "attachments": {},
   "cell_type": "markdown",
   "metadata": {},
   "source": [
    "### Recall"
   ]
  },
  {
   "cell_type": "code",
   "execution_count": null,
   "metadata": {},
   "outputs": [],
   "source": [
    "rl.recall(golden_links, result)"
   ]
  },
  {
   "attachments": {},
   "cell_type": "markdown",
   "metadata": {},
   "source": [
    "### Accuracy"
   ]
  },
  {
   "cell_type": "code",
   "execution_count": null,
   "metadata": {},
   "outputs": [],
   "source": [
    "rl.accuracy(golden_links, result)"
   ]
  },
  {
   "attachments": {},
   "cell_type": "markdown",
   "metadata": {},
   "source": [
    "### F-score"
   ]
  },
  {
   "cell_type": "code",
   "execution_count": null,
   "metadata": {},
   "outputs": [],
   "source": [
    "rl.fscore(golden_links, result)"
   ]
  },
  {
   "attachments": {},
   "cell_type": "markdown",
   "metadata": {},
   "source": [
    "### Specificity"
   ]
  },
  {
   "cell_type": "code",
   "execution_count": null,
   "metadata": {},
   "outputs": [],
   "source": [
    "rl.specificity(golden_links, result)"
   ]
  },
  {
   "attachments": {},
   "cell_type": "markdown",
   "metadata": {},
   "source": [
    "# Classification (Supervised)"
   ]
  },
  {
   "cell_type": "code",
   "execution_count": null,
   "metadata": {},
   "outputs": [],
   "source": [
    "rlSvm = rl.SVMClassifier()\n",
    "params = {}\n",
    "gridSearch = GridSearchCV(estimator=rlSvm, param_grid=params)"
   ]
  },
  {
   "attachments": {},
   "cell_type": "markdown",
   "metadata": {},
   "source": [
    "# Evaluation (Supervised)"
   ]
  },
  {
   "cell_type": "markdown",
   "metadata": {},
   "source": [
    "### Confusion matrix"
   ]
  },
  {
   "cell_type": "code",
   "execution_count": null,
   "metadata": {},
   "outputs": [],
   "source": [
    "rl.confusion_matrix(golden_links, )"
   ]
  },
  {
   "cell_type": "markdown",
   "metadata": {},
   "source": [
    "### Precision"
   ]
  },
  {
   "cell_type": "code",
   "execution_count": null,
   "metadata": {},
   "outputs": [],
   "source": [
    "rl.precision(golden_links,)"
   ]
  },
  {
   "cell_type": "markdown",
   "metadata": {},
   "source": [
    "### Recall"
   ]
  },
  {
   "cell_type": "code",
   "execution_count": null,
   "metadata": {},
   "outputs": [],
   "source": [
    "rl.recall(golden_links,)"
   ]
  },
  {
   "cell_type": "markdown",
   "metadata": {},
   "source": [
    "### Accuracy"
   ]
  },
  {
   "cell_type": "code",
   "execution_count": null,
   "metadata": {},
   "outputs": [],
   "source": [
    "rl.accuracy(golden_links,)"
   ]
  },
  {
   "cell_type": "markdown",
   "metadata": {},
   "source": [
    "### F-score"
   ]
  },
  {
   "cell_type": "code",
   "execution_count": null,
   "metadata": {},
   "outputs": [],
   "source": [
    "rl.fscore(golden_links,)"
   ]
  },
  {
   "cell_type": "markdown",
   "metadata": {},
   "source": [
    "### Specificity"
   ]
  },
  {
   "cell_type": "code",
   "execution_count": null,
   "metadata": {},
   "outputs": [],
   "source": [
    "rl.specificity(golden_links,)"
   ]
  }
 ],
 "metadata": {
  "kernelspec": {
   "display_name": "hw8",
   "language": "python",
   "name": "python3"
  },
  "language_info": {
   "codemirror_mode": {
    "name": "ipython",
    "version": 3
   },
   "file_extension": ".py",
   "mimetype": "text/x-python",
   "name": "python",
   "nbconvert_exporter": "python",
   "pygments_lexer": "ipython3",
   "version": "3.10.9"
  },
  "orig_nbformat": 4,
  "vscode": {
   "interpreter": {
    "hash": "20fe05bf6d812f8581d0c3885f26a8156e46b0ff73914791c267a01ece645732"
   }
  }
 },
 "nbformat": 4,
 "nbformat_minor": 2
}
