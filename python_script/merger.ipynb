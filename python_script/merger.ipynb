{
 "cells": [
  {
   "cell_type": "code",
   "execution_count": null,
   "metadata": {},
   "outputs": [],
   "source": [
    "Security_5a7098f0c868a712fd740a7b, ICAO_5a70aa27c868a712fd75b3a4, Company_5a70c699c868a712fd7819b9, Call sign_5a70aa27c868a712fd75b3a4, Company_5a708e29c868a712fd72e48d, Airline_5a70aa27c868a712fd75b3a4, Company_5a709ca3c868a712fd746a77, Company_5a70d80bc868a712fd79b554, Added_5a7098f0c868a712fd740a7c, Clothing Stores in UK_5a70e94ac868a712fd7b3a62, Company_5a70db62c868a712fd79e667, Name_5a708f2dc868a712fd72f7f0, 0_5a70d1f9c868a712fd792477, Name_5a7098e5c868a712fd740889, Make_5a708ca3c868a712fd72c735, Company_5a70ab31c868a712fd75cc0e, Meaning_5a708abfc868a712fd72abe9, Name_5a70928ec868a712fd7343db, Airline_5a708f2fc868a712fd72f81c, Customer_5a70edaac868a712fd7bb3e3, Company_5a70a301c868a712fd7511ce, Island name_5a70c569c868a712fd77fbea, English_5a708b9fc868a712fd72ba3b, Company_5a70ac45c868a712fd75e6e6, Surname_5a70bac8c868a712fd771d03, Lake_5a7091c3c868a712fd732dd8, Name_5a708d9fc868a712fd72d9e4, Name_5a70a031c868a712fd74c51c, Company_5a708b7ac868a712fd72b7c6, Company_5a7098d3c868a712fd7406d5, Manufacturer_5a70d572c868a712fd79767a, English_5a708b9fc868a712fd72ba3c, Name of the PSU_5a70ae78c868a712fd761e40, 0_5a70abc2c868a712fd75d899, Developer_5a70e06bc868a712fd7a5ea8, Company_5a70c813c868a712fd783968, Company_5a70a2bac868a712fd75071a, Ticker symbol_5a7098f0c868a712fd740a7b, Make_5a70d19fc868a712fd791e31, Source of Wealth_5a70ad54c868a712fd7601cd, Name_5a708e81c868a712fd72ec57, Site_5a70d48ec868a712fd79611c, Company_5a709467c868a712fd737622, Company_5a70943dc868a712fd73721a, Source of Wealth_5a70ad54c868a712fd7601cc, Removed_5a7098f0c868a712fd740a7c, Developer_5a70d47cc868a712fd795f88, English_5a708b9fc868a712fd72ba36, Developer(s)_5a708f71c868a712fd72fd4d, Manufacturer_5a709ec0c868a712fd749c60"
   ]
  }
 ],
 "metadata": {
  "language_info": {
   "name": "python"
  },
  "orig_nbformat": 4
 },
 "nbformat": 4,
 "nbformat_minor": 2
}
